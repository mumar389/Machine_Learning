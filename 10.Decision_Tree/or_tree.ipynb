{
 "cells": [
  {
   "cell_type": "code",
   "execution_count": 3,
   "metadata": {},
   "outputs": [
    {
     "name": "stdout",
     "output_type": "stream",
     "text": [
      "Input  Output\n",
      "[0 0]   0\n",
      "[0 1]   1\n",
      "[1 0]   1\n",
      "[1 1]   1\n"
     ]
    }
   ],
   "source": [
    "from sklearn.tree import DecisionTreeClassifier\n",
    "from sklearn.tree import export_graphviz\n",
    "import pydotplus\n",
    "import numpy as np\n",
    "\n",
    "# Define the OR operation truth table\n",
    "X = np.array([[0, 0], [0, 1], [1, 0], [1, 1]])  # Input features\n",
    "y = np.array([0, 1, 1, 1])  # Output labels (OR operation results)\n",
    "\n",
    "# Create a decision tree classifier\n",
    "clf = DecisionTreeClassifier()\n",
    "\n",
    "# Fit the classifier on the data\n",
    "clf.fit(X, y)\n",
    "dot_data = export_graphviz(clf, out_file=None)\n",
    "graph = pydotplus.graph_from_dot_data(dot_data)\n",
    "graph.write_pdf(\"or.pdf\")\n",
    "# Predict using the trained model\n",
    "predictions = clf.predict(X)\n",
    "\n",
    "# Print the predictions for the OR operation\n",
    "print(\"Input  Output\")\n",
    "for i in range(len(X)):\n",
    "    print(f\"{X[i]}   {predictions[i]}\")\n"
   ]
  }
 ],
 "metadata": {
  "kernelspec": {
   "display_name": "base",
   "language": "python",
   "name": "python3"
  },
  "language_info": {
   "codemirror_mode": {
    "name": "ipython",
    "version": 3
   },
   "file_extension": ".py",
   "mimetype": "text/x-python",
   "name": "python",
   "nbconvert_exporter": "python",
   "pygments_lexer": "ipython3",
   "version": "3.10.9"
  },
  "orig_nbformat": 4
 },
 "nbformat": 4,
 "nbformat_minor": 2
}
