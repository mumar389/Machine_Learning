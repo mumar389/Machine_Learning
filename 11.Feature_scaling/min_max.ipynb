{
 "cells": [
  {
   "cell_type": "code",
   "execution_count": 1,
   "metadata": {},
   "outputs": [
    {
     "name": "stdout",
     "output_type": "stream",
     "text": [
      "Original Data: [ 40  10 100  70  40]\n",
      "Scaled Data (Custom Range): [10.  5. 20. 15. 10.]\n"
     ]
    }
   ],
   "source": [
    "import numpy as np\n",
    "\n",
    "# Sample dataset with a single feature (column)\n",
    "data = np.array([40, 10, 100, 70, 40])\n",
    "\n",
    "# Define the desired range for min-max scaling\n",
    "min_range = 5\n",
    "max_range = 20\n",
    "\n",
    "# Step 2: Find the minimum and maximum values of the feature\n",
    "min_val = np.min(data)\n",
    "max_val = np.max(data)\n",
    "\n",
    "# Step 3: Scale the feature using min-max scaling formula with custom range\n",
    "scaled_data = (data - min_val) * (max_range - min_range) / (max_val - min_val) + min_range\n",
    "\n",
    "print(\"Original Data:\", data)\n",
    "print(\"Scaled Data (Custom Range):\", scaled_data)\n"
   ]
  }
 ],
 "metadata": {
  "kernelspec": {
   "display_name": "base",
   "language": "python",
   "name": "python3"
  },
  "language_info": {
   "codemirror_mode": {
    "name": "ipython",
    "version": 3
   },
   "file_extension": ".py",
   "mimetype": "text/x-python",
   "name": "python",
   "nbconvert_exporter": "python",
   "pygments_lexer": "ipython3",
   "version": "3.10.9"
  },
  "orig_nbformat": 4
 },
 "nbformat": 4,
 "nbformat_minor": 2
}
