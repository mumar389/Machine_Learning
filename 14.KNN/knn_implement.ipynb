{
 "cells": [
  {
   "cell_type": "code",
   "execution_count": 50,
   "metadata": {},
   "outputs": [],
   "source": [
    "import numpy as np\n",
    "import pandas as pd\n",
    "from sklearn.model_selection import train_test_split\n",
    "from sklearn.datasets import load_breast_cancer\n",
    "from sklearn.metrics import accuracy_score\n",
    "from collections import Counter"
   ]
  },
  {
   "cell_type": "code",
   "execution_count": 11,
   "metadata": {},
   "outputs": [],
   "source": [
    "data=load_breast_cancer()\n",
    "x_train,x_test,y_train,y_test=train_test_split(data.data,data.target,test_size=0.2,random_state=0)"
   ]
  },
  {
   "cell_type": "code",
   "execution_count": 33,
   "metadata": {},
   "outputs": [
    {
     "data": {
      "text/plain": [
       "(455,)"
      ]
     },
     "execution_count": 33,
     "metadata": {},
     "output_type": "execute_result"
    }
   ],
   "source": [
    "y_train.shape"
   ]
  },
  {
   "cell_type": "code",
   "execution_count": 70,
   "metadata": {},
   "outputs": [],
   "source": [
    "# #without using counter\n",
    "# def train(x,y):\n",
    "#     return\n",
    "# def predict_one(x_train,y_train,x,k):\n",
    "#     dist={}\n",
    "#     for i in range(len(x_train)):\n",
    "#         ec_dist=(((x-x_train[i])**2).sum())**(1/2)\n",
    "#         dist[ec_dist]=y_train[i]\n",
    "#     sorted_dist = sorted(dist.items())\n",
    "#     max_app=-11000\n",
    "#     output=-10\n",
    "#     k_dict=sorted_dist[:k]\n",
    "#     zeroCount=0\n",
    "#     oneCount=0\n",
    "#     for k,v in k_dict:\n",
    "#         if(v==0):\n",
    "#             zeroCount+=1\n",
    "#         else:\n",
    "#             oneCount+=1    \n",
    "#     if(oneCount>zeroCount):\n",
    "#         return 1\n",
    "#     else:\n",
    "#         return 0\n",
    "# def predict(x_train,y_train,x_test,k):\n",
    "#     predictions=[]\n",
    "#     for x in x_test:\n",
    "#         predictions.append(predict_one(x_train,y_train,x,k))\n",
    "#     return predictions"
   ]
  },
  {
   "cell_type": "code",
   "execution_count": 71,
   "metadata": {},
   "outputs": [],
   "source": [
    "#with using counter\n",
    "def train(x,y):\n",
    "    return\n",
    "def predict_one(x_train,y_train,x,k):\n",
    "    dist={}\n",
    "    for i in range(len(x_train)):\n",
    "        ec_dist=(((x-x_train[i])**2).sum())**(1/2)\n",
    "        dist[ec_dist]=y_train[i]\n",
    "    sorted_dist = sorted(dist.items())\n",
    "    target=[]\n",
    "    k_dict=sorted_dist[:k]\n",
    "    for k,v in k_dict:\n",
    "        target.append(v)\n",
    "    return Counter(target).most_common(1)[0][0]    \n",
    "    \n",
    "def predict(x_train,y_train,x_test,k):\n",
    "    predictions=[]\n",
    "    for x in x_test:\n",
    "        predictions.append(predict_one(x_train,y_train,x,k))\n",
    "    return predictions"
   ]
  },
  {
   "cell_type": "code",
   "execution_count": 72,
   "metadata": {},
   "outputs": [],
   "source": [
    "y_pred=predict(x_train,y_train,x_test,7)"
   ]
  },
  {
   "cell_type": "code",
   "execution_count": 75,
   "metadata": {},
   "outputs": [],
   "source": [
    "# y_pred"
   ]
  },
  {
   "cell_type": "code",
   "execution_count": 73,
   "metadata": {},
   "outputs": [
    {
     "data": {
      "text/plain": [
       "0.9473684210526315"
      ]
     },
     "execution_count": 73,
     "metadata": {},
     "output_type": "execute_result"
    }
   ],
   "source": [
    "accuracy_score(y_test,y_pred)"
   ]
  },
  {
   "cell_type": "code",
   "execution_count": 69,
   "metadata": {},
   "outputs": [
    {
     "name": "stdout",
     "output_type": "stream",
     "text": [
      "[(2.2, 0), (2.8, 1), (3.2, 0), (3.5, 1), (5.1, 1)]\n"
     ]
    },
    {
     "data": {
      "text/plain": [
       "0"
      ]
     },
     "execution_count": 69,
     "metadata": {},
     "output_type": "execute_result"
    }
   ],
   "source": [
    "dict={2.2:0,5.1:1,3.2:0,3.5:1,2.8:1}\n",
    "sort_dict=sorted(dict.items())\n",
    "target=[]\n",
    "k_dic=sort_dict[:3]\n",
    "for k,v in k_dic:\n",
    "    target.append(v)\n",
    "# target    \n",
    "# for i in dict:\n",
    "#     print(dict[i].count())\n",
    "print(sort_dict)\n",
    "Counter(target).most_common(1)[0][0]"
   ]
  }
 ],
 "metadata": {
  "kernelspec": {
   "display_name": "base",
   "language": "python",
   "name": "python3"
  },
  "language_info": {
   "codemirror_mode": {
    "name": "ipython",
    "version": 3
   },
   "file_extension": ".py",
   "mimetype": "text/x-python",
   "name": "python",
   "nbconvert_exporter": "python",
   "pygments_lexer": "ipython3",
   "version": "3.10.9"
  },
  "orig_nbformat": 4
 },
 "nbformat": 4,
 "nbformat_minor": 2
}
