{
 "cells": [
  {
   "cell_type": "code",
   "execution_count": 6,
   "metadata": {},
   "outputs": [],
   "source": [
    "import numpy as np\n",
    "from sklearn.datasets import load_breast_cancer\n",
    "from sklearn.preprocessing import StandardScaler\n",
    "from sklearn import ensemble\n",
    "from sklearn.model_selection import train_test_split\n",
    "from sklearn.decomposition import PCA\n",
    "from sklearn.linear_model import LogisticRegression\n",
    "import time"
   ]
  },
  {
   "cell_type": "code",
   "execution_count": 7,
   "metadata": {},
   "outputs": [
    {
     "data": {
      "text/plain": [
       "(569, 30)"
      ]
     },
     "execution_count": 7,
     "metadata": {},
     "output_type": "execute_result"
    }
   ],
   "source": [
    "data=load_breast_cancer()\n",
    "x=data.data\n",
    "x.shape"
   ]
  },
  {
   "cell_type": "code",
   "execution_count": 8,
   "metadata": {},
   "outputs": [],
   "source": [
    "sc=StandardScaler()\n",
    "x_td=sc.fit_transform(x)"
   ]
  },
  {
   "cell_type": "code",
   "execution_count": 9,
   "metadata": {},
   "outputs": [],
   "source": [
    "x_train,x_test,y_train,y_test=train_test_split(x_td,data.target,random_state=0)"
   ]
  },
  {
   "cell_type": "markdown",
   "metadata": {},
   "source": [
    "**We need to find the k for which accuracy is max**"
   ]
  },
  {
   "cell_type": "code",
   "execution_count": 10,
   "metadata": {},
   "outputs": [],
   "source": [
    "pca=PCA()"
   ]
  },
  {
   "cell_type": "code",
   "execution_count": 11,
   "metadata": {},
   "outputs": [
    {
     "data": {
      "text/plain": [
       "array([[-2.83807710e+00, -3.19380204e-01, -5.09786956e-01, ...,\n",
       "         2.21524204e-03,  1.76560105e-02,  2.17290491e-03],\n",
       "       [-3.23881077e+00,  9.46695152e-01,  1.46301470e+00, ...,\n",
       "        -3.50930341e-03,  1.56914143e-02,  1.44518116e-02],\n",
       "       [ 3.92831902e+00, -3.30091570e+00,  1.84183164e+00, ...,\n",
       "         2.00501871e-02, -3.44990391e-02, -1.16657352e-02],\n",
       "       ...,\n",
       "       [-3.17962251e+00,  4.33267733e-01,  5.77005027e-01, ...,\n",
       "         3.85704447e-02, -4.18716728e-02,  1.59435183e-02],\n",
       "       [-5.59141525e+00, -7.52889177e-01,  4.06478207e+00, ...,\n",
       "         1.97618354e-02, -1.70355933e-02,  4.38111630e-03],\n",
       "       [-1.20802261e+00,  1.32965049e+00,  1.26115052e+00, ...,\n",
       "        -1.32544095e-02, -1.58653526e-03, -1.14601436e-02]])"
      ]
     },
     "execution_count": 11,
     "metadata": {},
     "output_type": "execute_result"
    }
   ],
   "source": [
    "pca.fit_transform(x_train)"
   ]
  },
  {
   "cell_type": "code",
   "execution_count": 18,
   "metadata": {},
   "outputs": [
    {
     "data": {
      "text/plain": [
       "17"
      ]
     },
     "execution_count": 18,
     "metadata": {},
     "output_type": "execute_result"
    }
   ],
   "source": [
    "total=sum(pca.explained_variance_)\n",
    "k=0\n",
    "current_var=0\n",
    "while(current_var/total<0.99):\n",
    "    current_var+=pca.explained_variance_[k]\n",
    "    k=k+1\n",
    "k    "
   ]
  },
  {
   "cell_type": "code",
   "execution_count": 21,
   "metadata": {},
   "outputs": [
    {
     "data": {
      "text/plain": [
       "(426, 17)"
      ]
     },
     "execution_count": 21,
     "metadata": {},
     "output_type": "execute_result"
    }
   ],
   "source": [
    "pca=PCA(n_components=17)\n",
    "#it will find components on the basis of which data will be moved\n",
    "x_train_pca=pca.fit_transform(x_train)\n",
    "#components are already found we just need to move\n",
    "x_test_pca=pca.transform(x_test)\n",
    "x_train_pca.shape"
   ]
  }
 ],
 "metadata": {
  "kernelspec": {
   "display_name": "base",
   "language": "python",
   "name": "python3"
  },
  "language_info": {
   "codemirror_mode": {
    "name": "ipython",
    "version": 3
   },
   "file_extension": ".py",
   "mimetype": "text/x-python",
   "name": "python",
   "nbconvert_exporter": "python",
   "pygments_lexer": "ipython3",
   "version": "3.10.9"
  },
  "orig_nbformat": 4
 },
 "nbformat": 4,
 "nbformat_minor": 2
}
