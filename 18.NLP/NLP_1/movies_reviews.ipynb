{
 "cells": [
  {
   "cell_type": "code",
   "execution_count": 41,
   "metadata": {},
   "outputs": [],
   "source": [
    "from nltk.corpus import movie_reviews\n",
    "import nltk\n",
    "import random\n",
    "from nltk.stem import WordNetLemmatizer\n",
    "from nltk.tokenize import sent_tokenize,word_tokenize\n",
    "from nltk.corpus import stopwords\n",
    "from nltk import pos_tag\n",
    "from nltk.corpus import wordnet\n",
    "import string"
   ]
  },
  {
   "cell_type": "code",
   "execution_count": 32,
   "metadata": {},
   "outputs": [],
   "source": [
    "movie_reviews.categories()\n",
    "lemmatizer=WordNetLemmatizer()"
   ]
  },
  {
   "cell_type": "code",
   "execution_count": 47,
   "metadata": {},
   "outputs": [],
   "source": [
    "stops=stopwords.words('english')\n",
    "punc=list(string.punctuation)\n",
    "stops=stops+punc"
   ]
  },
  {
   "cell_type": "code",
   "execution_count": 15,
   "metadata": {},
   "outputs": [
    {
     "data": {
      "text/plain": [
       "2000"
      ]
     },
     "execution_count": 15,
     "metadata": {},
     "output_type": "execute_result"
    }
   ],
   "source": [
    "len(movie_reviews.fileids())\n",
    "#1000 -ve\n",
    "#1000 +ve       "
   ]
  },
  {
   "cell_type": "code",
   "execution_count": 23,
   "metadata": {},
   "outputs": [],
   "source": [
    "#it returns file id with positive reviews\n",
    "pos_rev=movie_reviews.fileids('pos')"
   ]
  },
  {
   "cell_type": "code",
   "execution_count": 24,
   "metadata": {},
   "outputs": [
    {
     "data": {
      "text/plain": [
       "['plot', ':', 'two', 'teen', 'couples', 'go', 'to', ...]"
      ]
     },
     "execution_count": 24,
     "metadata": {},
     "output_type": "execute_result"
    }
   ],
   "source": [
    "#we need to pass the file id here\n",
    "movie_reviews.words(movie_reviews.fileids())"
   ]
  },
  {
   "cell_type": "code",
   "execution_count": 26,
   "metadata": {},
   "outputs": [
    {
     "data": {
      "text/plain": [
       "(['the', 'happy', 'bastard', \"'\", 's', 'quick', 'movie', ...], 'neg')"
      ]
     },
     "execution_count": 26,
     "metadata": {},
     "output_type": "execute_result"
    }
   ],
   "source": [
    "documents=[]\n",
    "for category in movie_reviews.categories():\n",
    "    for fid in movie_reviews.fileids(category):\n",
    "        documents.append((movie_reviews.words(fid),category))\n",
    "documents[1]        "
   ]
  },
  {
   "cell_type": "markdown",
   "metadata": {},
   "source": [
    "***Shuffling to mix pos/neg so that it becomes easy for train_test_split***"
   ]
  },
  {
   "cell_type": "code",
   "execution_count": 28,
   "metadata": {},
   "outputs": [],
   "source": [
    "random.shuffle(documents)"
   ]
  },
  {
   "cell_type": "code",
   "execution_count": 36,
   "metadata": {},
   "outputs": [],
   "source": [
    "def getsimplepos (tag) :\n",
    "    if tag.startswith( 'J'):\n",
    "        return wordnet.ADJ\n",
    "    elif tag.startswith( 'V'):\n",
    "        return wordnet. VERB\n",
    "    elif tag.startswith( 'N'):\n",
    "        return wordnet.NOUN\n",
    "    elif tag.startswith('R'):\n",
    "        return wordnet.ADV\n",
    "    else:\n",
    "        return wordnet .NOUN"
   ]
  },
  {
   "cell_type": "markdown",
   "metadata": {},
   "source": [
    "**pos_tag requires an array**"
   ]
  },
  {
   "cell_type": "code",
   "execution_count": 39,
   "metadata": {},
   "outputs": [
    {
     "data": {
      "text/plain": [
       "[('better', 'RBR')]"
      ]
     },
     "execution_count": 39,
     "metadata": {},
     "output_type": "execute_result"
    }
   ],
   "source": [
    "w=\"better\"\n",
    "pos_tag([w])"
   ]
  },
  {
   "cell_type": "markdown",
   "metadata": {},
   "source": [
    "**Cleaning the dataset**"
   ]
  },
  {
   "cell_type": "code",
   "execution_count": 40,
   "metadata": {},
   "outputs": [],
   "source": [
    "def clean_review(words):\n",
    "    output_words=[]\n",
    "    for w in words:\n",
    "        if(w.lower() not in stops):\n",
    "            pos=pos_tag([w])\n",
    "            clean_word=lemmatizer.lemmatize(w,pos=getsimplepos(pos[0][1]))\n",
    "            output_words.append(clean_word.lower())\n",
    "    return output_words        \n",
    "            "
   ]
  },
  {
   "cell_type": "code",
   "execution_count": 48,
   "metadata": {},
   "outputs": [],
   "source": [
    "documents=[(clean_review(document),category) for document,category in documents]"
   ]
  },
  {
   "cell_type": "code",
   "execution_count": 50,
   "metadata": {},
   "outputs": [
    {
     "data": {
      "text/plain": [
       "(['michael',\n",
       "  'crichton',\n",
       "  'long',\n",
       "  'career',\n",
       "  'write',\n",
       "  'novel',\n",
       "  'many',\n",
       "  'science',\n",
       "  'fiction',\n",
       "  'profitable',\n",
       "  'film',\n",
       "  'adaptation',\n",
       "  'novel',\n",
       "  'adaptation',\n",
       "  'michael',\n",
       "  'crichton',\n",
       "  'science',\n",
       "  'fiction',\n",
       "  'novel',\n",
       "  'logic',\n",
       "  'film',\n",
       "  'industry',\n",
       "  'good',\n",
       "  'way',\n",
       "  'make',\n",
       "  'profitable',\n",
       "  'film',\n",
       "  'would',\n",
       "  'make',\n",
       "  'big',\n",
       "  'budget',\n",
       "  'adaptation',\n",
       "  'another',\n",
       "  'crichton',\n",
       "  'science',\n",
       "  'fiction',\n",
       "  'novel',\n",
       "  'congo',\n",
       "  'fail',\n",
       "  'afraid',\n",
       "  'sphere',\n",
       "  'probably',\n",
       "  'go',\n",
       "  'fare',\n",
       "  'whole',\n",
       "  'lot',\n",
       "  'well',\n",
       "  'little',\n",
       "  'well',\n",
       "  'okay',\n",
       "  'novel',\n",
       "  'make',\n",
       "  'film',\n",
       "  'even',\n",
       "  'good',\n",
       "  'film',\n",
       "  'expensive',\n",
       "  'one',\n",
       "  'hundred',\n",
       "  'million',\n",
       "  'dollar',\n",
       "  'long',\n",
       "  '133',\n",
       "  'minute',\n",
       "  'terrific',\n",
       "  'cast',\n",
       "  'include',\n",
       "  'dustin',\n",
       "  'hoffman',\n",
       "  'samuel',\n",
       "  'l',\n",
       "  'jackson',\n",
       "  'sharon',\n",
       "  'stone',\n",
       "  'little',\n",
       "  'really',\n",
       "  'original',\n",
       "  'less',\n",
       "  'excite',\n",
       "  'several',\n",
       "  'year',\n",
       "  'ago',\n",
       "  'dr',\n",
       "  'norman',\n",
       "  'goodman',\n",
       "  'played',\n",
       "  'dustin',\n",
       "  'hoffman',\n",
       "  'ask',\n",
       "  'write',\n",
       "  'set',\n",
       "  'procedure',\n",
       "  'government',\n",
       "  'follow',\n",
       "  'alien',\n",
       "  'entity',\n",
       "  'actually',\n",
       "  'encounter',\n",
       "  'plan',\n",
       "  'write',\n",
       "  'semi',\n",
       "  'serious',\n",
       "  'explicitly',\n",
       "  'define',\n",
       "  'team',\n",
       "  'expert',\n",
       "  'investigate',\n",
       "  'alien',\n",
       "  'team',\n",
       "  'assemble',\n",
       "  'mysterious',\n",
       "  'team',\n",
       "  'leader',\n",
       "  'name',\n",
       "  'barnes',\n",
       "  'peter',\n",
       "  'coyote',\n",
       "  'study',\n",
       "  'spacecraft',\n",
       "  'almost',\n",
       "  'half',\n",
       "  'mile',\n",
       "  'length',\n",
       "  'apparently',\n",
       "  'drop',\n",
       "  'pacific',\n",
       "  'ocean',\n",
       "  'early',\n",
       "  '1700s',\n",
       "  'suddenly',\n",
       "  'norman',\n",
       "  'less',\n",
       "  'serious',\n",
       "  'procedure',\n",
       "  'become',\n",
       "  'action',\n",
       "  'plan',\n",
       "  'deal',\n",
       "  'real',\n",
       "  'alien',\n",
       "  'spacecraft',\n",
       "  'include',\n",
       "  'team',\n",
       "  'investigate',\n",
       "  'mathematician',\n",
       "  'harry',\n",
       "  'adam',\n",
       "  'samuel',\n",
       "  'l',\n",
       "  'jackson',\n",
       "  'biologist',\n",
       "  'beth',\n",
       "  'halperin',\n",
       "  'sharon',\n",
       "  'stone',\n",
       "  'astrophysicist',\n",
       "  'ted',\n",
       "  'fielding',\n",
       "  'liev',\n",
       "  'schreiber',\n",
       "  'together',\n",
       "  'travel',\n",
       "  'deep',\n",
       "  'pacific',\n",
       "  'spaceship',\n",
       "  'understand',\n",
       "  'secret',\n",
       "  'one',\n",
       "  'major',\n",
       "  'secret',\n",
       "  'meaning',\n",
       "  'huge',\n",
       "  'sphere',\n",
       "  'gold',\n",
       "  'tone',\n",
       "  'liquid',\n",
       "  'metal',\n",
       "  'heart',\n",
       "  'spaceship',\n",
       "  'disappoint',\n",
       "  'film',\n",
       "  'really',\n",
       "  'effective',\n",
       "  'performance',\n",
       "  'director',\n",
       "  'barry',\n",
       "  'levinson',\n",
       "  'best',\n",
       "  'good',\n",
       "  'actor',\n",
       "  'rather',\n",
       "  'good',\n",
       "  'special',\n",
       "  'effect',\n",
       "  'problem',\n",
       "  'make',\n",
       "  'big',\n",
       "  'budget',\n",
       "  'science',\n",
       "  'fiction',\n",
       "  'film',\n",
       "  'effect',\n",
       "  'intrigue',\n",
       "  'effect',\n",
       "  'show',\n",
       "  'outline',\n",
       "  'radar',\n",
       "  'screen',\n",
       "  'technique',\n",
       "  'suggest',\n",
       "  'rather',\n",
       "  'show',\n",
       "  'let',\n",
       "  'actor',\n",
       "  'viewer',\n",
       "  'imagination',\n",
       "  'carry',\n",
       "  'film',\n",
       "  'robert',\n",
       "  'wise',\n",
       "  'haunt',\n",
       "  'could',\n",
       "  'reasonable',\n",
       "  'approach',\n",
       "  'low',\n",
       "  'budget',\n",
       "  'film',\n",
       "  'require',\n",
       "  'create',\n",
       "  'much',\n",
       "  'atmosphere',\n",
       "  'levinson',\n",
       "  'manage',\n",
       "  'muster',\n",
       "  'require',\n",
       "  'actor',\n",
       "  'give',\n",
       "  'really',\n",
       "  'compelling',\n",
       "  'performance',\n",
       "  'simply',\n",
       "  'put',\n",
       "  'hoffman',\n",
       "  'act',\n",
       "  'seem',\n",
       "  'mute',\n",
       "  'jackson',\n",
       "  'seem',\n",
       "  'laid',\n",
       "  'back',\n",
       "  'feel',\n",
       "  'character',\n",
       "  'get',\n",
       "  'inside',\n",
       "  'head',\n",
       "  'levinson',\n",
       "  'paid',\n",
       "  'big',\n",
       "  'buck',\n",
       "  'actor',\n",
       "  'really',\n",
       "  'get',\n",
       "  'price',\n",
       "  'performance',\n",
       "  'queen',\n",
       "  'latifah',\n",
       "  'minor',\n",
       "  'functionary',\n",
       "  'expedition',\n",
       "  'anybody',\n",
       "  'guess',\n",
       "  'cast',\n",
       "  'unknown',\n",
       "  'could',\n",
       "  'deliver',\n",
       "  'much',\n",
       "  'emotional',\n",
       "  'impact',\n",
       "  'fraction',\n",
       "  'price',\n",
       "  'look',\n",
       "  'much',\n",
       "  'powerful',\n",
       "  'film',\n",
       "  'like',\n",
       "  'alien',\n",
       "  'moderate',\n",
       "  'actor',\n",
       "  'science',\n",
       "  'fiction',\n",
       "  'spectacular',\n",
       "  'day',\n",
       "  'second',\n",
       "  'tier',\n",
       "  'actor',\n",
       "  'first',\n",
       "  'tier',\n",
       "  'special',\n",
       "  'effect',\n",
       "  'levinson',\n",
       "  'try',\n",
       "  'second',\n",
       "  'tier',\n",
       "  'effect',\n",
       "  'first',\n",
       "  'tier',\n",
       "  'actor',\n",
       "  'never',\n",
       "  'make',\n",
       "  'exchange',\n",
       "  'pay',\n",
       "  'viewer',\n",
       "  'perhaps',\n",
       "  'sci',\n",
       "  'fi',\n",
       "  'spectacular',\n",
       "  'actor',\n",
       "  'medium',\n",
       "  'result',\n",
       "  'get',\n",
       "  '4',\n",
       "  '0',\n",
       "  '10',\n",
       "  'scale',\n",
       "  '0',\n",
       "  '4',\n",
       "  '4',\n",
       "  'scale'],\n",
       " 'neg')"
      ]
     },
     "execution_count": 50,
     "metadata": {},
     "output_type": "execute_result"
    }
   ],
   "source": [
    "documents[0]"
   ]
  },
  {
   "cell_type": "markdown",
   "metadata": {},
   "source": [
    "**Now creating dataset with feature as top words**\n",
    "\n",
    "***Building the feature sets***"
   ]
  },
  {
   "cell_type": "code",
   "execution_count": null,
   "metadata": {},
   "outputs": [],
   "source": []
  }
 ],
 "metadata": {
  "kernelspec": {
   "display_name": "base",
   "language": "python",
   "name": "python3"
  },
  "language_info": {
   "codemirror_mode": {
    "name": "ipython",
    "version": 3
   },
   "file_extension": ".py",
   "mimetype": "text/x-python",
   "name": "python",
   "nbconvert_exporter": "python",
   "pygments_lexer": "ipython3",
   "version": "3.10.9"
  },
  "orig_nbformat": 4
 },
 "nbformat": 4,
 "nbformat_minor": 2
}
