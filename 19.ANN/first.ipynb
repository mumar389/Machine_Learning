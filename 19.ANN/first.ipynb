{
 "cells": [
  {
   "cell_type": "code",
   "execution_count": 9,
   "metadata": {},
   "outputs": [],
   "source": [
    "from sklearn.datasets import load_iris\n",
    "from sklearn.model_selection import train_test_split\n",
    "from sklearn.neural_network import MLPClassifier\n",
    "from sklearn.metrics import accuracy_score,confusion_matrix,classification_report"
   ]
  },
  {
   "cell_type": "markdown",
   "metadata": {},
   "source": [
    "**MLP-:Multi Layered Perceptron Classifier**"
   ]
  },
  {
   "cell_type": "code",
   "execution_count": 3,
   "metadata": {},
   "outputs": [],
   "source": [
    "data=load_iris()\n",
    "x=data.data\n",
    "y=data.target"
   ]
  },
  {
   "cell_type": "code",
   "execution_count": 4,
   "metadata": {},
   "outputs": [],
   "source": [
    "x_train,x_test,y_train,y_test=train_test_split(x,y,random_state=1)"
   ]
  },
  {
   "cell_type": "code",
   "execution_count": 6,
   "metadata": {},
   "outputs": [],
   "source": [
    "clf=MLPClassifier()"
   ]
  },
  {
   "cell_type": "code",
   "execution_count": 7,
   "metadata": {},
   "outputs": [
    {
     "name": "stderr",
     "output_type": "stream",
     "text": [
      "c:\\ProgramData\\anaconda3\\lib\\site-packages\\sklearn\\neural_network\\_multilayer_perceptron.py:684: ConvergenceWarning: Stochastic Optimizer: Maximum iterations (200) reached and the optimization hasn't converged yet.\n",
      "  warnings.warn(\n"
     ]
    },
    {
     "data": {
      "text/html": [
       "<style>#sk-container-id-1 {color: black;background-color: white;}#sk-container-id-1 pre{padding: 0;}#sk-container-id-1 div.sk-toggleable {background-color: white;}#sk-container-id-1 label.sk-toggleable__label {cursor: pointer;display: block;width: 100%;margin-bottom: 0;padding: 0.3em;box-sizing: border-box;text-align: center;}#sk-container-id-1 label.sk-toggleable__label-arrow:before {content: \"▸\";float: left;margin-right: 0.25em;color: #696969;}#sk-container-id-1 label.sk-toggleable__label-arrow:hover:before {color: black;}#sk-container-id-1 div.sk-estimator:hover label.sk-toggleable__label-arrow:before {color: black;}#sk-container-id-1 div.sk-toggleable__content {max-height: 0;max-width: 0;overflow: hidden;text-align: left;background-color: #f0f8ff;}#sk-container-id-1 div.sk-toggleable__content pre {margin: 0.2em;color: black;border-radius: 0.25em;background-color: #f0f8ff;}#sk-container-id-1 input.sk-toggleable__control:checked~div.sk-toggleable__content {max-height: 200px;max-width: 100%;overflow: auto;}#sk-container-id-1 input.sk-toggleable__control:checked~label.sk-toggleable__label-arrow:before {content: \"▾\";}#sk-container-id-1 div.sk-estimator input.sk-toggleable__control:checked~label.sk-toggleable__label {background-color: #d4ebff;}#sk-container-id-1 div.sk-label input.sk-toggleable__control:checked~label.sk-toggleable__label {background-color: #d4ebff;}#sk-container-id-1 input.sk-hidden--visually {border: 0;clip: rect(1px 1px 1px 1px);clip: rect(1px, 1px, 1px, 1px);height: 1px;margin: -1px;overflow: hidden;padding: 0;position: absolute;width: 1px;}#sk-container-id-1 div.sk-estimator {font-family: monospace;background-color: #f0f8ff;border: 1px dotted black;border-radius: 0.25em;box-sizing: border-box;margin-bottom: 0.5em;}#sk-container-id-1 div.sk-estimator:hover {background-color: #d4ebff;}#sk-container-id-1 div.sk-parallel-item::after {content: \"\";width: 100%;border-bottom: 1px solid gray;flex-grow: 1;}#sk-container-id-1 div.sk-label:hover label.sk-toggleable__label {background-color: #d4ebff;}#sk-container-id-1 div.sk-serial::before {content: \"\";position: absolute;border-left: 1px solid gray;box-sizing: border-box;top: 0;bottom: 0;left: 50%;z-index: 0;}#sk-container-id-1 div.sk-serial {display: flex;flex-direction: column;align-items: center;background-color: white;padding-right: 0.2em;padding-left: 0.2em;position: relative;}#sk-container-id-1 div.sk-item {position: relative;z-index: 1;}#sk-container-id-1 div.sk-parallel {display: flex;align-items: stretch;justify-content: center;background-color: white;position: relative;}#sk-container-id-1 div.sk-item::before, #sk-container-id-1 div.sk-parallel-item::before {content: \"\";position: absolute;border-left: 1px solid gray;box-sizing: border-box;top: 0;bottom: 0;left: 50%;z-index: -1;}#sk-container-id-1 div.sk-parallel-item {display: flex;flex-direction: column;z-index: 1;position: relative;background-color: white;}#sk-container-id-1 div.sk-parallel-item:first-child::after {align-self: flex-end;width: 50%;}#sk-container-id-1 div.sk-parallel-item:last-child::after {align-self: flex-start;width: 50%;}#sk-container-id-1 div.sk-parallel-item:only-child::after {width: 0;}#sk-container-id-1 div.sk-dashed-wrapped {border: 1px dashed gray;margin: 0 0.4em 0.5em 0.4em;box-sizing: border-box;padding-bottom: 0.4em;background-color: white;}#sk-container-id-1 div.sk-label label {font-family: monospace;font-weight: bold;display: inline-block;line-height: 1.2em;}#sk-container-id-1 div.sk-label-container {text-align: center;}#sk-container-id-1 div.sk-container {/* jupyter's `normalize.less` sets `[hidden] { display: none; }` but bootstrap.min.css set `[hidden] { display: none !important; }` so we also need the `!important` here to be able to override the default hidden behavior on the sphinx rendered scikit-learn.org. See: https://github.com/scikit-learn/scikit-learn/issues/21755 */display: inline-block !important;position: relative;}#sk-container-id-1 div.sk-text-repr-fallback {display: none;}</style><div id=\"sk-container-id-1\" class=\"sk-top-container\"><div class=\"sk-text-repr-fallback\"><pre>MLPClassifier()</pre><b>In a Jupyter environment, please rerun this cell to show the HTML representation or trust the notebook. <br />On GitHub, the HTML representation is unable to render, please try loading this page with nbviewer.org.</b></div><div class=\"sk-container\" hidden><div class=\"sk-item\"><div class=\"sk-estimator sk-toggleable\"><input class=\"sk-toggleable__control sk-hidden--visually\" id=\"sk-estimator-id-1\" type=\"checkbox\" checked><label for=\"sk-estimator-id-1\" class=\"sk-toggleable__label sk-toggleable__label-arrow\">MLPClassifier</label><div class=\"sk-toggleable__content\"><pre>MLPClassifier()</pre></div></div></div></div></div>"
      ],
      "text/plain": [
       "MLPClassifier()"
      ]
     },
     "execution_count": 7,
     "metadata": {},
     "output_type": "execute_result"
    }
   ],
   "source": [
    "clf.fit(x_train,y_train)"
   ]
  },
  {
   "cell_type": "code",
   "execution_count": 8,
   "metadata": {},
   "outputs": [],
   "source": [
    "y_pred=clf.predict(x_test)"
   ]
  },
  {
   "cell_type": "code",
   "execution_count": 10,
   "metadata": {},
   "outputs": [
    {
     "data": {
      "text/plain": [
       "0.9736842105263158"
      ]
     },
     "execution_count": 10,
     "metadata": {},
     "output_type": "execute_result"
    }
   ],
   "source": [
    "accuracy_score(y_test,y_pred)"
   ]
  },
  {
   "cell_type": "code",
   "execution_count": 11,
   "metadata": {},
   "outputs": [
    {
     "name": "stdout",
     "output_type": "stream",
     "text": [
      "              precision    recall  f1-score   support\n",
      "\n",
      "           0       1.00      1.00      1.00        13\n",
      "           1       1.00      0.94      0.97        16\n",
      "           2       0.90      1.00      0.95         9\n",
      "\n",
      "    accuracy                           0.97        38\n",
      "   macro avg       0.97      0.98      0.97        38\n",
      "weighted avg       0.98      0.97      0.97        38\n",
      "\n",
      "[[13  0  0]\n",
      " [ 0 15  1]\n",
      " [ 0  0  9]]\n"
     ]
    }
   ],
   "source": [
    "print(classification_report(y_test,y_pred))\n",
    "print(confusion_matrix(y_test,y_pred))"
   ]
  },
  {
   "cell_type": "code",
   "execution_count": 13,
   "metadata": {},
   "outputs": [
    {
     "data": {
      "text/plain": [
       "[array([[-7.86422514e-02, -8.37790550e-02,  1.33783275e-01,\n",
       "         -6.37711164e-02, -5.30372585e-02, -7.88682360e-02,\n",
       "         -3.16905538e-02,  1.59064257e-02,  8.22953727e-02,\n",
       "         -7.87003666e-07,  1.91581998e-01,  7.72844096e-02,\n",
       "         -1.25365441e-02,  1.85590306e-01, -5.21087782e-03,\n",
       "         -4.24904632e-02,  1.25675003e-01,  1.17158945e-01,\n",
       "         -5.80924972e-02,  3.30095508e-02, -1.29445473e-05,\n",
       "          1.75844223e-01,  1.52333872e-01, -6.45495690e-02,\n",
       "          9.19816704e-02,  5.43030738e-02, -2.06931016e-02,\n",
       "          1.19789591e-01, -1.09152066e-02,  3.74428987e-02,\n",
       "         -6.46963650e-02, -6.08153417e-02,  2.33347028e-01,\n",
       "         -4.59564500e-02,  6.04509673e-02, -2.98443668e-03,\n",
       "         -2.11801952e-01, -7.43033861e-03, -5.10637674e-02,\n",
       "         -4.99431671e-03, -4.72404290e-02,  1.14125085e-01,\n",
       "         -1.79010694e-01, -2.35503678e-02,  1.59896721e-01,\n",
       "         -7.78339707e-02,  3.06934789e-02,  1.75198423e-01,\n",
       "         -9.73640299e-02,  8.99506651e-03,  4.85753142e-02,\n",
       "         -3.50157340e-02,  1.52544582e-01, -1.68827009e-01,\n",
       "          1.81890919e-02, -1.93373453e-02,  1.22606903e-01,\n",
       "         -9.77336476e-02, -9.75757896e-02,  7.82888996e-02,\n",
       "          2.18210753e-01,  1.86316787e-01,  4.59844723e-02,\n",
       "         -3.12031164e-02, -2.36267118e-02, -7.01814280e-05,\n",
       "          1.81882184e-01, -1.18893912e-02,  2.53736982e-01,\n",
       "          2.09389242e-01, -3.69129616e-02, -1.79646199e-02,\n",
       "          6.86569453e-02,  1.19825048e-01, -2.65996136e-02,\n",
       "          2.52866283e-01,  1.38059931e-02,  2.15307762e-01,\n",
       "         -1.98013873e-02,  1.59703064e-01, -3.14285437e-02,\n",
       "          3.05929992e-01,  1.83541073e-01,  3.70852131e-02,\n",
       "          1.58076609e-01,  2.37792729e-01,  2.23101713e-01,\n",
       "         -1.15040722e-01, -2.64798750e-01,  1.64837268e-01,\n",
       "         -6.06319939e-02,  1.06006961e-01, -4.20728430e-02,\n",
       "         -6.79144770e-02, -7.63178227e-02,  8.77874171e-02,\n",
       "          4.04269340e-03, -7.20524315e-02, -4.03198900e-02,\n",
       "         -1.99794353e-02],\n",
       "        [ 3.30880627e-05, -1.16520609e-02, -1.73688280e-01,\n",
       "         -1.33669739e-02, -1.16019314e-02, -6.12355358e-07,\n",
       "         -2.44794085e-03, -1.25594401e-01, -2.42403220e-01,\n",
       "         -6.10269973e-04, -2.98790103e-01, -1.01107391e-01,\n",
       "         -1.01447735e-01,  6.82023822e-02,  2.09672319e-01,\n",
       "         -2.19574932e-02,  1.55059917e-01, -9.18159207e-02,\n",
       "         -3.78418168e-02,  1.69682551e-01, -5.28122547e-06,\n",
       "          2.23160566e-01,  2.51825087e-01,  1.19947598e-01,\n",
       "         -2.23562489e-02,  1.00331273e-01, -2.67257946e-02,\n",
       "         -3.79111606e-02,  1.23544979e-04,  1.46885552e-01,\n",
       "         -2.65555898e-03, -1.06537525e-02, -1.07734225e-01,\n",
       "          2.03761835e-06,  1.31341408e-01, -3.17715467e-03,\n",
       "          1.04313369e-01,  6.40634644e-03, -8.28667682e-02,\n",
       "         -1.64015804e-02, -9.61735557e-02, -1.25211975e-02,\n",
       "         -2.24408753e-01, -5.41998336e-02,  1.67494220e-01,\n",
       "         -5.22805244e-02,  1.09691458e-01,  1.22323646e-01,\n",
       "         -8.12036561e-02, -4.19835938e-03,  2.41368957e-01,\n",
       "          2.65123349e-01,  4.50439812e-02,  1.38830894e-01,\n",
       "         -4.25876868e-02, -2.38788053e-01,  2.36180709e-01,\n",
       "         -9.28347090e-06, -3.37278479e-04,  2.17942949e-01,\n",
       "         -1.26876416e-01,  4.64882043e-02,  1.66996117e-01,\n",
       "          8.99807652e-02,  2.12071030e-01, -8.50045775e-03,\n",
       "          8.61569715e-02,  2.12094111e-03,  5.16617231e-02,\n",
       "          7.34454431e-02, -5.02999437e-04, -5.87940628e-02,\n",
       "         -1.73794055e-01,  1.99634925e-01, -8.57667273e-02,\n",
       "          2.25929301e-01, -9.49416841e-02, -2.03343445e-01,\n",
       "          2.79156775e-01,  2.67128344e-01,  1.87931860e-01,\n",
       "          2.62913790e-01, -1.19255471e-01, -8.49349529e-02,\n",
       "          1.98273263e-01,  2.92759629e-02, -3.07616615e-02,\n",
       "          2.75028870e-02,  9.36298596e-03, -2.67405214e-01,\n",
       "          4.28269538e-02, -4.99532631e-02,  6.90373474e-07,\n",
       "         -1.16066072e-01,  8.62259672e-03,  1.58036700e-01,\n",
       "         -1.66765616e-01, -4.07246397e-02, -9.73610471e-03,\n",
       "         -5.51303289e-02],\n",
       "        [ 6.25414809e-03,  3.44786053e-01,  3.16212467e-01,\n",
       "         -4.47770454e-02, -6.29493696e-05, -7.49147242e-02,\n",
       "         -5.48414330e-04,  2.02349891e-01,  2.17380804e-01,\n",
       "         -4.64627228e-02,  1.70901112e-01,  1.46029179e-01,\n",
       "         -2.09362003e-02,  1.01823877e-01,  1.98482941e-02,\n",
       "         -8.89636986e-05, -2.20307273e-02, -4.56469424e-02,\n",
       "          2.96044830e-02, -1.41290337e-01, -3.65878151e-02,\n",
       "         -2.10348896e-01, -1.37544264e-01,  1.46998349e-01,\n",
       "          5.16763390e-02,  4.13531460e-02,  8.23298113e-03,\n",
       "          8.57162773e-02,  3.72741262e-03, -2.94221524e-01,\n",
       "         -3.04905654e-03,  6.03310706e-03, -2.02913839e-01,\n",
       "          3.98477546e-05, -1.38439308e-01, -3.26166893e-02,\n",
       "          5.65368521e-02,  1.13968901e-01, -2.72500109e-02,\n",
       "          2.73910313e-03, -1.72732770e-05,  5.56361097e-02,\n",
       "          2.23184730e-01, -4.81823355e-02, -1.82111183e-01,\n",
       "         -1.81194693e-02,  1.73645135e-02,  2.68673385e-01,\n",
       "          2.03712525e-02, -2.34176657e-02, -2.94223165e-01,\n",
       "         -3.87193601e-02, -2.52490728e-01,  1.98256230e-01,\n",
       "         -6.67288646e-02,  7.80280464e-02,  1.76996363e-02,\n",
       "          1.87981988e-03,  3.11059395e-02,  9.75314768e-02,\n",
       "          3.45333830e-01, -3.04682733e-01, -2.69764178e-02,\n",
       "         -1.09708197e-02, -1.33455820e-01, -5.77456673e-02,\n",
       "          1.45788304e-01, -6.80618830e-02, -1.09667154e-01,\n",
       "         -2.75778439e-01, -3.62345668e-03,  8.15629116e-02,\n",
       "          2.45171472e-01,  1.42454276e-01,  1.15596552e-01,\n",
       "          1.22111294e-01, -4.38410589e-02,  1.12329910e-01,\n",
       "         -1.33150675e-01, -2.48942797e-01, -1.26539445e-01,\n",
       "         -6.79339689e-02,  1.18026759e-01, -3.93879757e-03,\n",
       "         -1.92225577e-01, -2.15071219e-01, -2.84791421e-01,\n",
       "          2.63993137e-01,  3.67774294e-01,  8.94191198e-02,\n",
       "         -6.40828471e-02,  3.91248212e-01, -4.69425938e-03,\n",
       "          2.04000912e-01,  8.41119466e-04, -1.23672370e-01,\n",
       "          1.86697096e-01, -7.08313125e-02,  4.89405241e-02,\n",
       "          2.12942361e-03],\n",
       "        [ 1.94374158e-06,  1.41180403e-01,  2.78724097e-01,\n",
       "         -9.53536633e-02, -4.81896844e-02,  8.55141152e-02,\n",
       "          4.01785637e-02, -1.13599175e-01,  3.08586140e-01,\n",
       "         -3.56563841e-02,  1.02199815e-01,  4.86277071e-02,\n",
       "          4.40138193e-03,  6.15284125e-03, -2.27580059e-01,\n",
       "          4.85871910e-04, -1.33794256e-01, -1.36650427e-01,\n",
       "         -2.10578024e-02,  5.08213487e-02,  8.46788747e-02,\n",
       "         -2.57455385e-01, -1.59742962e-01, -1.10050909e-01,\n",
       "          1.79316545e-01, -3.08081899e-01,  2.07932874e-02,\n",
       "          2.08874937e-01,  2.88648570e-03, -2.25638840e-01,\n",
       "          1.06527248e-02, -1.55961846e-06, -6.94554257e-02,\n",
       "         -5.57116613e-02, -5.38284080e-02,  1.29932771e-02,\n",
       "          1.13382729e-01,  5.31066909e-02,  5.33591011e-02,\n",
       "         -7.89435916e-02, -3.46571748e-05,  1.84421867e-02,\n",
       "          8.22786986e-02,  1.14684620e-01, -2.29136513e-01,\n",
       "         -7.03082194e-03, -5.74573443e-03, -7.97972178e-02,\n",
       "         -1.83640173e-06, -6.05802178e-03,  9.10265960e-02,\n",
       "         -1.11652307e-01, -2.11824012e-01,  2.81250471e-01,\n",
       "          5.44019984e-02,  7.84621513e-02,  1.11285938e-01,\n",
       "          2.02563184e-02,  6.94413289e-03, -3.59738490e-01,\n",
       "          2.84954895e-01, -8.64261170e-02, -1.70910465e-01,\n",
       "         -7.73291170e-02, -1.47524233e-01, -4.27314365e-04,\n",
       "          6.79209684e-02,  7.75925280e-04, -1.31230706e-01,\n",
       "          3.03913079e-02,  6.04529801e-02, -8.39114154e-02,\n",
       "         -1.52058628e-02, -3.73974246e-02,  3.50033072e-01,\n",
       "          2.61408207e-02,  5.80822067e-04,  1.03176826e-01,\n",
       "         -1.06871968e-01, -2.68804241e-01,  2.47897587e-01,\n",
       "         -1.88435561e-02,  1.57368055e-01, -3.27804892e-02,\n",
       "          1.41962792e-01,  1.80859749e-01, -1.85056285e-01,\n",
       "          9.16456871e-02,  2.88235909e-01,  3.28824672e-01,\n",
       "          2.09100447e-02,  1.91722057e-01,  2.03401254e-02,\n",
       "         -2.25819817e-01,  1.49123274e-03, -3.12440083e-01,\n",
       "          3.78760548e-01, -6.86399044e-02,  3.16446640e-01,\n",
       "         -8.06049828e-02]]),\n",
       " array([[ 6.77860578e-02,  7.74865196e-02,  1.42941115e-02],\n",
       "        [-3.02531283e-01, -1.85418827e-02,  1.87107058e-01],\n",
       "        [-2.92792750e-01, -1.30632796e-01,  2.03499544e-01],\n",
       "        [-1.56480932e-02, -6.90340877e-02, -9.09573078e-02],\n",
       "        [-8.66455710e-02, -5.36667626e-03, -5.50542779e-03],\n",
       "        [ 3.18289610e-02,  4.98950900e-03, -1.49158007e-02],\n",
       "        [ 5.00981953e-02,  5.48118110e-03, -6.40993634e-02],\n",
       "        [-1.60043438e-01,  1.87231830e-01,  3.09739659e-01],\n",
       "        [-2.36384366e-01,  1.38865378e-02,  2.53576589e-01],\n",
       "        [-4.82726931e-02, -3.88489960e-02,  7.10507944e-02],\n",
       "        [-3.19122139e-01,  1.82207046e-01,  2.43650410e-01],\n",
       "        [-1.46984463e-01,  1.99674288e-03,  1.60026198e-01],\n",
       "        [-2.92897375e-03, -7.05272509e-02,  5.55971143e-02],\n",
       "        [-1.12638316e-01, -4.56429860e-02,  5.94101183e-02],\n",
       "        [-3.03888064e-03,  1.58043401e-01, -7.31534520e-02],\n",
       "        [-2.98184300e-06,  8.06355982e-02,  3.45156504e-02],\n",
       "        [ 3.23620825e-01,  6.53372446e-02, -1.43411113e-01],\n",
       "        [-1.07654724e-02,  3.20263735e-02,  2.51179396e-02],\n",
       "        [ 9.56480105e-03,  5.16909624e-02, -5.49807122e-02],\n",
       "        [-6.54767982e-02, -4.16223205e-02, -2.40353410e-01],\n",
       "        [-4.28811692e-02,  2.84556361e-02, -4.98190127e-03],\n",
       "        [ 7.77127070e-02,  6.15929042e-02, -2.55865165e-01],\n",
       "        [ 2.41262070e-01,  1.44021536e-01, -3.40727117e-01],\n",
       "        [-1.39498394e-01, -1.27772003e-02,  1.36317407e-02],\n",
       "        [ 9.96888512e-02,  6.00736622e-02,  2.44361953e-01],\n",
       "        [-1.16858906e-01,  2.51885885e-01, -3.33028269e-01],\n",
       "        [-2.84578546e-02, -1.55115597e-02, -8.00724202e-03],\n",
       "        [-2.09095730e-01, -1.26853466e-01,  1.21642701e-01],\n",
       "        [ 9.68339736e-02,  7.38097910e-03, -4.51655738e-02],\n",
       "        [-1.44621138e-01,  6.97962027e-02,  2.40143683e-02],\n",
       "        [-2.05845876e-02,  3.24362721e-02, -1.98485492e-03],\n",
       "        [ 9.31546595e-03,  8.77532211e-03, -1.55780322e-02],\n",
       "        [ 1.05472769e-01,  2.00854900e-01, -2.36102520e-01],\n",
       "        [-1.01815140e-01, -4.46693986e-02,  3.32589027e-05],\n",
       "        [ 1.58764643e-01,  5.37877925e-02, -2.12637893e-01],\n",
       "        [ 8.32716699e-03,  7.42818123e-02,  3.39790108e-02],\n",
       "        [ 7.18741380e-02, -2.24300639e-01, -1.56534442e-01],\n",
       "        [-5.96441570e-02,  6.25861027e-02,  3.05836059e-02],\n",
       "        [ 7.62396734e-03,  9.95348365e-02,  1.28484424e-02],\n",
       "        [ 1.70211263e-02, -9.19515281e-02, -3.83859643e-05],\n",
       "        [-6.20497184e-02, -3.90389357e-02,  5.70107726e-02],\n",
       "        [-1.88554767e-01,  1.67831495e-01, -1.72398711e-01],\n",
       "        [-1.66886167e-01,  1.76633665e-01, -4.63469250e-02],\n",
       "        [-1.34758048e-03, -3.46960010e-02, -1.01927742e-01],\n",
       "        [ 3.36032105e-01,  2.79165829e-01, -1.88356238e-01],\n",
       "        [-7.41621193e-02,  7.57262132e-03, -5.17898380e-07],\n",
       "        [-6.56789606e-02, -1.70967190e-01, -3.41686109e-02],\n",
       "        [-5.62233030e-02,  5.86281265e-02,  2.45180709e-02],\n",
       "        [-9.98701450e-03,  7.57182210e-03,  9.35766830e-02],\n",
       "        [-6.89670947e-02, -2.16067576e-03, -1.34742648e-03],\n",
       "        [ 3.27362883e-01, -2.43445818e-02,  9.84045220e-02],\n",
       "        [ 2.76184413e-01,  1.48501619e-01,  1.34679358e-01],\n",
       "        [ 1.95251914e-01, -2.90537684e-01, -3.88164029e-02],\n",
       "        [-4.17799353e-01, -5.67657418e-02,  2.54679451e-01],\n",
       "        [ 9.34723765e-05, -2.57946340e-02, -3.96981801e-02],\n",
       "        [ 1.70145699e-01,  1.15348196e-01, -9.01619628e-02],\n",
       "        [ 6.23234524e-03, -1.65620268e-01, -1.00144522e-02],\n",
       "        [ 1.21771780e-03, -7.73799985e-03, -4.38432284e-03],\n",
       "        [-5.33453559e-02,  5.91359784e-02, -5.00289362e-02],\n",
       "        [ 3.35221911e-01,  1.61713818e-01,  2.87196113e-02],\n",
       "        [-1.54436837e-02,  1.26742652e-01,  1.48853033e-01],\n",
       "        [ 4.74046722e-03, -4.43676506e-01, -2.22708761e-01],\n",
       "        [ 7.33559708e-02,  2.69332540e-03, -5.62078387e-02],\n",
       "        [-3.33084879e-03,  3.13589436e-07,  4.49607561e-02],\n",
       "        [ 1.38747083e-01, -2.38404677e-01, -1.77654958e-01],\n",
       "        [ 3.06303229e-02, -2.53123911e-03,  9.29581358e-02],\n",
       "        [ 3.56265499e-02,  1.75816932e-01, -1.27943347e-01],\n",
       "        [-7.21488841e-02,  2.83875860e-04,  1.83356314e-04],\n",
       "        [ 1.40666440e-01, -8.98363368e-02, -3.14447446e-01],\n",
       "        [ 2.87315573e-01, -1.49022315e-01, -3.35671453e-01],\n",
       "        [-1.03275530e-01,  1.41273285e-02, -4.09735791e-02],\n",
       "        [ 4.56968324e-02,  6.33938673e-03, -9.44733597e-02],\n",
       "        [-3.04728785e-01, -4.23273101e-02,  1.52533834e-01],\n",
       "        [ 1.60377446e-01,  3.43098242e-02, -2.07981681e-01],\n",
       "        [-2.22640840e-01, -2.48647962e-01,  3.26762683e-01],\n",
       "        [-6.22549023e-02,  8.25844997e-02, -8.01861189e-02],\n",
       "        [-6.62042138e-04,  1.61642826e-03, -2.15470178e-02],\n",
       "        [-2.25203438e-01, -6.11491275e-02, -1.78357159e-01],\n",
       "        [ 2.78217626e-01, -2.81493138e-01, -3.99545847e-02],\n",
       "        [ 1.56251215e-01, -1.88966508e-01, -3.41840615e-01],\n",
       "        [ 1.88171098e-01, -1.82108220e-01,  6.42210058e-02],\n",
       "        [ 6.92930028e-02, -1.05573202e-01, -2.26191060e-01],\n",
       "        [-6.58039119e-02,  9.56499662e-02,  1.98604321e-01],\n",
       "        [-3.44516914e-02, -3.81021008e-02,  4.84481537e-05],\n",
       "        [ 9.71253077e-02, -3.48727371e-02, -3.43210132e-02],\n",
       "        [ 1.12114331e-01, -1.14437480e-01, -7.77800188e-02],\n",
       "        [ 8.49030350e-02, -3.23763627e-01, -9.43824653e-02],\n",
       "        [-3.78914728e-01,  8.61421447e-03,  7.02896424e-02],\n",
       "        [ 5.19341368e-02, -3.94633035e-01,  2.15410760e-01],\n",
       "        [-1.17531261e-01,  1.12364894e-01,  2.93844654e-01],\n",
       "        [-6.28264600e-02, -2.52655016e-02,  6.65139849e-03],\n",
       "        [-1.32160408e-01,  3.07536081e-02,  9.01222874e-02],\n",
       "        [ 2.22300608e-04,  3.13113241e-03, -5.49343051e-05],\n",
       "        [ 1.24283493e-01,  5.87327766e-02, -3.62969912e-02],\n",
       "        [ 1.76988135e-02, -7.87488818e-02, -7.36751653e-02],\n",
       "        [ 3.47879441e-01,  2.77553245e-02, -1.41147685e-01],\n",
       "        [-3.50197857e-01, -2.13788779e-01, -1.79205618e-02],\n",
       "        [-5.22389672e-02, -9.33450477e-02,  4.91555921e-02],\n",
       "        [-2.68205268e-01, -4.45548174e-02,  1.42022620e-01],\n",
       "        [ 5.37331858e-02,  1.01959066e-01, -8.85748823e-03]])]"
      ]
     },
     "execution_count": 13,
     "metadata": {},
     "output_type": "execute_result"
    }
   ],
   "source": [
    "clf.coefs_"
   ]
  }
 ],
 "metadata": {
  "kernelspec": {
   "display_name": "base",
   "language": "python",
   "name": "python3"
  },
  "language_info": {
   "codemirror_mode": {
    "name": "ipython",
    "version": 3
   },
   "file_extension": ".py",
   "mimetype": "text/x-python",
   "name": "python",
   "nbconvert_exporter": "python",
   "pygments_lexer": "ipython3",
   "version": "3.10.9"
  }
 },
 "nbformat": 4,
 "nbformat_minor": 2
}
