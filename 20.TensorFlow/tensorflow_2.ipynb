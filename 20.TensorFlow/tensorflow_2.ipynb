{
 "cells": [
  {
   "cell_type": "code",
   "execution_count": 2,
   "metadata": {},
   "outputs": [],
   "source": [
    "import tensorflow as tf\n",
    "from  matplotlib import pyplot as plt\n",
    "from tensorflow.keras import Sequential\n",
    "from tensorflow.keras.layers import Dense\n",
    "#Functional Api\n",
    "from tensorflow.keras import Model\n",
    "from tensorflow.keras.layers import Concatenate,Input"
   ]
  },
  {
   "cell_type": "markdown",
   "metadata": {},
   "source": [
    "**We would be working MNIST data set present in tf.keras api**\n",
    "\n",
    "**the dataset contains images which has numbers from 0 to 9 and we need to identify which digit is represented by the image**"
   ]
  },
  {
   "cell_type": "code",
   "execution_count": 6,
   "metadata": {},
   "outputs": [],
   "source": [
    "(x_train,y_train),(x_test,y_test)=tf.keras.datasets.mnist.load_data()"
   ]
  },
  {
   "cell_type": "code",
   "execution_count": 3,
   "metadata": {},
   "outputs": [
    {
     "data": {
      "text/plain": [
       "((60000, 28, 28), (60000,))"
      ]
     },
     "execution_count": 3,
     "metadata": {},
     "output_type": "execute_result"
    }
   ],
   "source": [
    "x_train.shape,y_train.shape"
   ]
  },
  {
   "cell_type": "code",
   "execution_count": 4,
   "metadata": {},
   "outputs": [
    {
     "data": {
      "text/plain": [
       "array([5, 0, 4, ..., 5, 6, 8], dtype=uint8)"
      ]
     },
     "execution_count": 4,
     "metadata": {},
     "output_type": "execute_result"
    }
   ],
   "source": [
    "y_train"
   ]
  },
  {
   "cell_type": "code",
   "execution_count": 3,
   "metadata": {},
   "outputs": [
    {
     "data": {
      "image/png": "[encoded data removed]",
      "text/plain": [
       "<Figure size 640x480 with 1 Axes>"
      ]
     },
     "metadata": {},
     "output_type": "display_data"
    },
    {
     "name": "stdout",
     "output_type": "stream",
     "text": [
      "5\n"
     ]
    }
   ],
   "source": [
    "plt.imshow(x_train[0])\n",
    "plt.show()\n",
    "print(y_train[0])"
   ]
  },
  {
   "cell_type": "markdown",
   "metadata": {},
   "source": [
    "**we need to reshape our dataset in 1d array**"
   ]
  },
  {
   "cell_type": "code",
   "execution_count": 7,
   "metadata": {},
   "outputs": [],
   "source": [
    "x_train=x_train.reshape(x_train.shape[0],-1)/255.0\n",
    "x_test=x_test.reshape(x_test.shape[0],-1)/255.0"
   ]
  },
  {
   "cell_type": "code",
   "execution_count": 7,
   "metadata": {},
   "outputs": [
    {
     "data": {
      "text/plain": [
       "(10000, 784)"
      ]
     },
     "execution_count": 7,
     "metadata": {},
     "output_type": "execute_result"
    }
   ],
   "source": [
    "x_test.shape"
   ]
  },
  {
   "cell_type": "code",
   "execution_count": 8,
   "metadata": {},
   "outputs": [],
   "source": [
    "#one hot encoding the output by using utilities function in keras\n",
    "y_train_1=tf.keras.utils.to_categorical(y_train)\n",
    "y_test=tf.keras.utils.to_categorical(y_test)"
   ]
  },
  {
   "cell_type": "code",
   "execution_count": 9,
   "metadata": {},
   "outputs": [
    {
     "data": {
      "text/plain": [
       "(array([0., 0., 0., 0., 0., 1., 0., 0., 0., 0.], dtype=float32), 5)"
      ]
     },
     "execution_count": 9,
     "metadata": {},
     "output_type": "execute_result"
    }
   ],
   "source": [
    "y_train_1[0],y_train[0]"
   ]
  },
  {
   "cell_type": "markdown",
   "metadata": {},
   "source": [
    "**Using Sequential Model**"
   ]
  },
  {
   "cell_type": "code",
   "execution_count": 3,
   "metadata": {},
   "outputs": [],
   "source": [
    "model=Sequential()\n",
    "#hidden layer 1\n",
    "model.add(Dense(256,activation='relu',input_shape=(784,)))\n",
    "#hidden layer 2\n",
    "model.add(Dense(256,activation='relu'))\n",
    "#Output Layer\n",
    "model.add(Dense(10,activation='softmax'))"
   ]
  },
  {
   "cell_type": "code",
   "execution_count": 4,
   "metadata": {},
   "outputs": [],
   "source": [
    "model.compile(optimizer='adam',loss='categorical_crossentropy',metrics=['accuracy'])"
   ]
  },
  {
   "cell_type": "code",
   "execution_count": 9,
   "metadata": {},
   "outputs": [
    {
     "name": "stdout",
     "output_type": "stream",
     "text": [
      "Epoch 1/10\n",
      "118/118 [==============================] - 2s 8ms/step - loss: 0.4171 - accuracy: 0.8843\n",
      "Epoch 2/10\n",
      "118/118 [==============================] - 1s 8ms/step - loss: 0.1518 - accuracy: 0.9566\n",
      "Epoch 3/10\n",
      "118/118 [==============================] - 1s 8ms/step - loss: 0.1028 - accuracy: 0.9701\n",
      "Epoch 4/10\n",
      "118/118 [==============================] - 1s 8ms/step - loss: 0.0755 - accuracy: 0.9778\n",
      "Epoch 5/10\n",
      "118/118 [==============================] - 1s 11ms/step - loss: 0.0582 - accuracy: 0.9827\n",
      "Epoch 6/10\n",
      "118/118 [==============================] - 1s 9ms/step - loss: 0.0461 - accuracy: 0.9864\n",
      "Epoch 7/10\n",
      "118/118 [==============================] - 2s 17ms/step - loss: 0.0359 - accuracy: 0.9894\n",
      "Epoch 8/10\n",
      "118/118 [==============================] - 2s 21ms/step - loss: 0.0279 - accuracy: 0.9920\n",
      "Epoch 9/10\n",
      "118/118 [==============================] - 2s 21ms/step - loss: 0.0222 - accuracy: 0.9938\n",
      "Epoch 10/10\n",
      "118/118 [==============================] - 2s 21ms/step - loss: 0.0167 - accuracy: 0.9959\n"
     ]
    },
    {
     "data": {
      "text/plain": [
       "<keras.callbacks.History at 0x172adedf1c0>"
      ]
     },
     "execution_count": 9,
     "metadata": {},
     "output_type": "execute_result"
    }
   ],
   "source": [
    "model.fit(x_train,y_train_1,epochs=10,batch_size=512)"
   ]
  },
  {
   "cell_type": "code",
   "execution_count": 10,
   "metadata": {},
   "outputs": [
    {
     "name": "stdout",
     "output_type": "stream",
     "text": [
      "313/313 [==============================] - 1s 3ms/step - loss: 0.0712 - accuracy: 0.9779\n"
     ]
    },
    {
     "data": {
      "text/plain": [
       "[0.07115918397903442, 0.9779000282287598]"
      ]
     },
     "execution_count": 10,
     "metadata": {},
     "output_type": "execute_result"
    }
   ],
   "source": [
    "model.evaluate(x_test,y_test)"
   ]
  },
  {
   "cell_type": "code",
   "execution_count": 12,
   "metadata": {},
   "outputs": [
    {
     "name": "stdout",
     "output_type": "stream",
     "text": [
      "Model: \"sequential\"\n",
      "_________________________________________________________________\n",
      " Layer (type)                Output Shape              Param #   \n",
      "=================================================================\n",
      " dense (Dense)               (None, 256)               200960    \n",
      "                                                                 \n",
      " dense_1 (Dense)             (None, 256)               65792     \n",
      "                                                                 \n",
      " dense_2 (Dense)             (None, 10)                2570      \n",
      "                                                                 \n",
      "=================================================================\n",
      "Total params: 269,322\n",
      "Trainable params: 269,322\n",
      "Non-trainable params: 0\n",
      "_________________________________________________________________\n"
     ]
    }
   ],
   "source": [
    "model.summary()"
   ]
  },
  {
   "cell_type": "markdown",
   "metadata": {},
   "source": [
    "**Using Functional Model**"
   ]
  },
  {
   "cell_type": "code",
   "execution_count": 14,
   "metadata": {},
   "outputs": [
    {
     "name": "stdout",
     "output_type": "stream",
     "text": [
      "Model: \"model\"\n",
      "__________________________________________________________________________________________________\n",
      " Layer (type)                   Output Shape         Param #     Connected to                     \n",
      "==================================================================================================\n",
      " input_1 (InputLayer)           [(None, 784)]        0           []                               \n",
      "                                                                                                  \n",
      " dense_3 (Dense)                (None, 256)          200960      ['input_1[0][0]']                \n",
      "                                                                                                  \n",
      " dense_4 (Dense)                (None, 256)          65792       ['dense_3[0][0]']                \n",
      "                                                                                                  \n",
      " dense_5 (Dense)                (None, 256)          200960      ['input_1[0][0]']                \n",
      "                                                                                                  \n",
      " concatenate (Concatenate)      (None, 512)          0           ['dense_4[0][0]',                \n",
      "                                                                  'dense_5[0][0]']                \n",
      "                                                                                                  \n",
      " dense_6 (Dense)                (None, 10)           5130        ['concatenate[0][0]']            \n",
      "                                                                                                  \n",
      "==================================================================================================\n",
      "Total params: 472,842\n",
      "Trainable params: 472,842\n",
      "Non-trainable params: 0\n",
      "__________________________________________________________________________________________________\n"
     ]
    }
   ],
   "source": [
    "#architecture made in copy\n",
    "#input Layer\n",
    "input=Input(shape=[784,])\n",
    "#hidden Layer-1\n",
    "hidden_1=Dense(256,activation='relu')(input)\n",
    "#hidden Layer-2\n",
    "hidden_2=Dense(256,activation='relu')(hidden_1)\n",
    "#hidden Layer-3\n",
    "hidden_3=Dense(256,activation='relu')(input)\n",
    "#combining the output of hidden_layer-2 and hidden_layer-3\n",
    "concat=Concatenate()([hidden_2,hidden_3])\n",
    "output=Dense(10,activation='softmax')(concat)\n",
    "model=Model(inputs=[input],outputs=[output])\n",
    "model.summary()"
   ]
  },
  {
   "cell_type": "markdown",
   "metadata": {},
   "source": [
    "**Creating our own custom layers**\n",
    "\n",
    "***We need to import tf.keras.layers , there is a parent class Layers in layers api***"
   ]
  },
  {
   "cell_type": "code",
   "execution_count": 15,
   "metadata": {},
   "outputs": [],
   "source": [
    "#for creating custom layers we need to have subclass from the Layers class\n",
    "\n",
    "class MyLayer(layers.Layer):\n",
    "    def __init__(self,units,input_dim,activation):\n",
    "        #in super we need to pass name of the custom layer and self\n",
    "        super(MyLayer,self).__init__()\n",
    "        #now we need to set the weights,biases,activation for this layer\n",
    "        #we will initialize the weights and biases randomly, \n",
    "        # these will be random values which is normally distributed\n",
    "        w_init=tf.random_normal_initializer()\n",
    "        self.w=tf.Variable(initial_value=w_init(shape=(input_dim,units),dtype='float32'),trainable=True)\n",
    "        b_init=tf.random_normal_initializer()\n",
    "        self.b=tf.Variable(initial_value=b_init(shape=(units,),dtype='float32'),trainable=True)\n",
    "        self.activation=activation\n",
    "    def call(self,inputs):\n",
    "        linear_op=tf.add(tf.matmul(inputs,self.w),self.b)\n",
    "        #we need to pass the linear_op in activation function\n",
    "        if(self.activation == 'relu'):\n",
    "            return tf.nn.relu(linear_op)\n",
    "        elif(self.activation=='softmax'):\n",
    "            return tf.nn.softmax(linear_op)    "
   ]
  },
  {
   "cell_type": "markdown",
   "metadata": {},
   "source": [
    "**Creating the model**\n",
    "\n",
    "***The model class available in tf.keras it is used to create custom models***"
   ]
  },
  {
   "cell_type": "code",
   "execution_count": 16,
   "metadata": {},
   "outputs": [],
   "source": [
    "class MyModel(tf.keras.Model):\n",
    "    #after self we need to pass no of units in i/p layer, no of units in hidden_layer1 and so on\n",
    "    def __init__(self,n_input,n_hidden1,n_hidden2,n_classes):\n",
    "        #constructor function of Model class\n",
    "        super(MyModel,self).__init__()\n",
    "        #hidden_layer-1\n",
    "        self.layer1=MyLayer(n_hidden1,n_input,'relu')\n",
    "        #hidden_layer-2\n",
    "        self.layer2=MyLayer(n_hidden2,n_hidden1,'relu')\n",
    "        #output_layer\n",
    "        self.out_layer=MyLayer(n_classes,n_hidden2,'softmax')\n",
    "\n",
    "    def call(self,inputs):\n",
    "        x=self.layer1(inputs)\n",
    "        x=self.layer2(x)\n",
    "        return self.out_layer(x)    "
   ]
  },
  {
   "cell_type": "markdown",
   "metadata": {},
   "source": [
    "**Now we can crate our model by creating object of MyModel class**"
   ]
  },
  {
   "cell_type": "code",
   "execution_count": 17,
   "metadata": {},
   "outputs": [],
   "source": [
    "model=MyModel(784,256,256,10)"
   ]
  },
  {
   "cell_type": "code",
   "execution_count": 18,
   "metadata": {},
   "outputs": [],
   "source": [
    "model.compile(optimizer='adam',loss='categorical_crossentropy',metrics=['accuracy'])"
   ]
  },
  {
   "cell_type": "code",
   "execution_count": 19,
   "metadata": {},
   "outputs": [
    {
     "name": "stdout",
     "output_type": "stream",
     "text": [
      "Epoch 1/10\n",
      "118/118 [==============================] - 2s 7ms/step - loss: 0.4930 - accuracy: 0.8650\n",
      "Epoch 2/10\n",
      "118/118 [==============================] - 1s 8ms/step - loss: 0.1806 - accuracy: 0.9481\n",
      "Epoch 3/10\n",
      "118/118 [==============================] - 1s 7ms/step - loss: 0.1263 - accuracy: 0.9628\n",
      "Epoch 4/10\n",
      "118/118 [==============================] - 1s 8ms/step - loss: 0.0931 - accuracy: 0.9727\n",
      "Epoch 5/10\n",
      "118/118 [==============================] - 1s 8ms/step - loss: 0.0746 - accuracy: 0.9776\n",
      "Epoch 6/10\n",
      "118/118 [==============================] - 2s 15ms/step - loss: 0.0577 - accuracy: 0.9836\n",
      "Epoch 7/10\n",
      "118/118 [==============================] - 2s 14ms/step - loss: 0.0495 - accuracy: 0.9852\n",
      "Epoch 8/10\n",
      "118/118 [==============================] - 2s 15ms/step - loss: 0.0392 - accuracy: 0.9892\n",
      "Epoch 9/10\n",
      "118/118 [==============================] - 2s 14ms/step - loss: 0.0332 - accuracy: 0.9902\n",
      "Epoch 10/10\n",
      "118/118 [==============================] - 2s 14ms/step - loss: 0.0264 - accuracy: 0.9923\n"
     ]
    },
    {
     "data": {
      "text/plain": [
       "<keras.callbacks.History at 0x273ad4124d0>"
      ]
     },
     "execution_count": 19,
     "metadata": {},
     "output_type": "execute_result"
    }
   ],
   "source": [
    "model.fit(x_train,y_train_1,epochs=10,batch_size=512)"
   ]
  },
  {
   "cell_type": "code",
   "execution_count": 20,
   "metadata": {},
   "outputs": [
    {
     "name": "stdout",
     "output_type": "stream",
     "text": [
      "313/313 [==============================] - 2s 4ms/step - loss: 0.0745 - accuracy: 0.9766\n"
     ]
    },
    {
     "data": {
      "text/plain": [
       "[0.07449231296777725, 0.9765999913215637]"
      ]
     },
     "execution_count": 20,
     "metadata": {},
     "output_type": "execute_result"
    }
   ],
   "source": [
    "model.evaluate(x_test,y_test)"
   ]
  },
  {
   "cell_type": "code",
   "execution_count": null,
   "metadata": {},
   "outputs": [],
   "source": []
  }
 ],
 "metadata": {
  "kernelspec": {
   "display_name": "base",
   "language": "python",
   "name": "python3"
  },
  "language_info": {
   "codemirror_mode": {
    "name": "ipython",
    "version": 3
   },
   "file_extension": ".py",
   "mimetype": "text/x-python",
   "name": "python",
   "nbconvert_exporter": "python",
   "pygments_lexer": "ipython3",
   "version": "3.10.9"
  }
 },
 "nbformat": 4,
 "nbformat_minor": 2
}
