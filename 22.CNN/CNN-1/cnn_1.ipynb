{
 "cells": [
  {
   "cell_type": "code",
   "execution_count": 15,
   "metadata": {},
   "outputs": [],
   "source": [
    "import tensorflow as tf\n",
    "import numpy as np"
   ]
  },
  {
   "cell_type": "code",
   "execution_count": 6,
   "metadata": {},
   "outputs": [],
   "source": [
    "(x_train,y_train),(x_test,y_test)=tf.keras.datasets.mnist.load_data()"
   ]
  },
  {
   "cell_type": "code",
   "execution_count": 47,
   "metadata": {},
   "outputs": [],
   "source": [
    "#setting varialbles to be changed easily\n",
    "inp_width=28\n",
    "inp_height=28\n",
    "channels=1\n",
    "inp_pixels=784\n",
    "#units in convultional layer\n",
    "n_conv1=32\n",
    "n_conv2=64\n",
    "#filter size\n",
    "conv1_k=5\n",
    "conv2_k=5\n",
    "stride1=1\n",
    "stride2=1\n",
    "#pool size\n",
    "max_pool1_k=2\n",
    "max_pool2_k=2\n",
    "\n",
    "n_hidden=1024\n",
    "n_output=10\n",
    "\n",
    "inp_size_to_hidden=(inp_width//(max_pool1_k*max_pool2_k))*(inp_height//(max_pool1_k*max_pool2_k))*n_conv2"
   ]
  },
  {
   "cell_type": "code",
   "execution_count": 8,
   "metadata": {},
   "outputs": [],
   "source": [
    "#weights and baises\n",
    "weights={\n",
    "    \"wc1\":tf.Variable(tf.random_normal_initializer()(shape=[conv1_k,conv1_k,channels,n_conv1])),\n",
    "    \"wc2\":tf.Variable(tf.random_normal_initializer()(shape=[conv2_k,conv2_k,n_conv1,n_conv2])),\n",
    "    \"wh1\":tf.Variable(tf.random_normal_initializer()(shape=[inp_size_to_hidden,n_hidden])),\n",
    "    \"wo\":tf.Variable(tf.random_normal_initializer()(shape=[n_hidden,n_output]))\n",
    "}\n",
    "\n",
    "biases={\n",
    "    \"bc1\":tf.Variable(tf.random_normal_initializer()(shape=[n_conv1])),\n",
    "    \"bc2\":tf.Variable(tf.random_normal_initializer()(shape=[n_conv2])),\n",
    "    \"bh1\":tf.Variable(tf.random_normal_initializer()(shape=[n_hidden])),\n",
    "    \"bo\":tf.Variable(tf.random_normal_initializer()(shape=[n_output]))\n",
    "}"
   ]
  },
  {
   "cell_type": "code",
   "execution_count": 9,
   "metadata": {},
   "outputs": [],
   "source": [
    "def conv(x,weight,bias,stride=1):\n",
    "    #apply the filter on images\n",
    "    out=tf.nn.conv2d(x,weight,padding=\"SAME\",strides=[1,stride,stride,1])\n",
    "    out=tf.nn.bias_add(out,bias)\n",
    "    out=tf.nn.relu(out)\n",
    "    return out\n",
    "def maxpooling(x,k=2):\n",
    "    return tf.nn.max_pool(x,padding='SAME',ksize=[1,k,k,1],strides=[1,k,k,1])"
   ]
  },
  {
   "cell_type": "code",
   "execution_count": 10,
   "metadata": {},
   "outputs": [],
   "source": [
    "def cnn(x,weights,biases):\n",
    "    #first reshape the input\n",
    "    x=tf.reshape(x,shape=[-1,inp_height,inp_width,channels])\n",
    "    conv1=conv(x,weights['wc1'],biases['bc1'],stride1)\n",
    "    conv1_pool=maxpooling(conv1,max_pool1_k)\n",
    "    conv2=conv(conv1_pool,weights['wc2'],biases['bc2'],stride2)\n",
    "    conv2_pool=maxpooling(conv2,max_pool2_k)\n",
    "    hidden_inp=tf.reshape(conv2_pool,shape=[-1,inp_size_to_hidden])\n",
    "    hidden_out_before_activation=tf.add(tf.matmul(hidden_inp,weights['wh1']),biases['bh1'])\n",
    "    hidden_output=tf.nn.relu(hidden_out_before_activation)\n",
    "    \n",
    "    output=tf.add(tf.matmul(hidden_output,weights['wo']),biases['bo'])\n",
    "    return output"
   ]
  },
  {
   "cell_type": "code",
   "execution_count": 13,
   "metadata": {},
   "outputs": [],
   "source": [
    "\n",
    "#Using Tensorflow-:\n",
    "# x = tf.keras.Input(shape=(inp_pixels,), dtype=tf.float32)\n",
    "# y = tf.keras.Input(shape=(n_output,), dtype=tf.int32)\n",
    "# input_shape = (None, inp_pixels)\n",
    "\n",
    "# Create input placeholders using tf.compat.v1.placeholder\n",
    "# x = tf.compat.v1.placeholder(tf.float32, shape=input_shape, name='input_x')\n",
    "# y = tf.compat.v1.placeholder(tf.float32, shape=(None, n_output), name='input_y')\n",
    "# pred=cnn(x,weights,biases)"
   ]
  },
  {
   "cell_type": "code",
   "execution_count": 29,
   "metadata": {},
   "outputs": [],
   "source": [
    "# cost=tf.reduce_mean(tf.nn.softmax_cross_entropy_with_logits(logits=pred,labels=y))"
   ]
  },
  {
   "cell_type": "code",
   "execution_count": 16,
   "metadata": {},
   "outputs": [],
   "source": [
    "# optimizer = tf.keras.optimizers.Adam(learning_rate=0.01)\n",
    "# optimize = optimizer.minimize(cost)"
   ]
  },
  {
   "cell_type": "markdown",
   "metadata": {},
   "source": [
    "**Using Keras to Implement CNN**"
   ]
  },
  {
   "cell_type": "code",
   "execution_count": 48,
   "metadata": {},
   "outputs": [],
   "source": [
    "input_layer = tf.keras.layers.Input(shape=(inp_height, inp_width, channels))\n",
    "conv_layer1=tf.keras.layers.Conv2D(filters=n_conv1,kernel_size=(conv1_k,conv1_k),strides=(stride1,stride1),padding=\"SAME\", activation=\"relu\")(input_layer)\n",
    "pool_layer_1 = tf.keras.layers.MaxPooling2D(pool_size=(max_pool1_k,max_pool1_k), strides=(2,2),padding=\"VALID\")(conv_layer1)\n",
    "conv_layer2=tf.keras.layers.Conv2D(filters=n_conv2,kernel_size=(conv2_k,conv2_k),strides=(stride2,stride2),padding=\"SAME\", activation=\"relu\")(pool_layer_1)\n",
    "pool_layer_2= tf.keras.layers.MaxPooling2D(pool_size=(max_pool2_k,max_pool2_k), strides=(2,2), padding=\"VALID\")(conv_layer2)\n",
    "flatten_layer = tf.keras.layers.Flatten()(pool_layer_2)\n",
    "hidden_layer = tf.keras.layers.Dense(units=1024, activation=\"relu\")(flatten_layer)\n",
    "output_layer=tf.keras.layers.Dense(units=10,activation=\"softmax\")(hidden_layer)"
   ]
  },
  {
   "cell_type": "code",
   "execution_count": 49,
   "metadata": {},
   "outputs": [
    {
     "name": "stdout",
     "output_type": "stream",
     "text": [
      "Model: \"model_5\"\n",
      "_________________________________________________________________\n",
      " Layer (type)                Output Shape              Param #   \n",
      "=================================================================\n",
      " input_10 (InputLayer)       [(None, 28, 28, 1)]       0         \n",
      "                                                                 \n",
      " conv2d_19 (Conv2D)          (None, 28, 28, 32)        832       \n",
      "                                                                 \n",
      " max_pooling2d_13 (MaxPoolin  (None, 14, 14, 32)       0         \n",
      " g2D)                                                            \n",
      "                                                                 \n",
      " conv2d_20 (Conv2D)          (None, 14, 14, 64)        51264     \n",
      "                                                                 \n",
      " max_pooling2d_14 (MaxPoolin  (None, 7, 7, 64)         0         \n",
      " g2D)                                                            \n",
      "                                                                 \n",
      " flatten_5 (Flatten)         (None, 3136)              0         \n",
      "                                                                 \n",
      " dense_10 (Dense)            (None, 1024)              3212288   \n",
      "                                                                 \n",
      "=================================================================\n"
     ]
    },
    {
     "name": "stdout",
     "output_type": "stream",
     "text": [
      "Total params: 3,264,384\n",
      "Trainable params: 3,264,384\n",
      "Non-trainable params: 0\n",
      "_________________________________________________________________\n"
     ]
    }
   ],
   "source": [
    "model = tf.keras.models.Model(inputs=input_layer, outputs=hidden_layer)\n",
    "\n",
    "# Compile the model and specify loss and optimizer\n",
    "model.compile(optimizer='adam', loss='sparse_categorical_crossentropy', metrics=['accuracy'])\n",
    "\n",
    "# Display the model summary\n",
    "model.summary()"
   ]
  },
  {
   "cell_type": "code",
   "execution_count": null,
   "metadata": {},
   "outputs": [],
   "source": []
  }
 ],
 "metadata": {
  "kernelspec": {
   "display_name": "base",
   "language": "python",
   "name": "python3"
  },
  "language_info": {
   "codemirror_mode": {
    "name": "ipython",
    "version": 3
   },
   "file_extension": ".py",
   "mimetype": "text/x-python",
   "name": "python",
   "nbconvert_exporter": "python",
   "pygments_lexer": "ipython3",
   "version": "3.10.9"
  }
 },
 "nbformat": 4,
 "nbformat_minor": 2
}
