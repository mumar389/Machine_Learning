{
 "cells": [
  {
   "cell_type": "code",
   "execution_count": 1,
   "metadata": {},
   "outputs": [],
   "source": [
    "import tensorflow as tf"
   ]
  },
  {
   "cell_type": "code",
   "execution_count": 2,
   "metadata": {},
   "outputs": [],
   "source": [
    "(x_train,y_train),(x_test,y_test)=tf.keras.datasets.mnist.load_data()"
   ]
  },
  {
   "cell_type": "code",
   "execution_count": 3,
   "metadata": {},
   "outputs": [],
   "source": [
    "#setting varialbles to be changed easily\n",
    "inp_width=28\n",
    "inp_height=28\n",
    "channels=1\n",
    "inp_pixels=784\n",
    "#units in convultional layer\n",
    "n_conv1=32\n",
    "n_conv2=64\n",
    "#filter size\n",
    "conv1_k=5\n",
    "conv2_k=5\n",
    "stride1=1\n",
    "stride2=1\n",
    "#pool size\n",
    "max_pool1_k=2\n",
    "max_pool2_k=2\n",
    "\n",
    "n_hidden=1024\n",
    "n_output=10\n",
    "\n",
    "inp_size_to_hidden=(inp_width//(max_pool1_k*max_pool2_k))*(inp_height//(max_pool1_k*max_pool2_k))*n_conv2"
   ]
  },
  {
   "cell_type": "code",
   "execution_count": 4,
   "metadata": {},
   "outputs": [],
   "source": [
    "#weights and baises\n",
    "weights={\n",
    "    \"wc1\":tf.Variable(tf.random_normal_initializer()(shape=[conv1_k,conv1_k,channels,n_conv1])),\n",
    "    \"wc2\":tf.Variable(tf.random_normal_initializer()(shape=[conv2_k,conv2_k,n_conv1,n_conv2])),\n",
    "    \"wh1\":tf.Variable(tf.random_normal_initializer()(shape=[inp_size_to_hidden,n_hidden])),\n",
    "    \"wo\":tf.Variable(tf.random_normal_initializer()(shape=[n_hidden,n_output]))\n",
    "}\n",
    "\n",
    "biases={\n",
    "    \"bc1\":tf.Variable(tf.random_normal_initializer()(shape=[n_conv1])),\n",
    "    \"bc2\":tf.Variable(tf.random_normal_initializer()(shape=[n_conv2])),\n",
    "    \"bh1\":tf.Variable(tf.random_normal_initializer()(shape=[n_hidden])),\n",
    "    \"bo\":tf.Variable(tf.random_normal_initializer()(shape=[n_output]))\n",
    "}"
   ]
  },
  {
   "cell_type": "code",
   "execution_count": 5,
   "metadata": {},
   "outputs": [],
   "source": [
    "def conv(x,weight,bias,stride=1):\n",
    "    #apply the filter on images\n",
    "    out=tf.nn.conv2d(x,weight,padding=\"SAME\",strides=[1,stride,stride,1])\n",
    "    out=tf.nn.bias_add(out,bias)\n",
    "    out=tf.nn.relu(out)\n",
    "    return out\n",
    "def maxpooling(x,k=2):\n",
    "    return tf.nn.max_pool(x,padding='SAME',ksize=[1,k,k,1],strides=[1,k,k,1])"
   ]
  },
  {
   "cell_type": "code",
   "execution_count": 6,
   "metadata": {},
   "outputs": [],
   "source": [
    "def cnn(x,weights,biases):\n",
    "    #first reshape the input\n",
    "    x=tf.reshape(x,shape=[-1,inp_height,inp_width,channels])\n",
    "    conv1=conv(x,weights['wc1'],biases['bc1'],stride1)\n",
    "    conv1_pool=maxpooling(conv1,max_pool1_k)\n",
    "    conv2=conv(conv1_pool,weights['wc2'],biases['bc2'],stride2)\n",
    "    conv2_pool=maxpooling(conv2,max_pool2_k)\n",
    "    hidden_inp=tf.reshape(conv2_pool,shape=[-1,inp_size_to_hidden])\n",
    "    hidden_out_before_activation=tf.add(tf.matmul(hidden_inp,weights['wh1']),biases['bh1'])\n",
    "    hidden_output=tf.nn.relu(hidden_out_before_activation)\n",
    "    \n",
    "    output=tf.add(tf.matmul(hidden_output,weights['wo']),biases['bo'])\n",
    "    return output"
   ]
  },
  {
   "cell_type": "code",
   "execution_count": 7,
   "metadata": {},
   "outputs": [
    {
     "name": "stdout",
     "output_type": "stream",
     "text": [
      "WARNING:tensorflow:The following Variables were used in a Lambda layer's call (tf.compat.v1.nn.conv2d), but are not present in its tracked objects:   <tf.Variable 'Variable:0' shape=(5, 5, 1, 32) dtype=float32>. This is a strong indication that the Lambda layer should be rewritten as a subclassed Layer.\n",
      "WARNING:tensorflow:The following Variables were used in a Lambda layer's call (tf.nn.bias_add), but are not present in its tracked objects:   <tf.Variable 'Variable:0' shape=(32,) dtype=float32>. This is a strong indication that the Lambda layer should be rewritten as a subclassed Layer.\n",
      "WARNING:tensorflow:The following Variables were used in a Lambda layer's call (tf.compat.v1.nn.conv2d_1), but are not present in its tracked objects:   <tf.Variable 'Variable:0' shape=(5, 5, 32, 64) dtype=float32>. This is a strong indication that the Lambda layer should be rewritten as a subclassed Layer.\n",
      "WARNING:tensorflow:The following Variables were used in a Lambda layer's call (tf.nn.bias_add_1), but are not present in its tracked objects:   <tf.Variable 'Variable:0' shape=(64,) dtype=float32>. This is a strong indication that the Lambda layer should be rewritten as a subclassed Layer.\n",
      "WARNING:tensorflow:The following Variables were used in a Lambda layer's call (tf.linalg.matmul), but are not present in its tracked objects:   <tf.Variable 'Variable:0' shape=(3136, 1024) dtype=float32>. This is a strong indication that the Lambda layer should be rewritten as a subclassed Layer.\n",
      "WARNING:tensorflow:The following Variables were used in a Lambda layer's call (tf.math.add), but are not present in its tracked objects:   <tf.Variable 'Variable:0' shape=(1024,) dtype=float32>. This is a strong indication that the Lambda layer should be rewritten as a subclassed Layer.\n",
      "WARNING:tensorflow:The following Variables were used in a Lambda layer's call (tf.linalg.matmul_1), but are not present in its tracked objects:   <tf.Variable 'Variable:0' shape=(1024, 10) dtype=float32>. This is a strong indication that the Lambda layer should be rewritten as a subclassed Layer.\n",
      "WARNING:tensorflow:The following Variables were used in a Lambda layer's call (tf.math.add_1), but are not present in its tracked objects:   <tf.Variable 'Variable:0' shape=(10,) dtype=float32>. This is a strong indication that the Lambda layer should be rewritten as a subclassed Layer.\n"
     ]
    }
   ],
   "source": [
    "x = tf.keras.Input(shape=(inp_pixels,), dtype=tf.float32)\n",
    "y = tf.keras.Input(shape=(n_output,), dtype=tf.int32)\n",
    "pred=cnn(x,weights,biases)"
   ]
  },
  {
   "cell_type": "code",
   "execution_count": 29,
   "metadata": {},
   "outputs": [],
   "source": [
    "cost=tf.reduce_mean(tf.nn.softmax_cross_entropy_with_logits(logits=pred,labels=y))"
   ]
  },
  {
   "cell_type": "code",
   "execution_count": 33,
   "metadata": {},
   "outputs": [
    {
     "ename": "TypeError",
     "evalue": "OptimizerV2.minimize() missing 1 required positional argument: 'var_list'",
     "output_type": "error",
     "traceback": [
      "\u001b[1;31m---------------------------------------------------------------------------\u001b[0m",
      "\u001b[1;31mTypeError\u001b[0m                                 Traceback (most recent call last)",
      "\u001b[1;32mc:\\Users\\moham\\Desktop\\ML Python\\22.CNN\\CNN-1\\cnn_1.ipynb Cell 9\u001b[0m line \u001b[0;36m2\n\u001b[0;32m      <a href='vscode-notebook-cell:/c%3A/Users/moham/Desktop/ML%20Python/22.CNN/CNN-1/cnn_1.ipynb#X13sZmlsZQ%3D%3D?line=0'>1</a>\u001b[0m optimizer \u001b[39m=\u001b[39m tf\u001b[39m.\u001b[39mkeras\u001b[39m.\u001b[39moptimizers\u001b[39m.\u001b[39mAdam(learning_rate\u001b[39m=\u001b[39m\u001b[39m0.01\u001b[39m)\n\u001b[1;32m----> <a href='vscode-notebook-cell:/c%3A/Users/moham/Desktop/ML%20Python/22.CNN/CNN-1/cnn_1.ipynb#X13sZmlsZQ%3D%3D?line=1'>2</a>\u001b[0m optimize \u001b[39m=\u001b[39m optimizer\u001b[39m.\u001b[39;49mminimize(cost)\n",
      "\u001b[1;31mTypeError\u001b[0m: OptimizerV2.minimize() missing 1 required positional argument: 'var_list'"
     ]
    }
   ],
   "source": [
    "optimizer = tf.keras.optimizers.Adam(learning_rate=0.01)\n",
    "optimize = optimizer.minimize(cost)"
   ]
  }
 ],
 "metadata": {
  "kernelspec": {
   "display_name": "base",
   "language": "python",
   "name": "python3"
  },
  "language_info": {
   "codemirror_mode": {
    "name": "ipython",
    "version": 3
   },
   "file_extension": ".py",
   "mimetype": "text/x-python",
   "name": "python",
   "nbconvert_exporter": "python",
   "pygments_lexer": "ipython3",
   "version": "3.10.9"
  }
 },
 "nbformat": 4,
 "nbformat_minor": 2
}
