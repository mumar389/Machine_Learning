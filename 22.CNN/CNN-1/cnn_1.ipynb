{
 "cells": [
  {
   "cell_type": "code",
   "execution_count": 1,
   "metadata": {},
   "outputs": [],
   "source": [
    "import tensorflow as tf"
   ]
  },
  {
   "cell_type": "code",
   "execution_count": 3,
   "metadata": {},
   "outputs": [],
   "source": [
    "(x_train,y_train),(x_test,y_test)=tf.keras.datasets.mnist.load_data()"
   ]
  },
  {
   "cell_type": "code",
   "execution_count": 4,
   "metadata": {},
   "outputs": [],
   "source": [
    "#setting varialbles to be changed easily\n",
    "inp_width=28\n",
    "inp_height=28\n",
    "channels=1\n",
    "inp_pixels=784\n",
    "#units in convultional layer\n",
    "n_conv1=32\n",
    "n_conv2=64\n",
    "#filter size\n",
    "conv1_k=5\n",
    "conv2_k=5\n",
    "stride1=1\n",
    "stride2=1\n",
    "#pool size\n",
    "max_pool1_k=2\n",
    "max_pool2_k=2\n",
    "\n",
    "n_hidden=1024\n",
    "n_output=10"
   ]
  },
  {
   "cell_type": "code",
   "execution_count": null,
   "metadata": {},
   "outputs": [],
   "source": [
    "#weights and baises\n",
    "weights={\n",
    "    \"wc1\":tf.Variable(tf.random_normal_initializer([conv1_k,conv1_k,channels,n_conv1])),\n",
    "    \"wc2\":tf.Variable(tf.random_normal_initializer([conv2_k,conv2_k,n_conv1,n_conv2])),\n",
    "    \"wh1\":tf.Variable(tf.random_normal_initializer([inp_width//(max_pool1_k)]))\n",
    "}\n",
    "\n",
    "biases={\n",
    "\n",
    "}"
   ]
  }
 ],
 "metadata": {
  "kernelspec": {
   "display_name": "base",
   "language": "python",
   "name": "python3"
  },
  "language_info": {
   "codemirror_mode": {
    "name": "ipython",
    "version": 3
   },
   "file_extension": ".py",
   "mimetype": "text/x-python",
   "name": "python",
   "nbconvert_exporter": "python",
   "pygments_lexer": "ipython3",
   "version": "3.10.9"
  }
 },
 "nbformat": 4,
 "nbformat_minor": 2
}
