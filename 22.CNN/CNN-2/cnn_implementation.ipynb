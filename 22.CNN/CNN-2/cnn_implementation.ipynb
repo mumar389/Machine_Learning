{
 "cells": [
  {
   "cell_type": "code",
   "execution_count": 1,
   "metadata": {},
   "outputs": [],
   "source": [
    "import tensorflow as tf"
   ]
  },
  {
   "cell_type": "code",
   "execution_count": 2,
   "metadata": {},
   "outputs": [],
   "source": [
    "(x_train,y_train),(x_test,y_test)=tf.keras.datasets.mnist.load_data()"
   ]
  },
  {
   "cell_type": "markdown",
   "metadata": {},
   "source": [
    "**Inititalizing variables**"
   ]
  },
  {
   "cell_type": "code",
   "execution_count": 9,
   "metadata": {},
   "outputs": [],
   "source": [
    "inp_width=28\n",
    "inp_height=28\n",
    "inp_channels=1\n",
    "inp_pixels=784\n",
    "\n",
    "n_cnv1=32\n",
    "stride_conv1=1\n",
    "stride_conv2=1\n",
    "\n",
    "n_cnv2=64\n",
    "\n",
    "conv1_k=5\n",
    "conv2_k=5\n",
    "\n",
    "max_pool1_k=2\n",
    "max_pool2_k=2\n",
    "\n",
    "n_hidden=1024\n",
    "\n",
    "n_out=10\n",
    "\n",
    "inp_size_hidden=(inp_height//(max_pool1_k*max_pool2_k))*(inp_width//(max_pool1_k*max_pool2_k))*n_cnv2\n"
   ]
  },
  {
   "cell_type": "markdown",
   "metadata": {},
   "source": [
    "**Initializing the Weights and biases**"
   ]
  },
  {
   "cell_type": "code",
   "execution_count": 11,
   "metadata": {},
   "outputs": [],
   "source": [
    "weights:{\n",
    "    \"wc1\":tf.Variable(tf.random_normal_initializer()(shape=[conv1_k,conv1_k,inp_channels,n_cnv1])),\n",
    "    \"wc2\":tf.Variable(tf.random_normal_initializer()(shape=[conv2_k,conv2_k,n_cnv1,n_cnv2])),\n",
    "    \"wh\":tf.Variable(tf.random_normal_initializer()(shape=[inp_size_hidden,n_hidden])),\n",
    "    \"wo\":tf.Variable(tf.random_normal_initializer()(shape=[n_hidden,n_out]))\n",
    "}\n",
    "\n",
    "biases:{\n",
    "    \"bc1\":tf.Variable(tf.random_normal_initializer()(shape=[n_cnv1])),\n",
    "    \"bc2\":tf.Variable(tf.random_normal_initializer()(shape=[n_cnv2])),\n",
    "    \"bh\":tf.Variable(tf.random_normal_initializer()(shape=[n_hidden])),\n",
    "    \"bo\":tf.Variable(tf.random_normal_initializer()(shape=[n_out])),\n",
    "}"
   ]
  },
  {
   "cell_type": "code",
   "execution_count": 16,
   "metadata": {},
   "outputs": [],
   "source": [
    "#compeleting the functions-:\n",
    "def conv(x,weight,bias,stride=1):\n",
    "    #convolution-:\n",
    "    out=tf.nn.conv2d(x,weight,padding=\"SAME\",strides=[1,stride,stride,1])\n",
    "    #add bias\n",
    "    out=tf.nn.bias_add(out,bias)\n",
    "    #apply activation-:\n",
    "    out=tf.nn.relu(out)\n",
    "    return out"
   ]
  },
  {
   "cell_type": "code",
   "execution_count": 17,
   "metadata": {},
   "outputs": [],
   "source": [
    "def maxpooling(x,k=2):\n",
    "    return tf.nn.max_pool(x,padding=\"SAME\",ksize=[1,k,k,1],strides=[1,k,k,1])"
   ]
  },
  {
   "cell_type": "code",
   "execution_count": 18,
   "metadata": {},
   "outputs": [],
   "source": [
    "def cnn(x,weights,biases):\n",
    "    #reshape images -: it would come in 100*784, reshape to-:100*28*28*1\n",
    "    x=tf.reshape(x,shape=[-1,inp_height,inp_width,inp_channels])\n",
    "    #pass it to CNN-1\n",
    "    conv1=conv(x,weights[\"wc1\"],biases[\"bc1\"],stride_conv1)\n",
    "    conv1_pool=maxpooling(conv1,max_pool1_k)\n",
    "    \n",
    "\n",
    "    #pass it to CNN-2\n",
    "    conv2=conv(conv1_pool,weights[\"wc2\"],biases[\"bc2\"],stride_conv2)\n",
    "    conv2_pool=maxpooling(conv2,max_pool2_k)\n",
    "\n",
    "    #reshape-:\n",
    "    hidden_inp=tf.reshape(conv2_pool,shape=[-1,inp_size_hidden])\n",
    "    #pass it to dense layer\n",
    "    hidden_output_without_activation=tf.add(tf.matmul(hidden_inp,weights[\"wh\"]),biases[\"bh\"])\n",
    "    hidden_output=tf.nn.relu(hidden_output_without_activation)\n",
    "\n",
    "    #output layer-:\n",
    "    output=tf.add(tf.matmul(hidden_inp,weights[\"wo\"]),biases[\"bo\"])\n",
    "\n",
    "    return output\n"
   ]
  },
  {
   "cell_type": "code",
   "execution_count": null,
   "metadata": {},
   "outputs": [],
   "source": []
  }
 ],
 "metadata": {
  "kernelspec": {
   "display_name": "base",
   "language": "python",
   "name": "python3"
  },
  "language_info": {
   "codemirror_mode": {
    "name": "ipython",
    "version": 3
   },
   "file_extension": ".py",
   "mimetype": "text/x-python",
   "name": "python",
   "nbconvert_exporter": "python",
   "pygments_lexer": "ipython3",
   "version": "3.10.9"
  }
 },
 "nbformat": 4,
 "nbformat_minor": 2
}
