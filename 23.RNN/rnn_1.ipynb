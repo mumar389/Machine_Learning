{
 "cells": [
  {
   "cell_type": "code",
   "execution_count": 47,
   "metadata": {},
   "outputs": [],
   "source": [
    "import pandas as pd\n",
    "import numpy as np\n",
    "from sklearn.model_selection import train_test_split\n",
    "from sklearn.preprocessing import MinMaxScaler\n",
    "from keras.layers import Dense,SimpleRNN\n",
    "from keras.models import Sequential"
   ]
  },
  {
   "cell_type": "code",
   "execution_count": 22,
   "metadata": {},
   "outputs": [],
   "source": [
    "data=pd.read_csv('./international-airline-passengers.csv',usecols=[1])\n",
    "df=data.copy()"
   ]
  },
  {
   "cell_type": "code",
   "execution_count": 23,
   "metadata": {},
   "outputs": [],
   "source": [
    "c_name_1=df.columns[0]\n",
    "# c_name_2=df.columns[1]"
   ]
  },
  {
   "cell_type": "code",
   "execution_count": 25,
   "metadata": {},
   "outputs": [],
   "source": [
    "values=df.values.astype('float32')"
   ]
  },
  {
   "cell_type": "code",
   "execution_count": 29,
   "metadata": {},
   "outputs": [],
   "source": [
    "train_size=int((values[0]*0.67))\n",
    "test_size=values.shape[0]-train_size\n",
    "train=values[:train_size]\n",
    "test=values[train_size:]"
   ]
  },
  {
   "cell_type": "code",
   "execution_count": 30,
   "metadata": {},
   "outputs": [
    {
     "name": "stdout",
     "output_type": "stream",
     "text": [
      "(75, 1)\n",
      "(69, 1)\n"
     ]
    }
   ],
   "source": [
    "print(train.shape)\n",
    "print(test.shape)"
   ]
  },
  {
   "cell_type": "code",
   "execution_count": 31,
   "metadata": {},
   "outputs": [],
   "source": [
    "scaler=MinMaxScaler(feature_range=(0,1))\n",
    "train=scaler.fit_transform(train)\n",
    "test=scaler.transform(test)"
   ]
  },
  {
   "cell_type": "code",
   "execution_count": 36,
   "metadata": {},
   "outputs": [
    {
     "data": {
      "text/plain": [
       "(75, 1)"
      ]
     },
     "execution_count": 36,
     "metadata": {},
     "output_type": "execute_result"
    }
   ],
   "source": [
    "train.shape"
   ]
  },
  {
   "cell_type": "code",
   "execution_count": 33,
   "metadata": {},
   "outputs": [],
   "source": [
    "def create_dataset(data,k):\n",
    "    dataX,dataY=[],[]\n",
    "    for i in range(data.shape[0]-k):\n",
    "        x=data[i:i+k,0]\n",
    "        y=data[i+k,0]\n",
    "        dataX.append(x)\n",
    "        dataY.append(y)\n",
    "    return np.array(dataX),np.array(dataY)    "
   ]
  },
  {
   "cell_type": "code",
   "execution_count": 48,
   "metadata": {},
   "outputs": [],
   "source": [
    "look_back=12\n",
    "testX,testY=create_dataset(test,look_back)\n",
    "trainX,trainY=create_dataset(train,look_back)"
   ]
  },
  {
   "cell_type": "code",
   "execution_count": 50,
   "metadata": {},
   "outputs": [
    {
     "data": {
      "text/plain": [
       "(63, 12)"
      ]
     },
     "execution_count": 50,
     "metadata": {},
     "output_type": "execute_result"
    }
   ],
   "source": [
    "trainX.shape"
   ]
  },
  {
   "cell_type": "code",
   "execution_count": 49,
   "metadata": {},
   "outputs": [
    {
     "name": "stdout",
     "output_type": "stream",
     "text": [
      "Epoch 1/100\n",
      "63/63 [==============================] - 2s 4ms/step - loss: 0.9410\n",
      "Epoch 2/100\n",
      "63/63 [==============================] - 0s 4ms/step - loss: 0.3350\n",
      "Epoch 3/100\n",
      "63/63 [==============================] - 0s 4ms/step - loss: 0.1660\n",
      "Epoch 4/100\n",
      "63/63 [==============================] - 0s 4ms/step - loss: 0.1175\n",
      "Epoch 5/100\n",
      "63/63 [==============================] - 0s 4ms/step - loss: 0.0900\n",
      "Epoch 6/100\n",
      "63/63 [==============================] - 0s 4ms/step - loss: 0.0725\n",
      "Epoch 7/100\n",
      "63/63 [==============================] - 0s 5ms/step - loss: 0.0652\n",
      "Epoch 8/100\n",
      "63/63 [==============================] - 0s 4ms/step - loss: 0.0602\n",
      "Epoch 9/100\n",
      "63/63 [==============================] - 0s 4ms/step - loss: 0.0572\n",
      "Epoch 10/100\n",
      "63/63 [==============================] - 0s 4ms/step - loss: 0.0537\n",
      "Epoch 11/100\n",
      "63/63 [==============================] - 0s 4ms/step - loss: 0.0544\n",
      "Epoch 12/100\n",
      "63/63 [==============================] - 0s 4ms/step - loss: 0.0526\n",
      "Epoch 13/100\n",
      "63/63 [==============================] - 0s 4ms/step - loss: 0.0510\n",
      "Epoch 14/100\n",
      "63/63 [==============================] - 0s 5ms/step - loss: 0.0469\n",
      "Epoch 15/100\n",
      "63/63 [==============================] - 0s 5ms/step - loss: 0.0459\n",
      "Epoch 16/100\n",
      "63/63 [==============================] - 0s 6ms/step - loss: 0.0448\n",
      "Epoch 17/100\n",
      "63/63 [==============================] - 0s 5ms/step - loss: 0.0450\n",
      "Epoch 18/100\n",
      "63/63 [==============================] - 0s 4ms/step - loss: 0.0421\n",
      "Epoch 19/100\n",
      "63/63 [==============================] - 0s 5ms/step - loss: 0.0405\n",
      "Epoch 20/100\n",
      "63/63 [==============================] - 0s 4ms/step - loss: 0.0401\n",
      "Epoch 21/100\n",
      "63/63 [==============================] - 0s 3ms/step - loss: 0.0382\n",
      "Epoch 22/100\n",
      "63/63 [==============================] - 0s 5ms/step - loss: 0.0372\n",
      "Epoch 23/100\n",
      "63/63 [==============================] - 0s 4ms/step - loss: 0.0360\n",
      "Epoch 24/100\n",
      "63/63 [==============================] - 0s 3ms/step - loss: 0.0351\n",
      "Epoch 25/100\n",
      "63/63 [==============================] - 0s 4ms/step - loss: 0.0342\n",
      "Epoch 26/100\n",
      "63/63 [==============================] - 0s 5ms/step - loss: 0.0334\n",
      "Epoch 27/100\n",
      "63/63 [==============================] - 0s 4ms/step - loss: 0.0320\n",
      "Epoch 28/100\n",
      "63/63 [==============================] - 0s 4ms/step - loss: 0.0312\n",
      "Epoch 29/100\n",
      "63/63 [==============================] - 0s 4ms/step - loss: 0.0299\n",
      "Epoch 30/100\n",
      "63/63 [==============================] - 0s 4ms/step - loss: 0.0298\n",
      "Epoch 31/100\n",
      "63/63 [==============================] - 0s 4ms/step - loss: 0.0282\n",
      "Epoch 32/100\n",
      "63/63 [==============================] - 0s 4ms/step - loss: 0.0271\n",
      "Epoch 33/100\n",
      "63/63 [==============================] - 0s 4ms/step - loss: 0.0266\n",
      "Epoch 34/100\n",
      "63/63 [==============================] - 0s 3ms/step - loss: 0.0254\n",
      "Epoch 35/100\n",
      "63/63 [==============================] - 0s 3ms/step - loss: 0.0250\n",
      "Epoch 36/100\n",
      "63/63 [==============================] - 0s 3ms/step - loss: 0.0236\n",
      "Epoch 37/100\n",
      "63/63 [==============================] - 0s 3ms/step - loss: 0.0229\n",
      "Epoch 38/100\n",
      "63/63 [==============================] - 0s 3ms/step - loss: 0.0221\n",
      "Epoch 39/100\n",
      "63/63 [==============================] - 0s 3ms/step - loss: 0.0215\n",
      "Epoch 40/100\n",
      "63/63 [==============================] - 0s 3ms/step - loss: 0.0209\n",
      "Epoch 41/100\n",
      "63/63 [==============================] - 0s 3ms/step - loss: 0.0203\n",
      "Epoch 42/100\n",
      "63/63 [==============================] - 0s 3ms/step - loss: 0.0198\n",
      "Epoch 43/100\n",
      "63/63 [==============================] - 0s 3ms/step - loss: 0.0196\n",
      "Epoch 44/100\n",
      "63/63 [==============================] - 0s 4ms/step - loss: 0.0184\n",
      "Epoch 45/100\n",
      "63/63 [==============================] - 0s 3ms/step - loss: 0.0182\n",
      "Epoch 46/100\n",
      "63/63 [==============================] - 0s 3ms/step - loss: 0.0180\n",
      "Epoch 47/100\n",
      "63/63 [==============================] - 0s 3ms/step - loss: 0.0173\n",
      "Epoch 48/100\n",
      "63/63 [==============================] - 0s 3ms/step - loss: 0.0172\n",
      "Epoch 49/100\n",
      "63/63 [==============================] - 0s 3ms/step - loss: 0.0164\n",
      "Epoch 50/100\n",
      "63/63 [==============================] - 0s 3ms/step - loss: 0.0164\n",
      "Epoch 51/100\n",
      "63/63 [==============================] - 0s 3ms/step - loss: 0.0158\n",
      "Epoch 52/100\n",
      "63/63 [==============================] - 0s 3ms/step - loss: 0.0159\n",
      "Epoch 53/100\n",
      "63/63 [==============================] - 0s 3ms/step - loss: 0.0154\n",
      "Epoch 54/100\n",
      "63/63 [==============================] - 0s 3ms/step - loss: 0.0151\n",
      "Epoch 55/100\n",
      "63/63 [==============================] - 0s 4ms/step - loss: 0.0148\n",
      "Epoch 56/100\n",
      "63/63 [==============================] - 0s 5ms/step - loss: 0.0147\n",
      "Epoch 57/100\n",
      "63/63 [==============================] - 0s 3ms/step - loss: 0.0145\n",
      "Epoch 58/100\n",
      "63/63 [==============================] - 0s 3ms/step - loss: 0.0143\n",
      "Epoch 59/100\n",
      "63/63 [==============================] - 0s 3ms/step - loss: 0.0145\n",
      "Epoch 60/100\n",
      "63/63 [==============================] - 0s 3ms/step - loss: 0.0140\n",
      "Epoch 61/100\n",
      "63/63 [==============================] - 0s 3ms/step - loss: 0.0141\n",
      "Epoch 62/100\n",
      "63/63 [==============================] - 0s 3ms/step - loss: 0.0138\n",
      "Epoch 63/100\n",
      "63/63 [==============================] - 0s 3ms/step - loss: 0.0137\n",
      "Epoch 64/100\n",
      "63/63 [==============================] - 0s 4ms/step - loss: 0.0136\n",
      "Epoch 65/100\n",
      "63/63 [==============================] - 0s 3ms/step - loss: 0.0131\n",
      "Epoch 66/100\n",
      "63/63 [==============================] - 0s 4ms/step - loss: 0.0132\n",
      "Epoch 67/100\n",
      "63/63 [==============================] - 0s 3ms/step - loss: 0.0133\n",
      "Epoch 68/100\n",
      "63/63 [==============================] - 0s 3ms/step - loss: 0.0126\n",
      "Epoch 69/100\n",
      "63/63 [==============================] - 0s 3ms/step - loss: 0.0129\n",
      "Epoch 70/100\n",
      "63/63 [==============================] - 0s 3ms/step - loss: 0.0127\n",
      "Epoch 71/100\n",
      "63/63 [==============================] - 0s 3ms/step - loss: 0.0124\n",
      "Epoch 72/100\n",
      "63/63 [==============================] - 0s 3ms/step - loss: 0.0128\n",
      "Epoch 73/100\n",
      "63/63 [==============================] - 0s 4ms/step - loss: 0.0122\n",
      "Epoch 74/100\n",
      "63/63 [==============================] - 0s 5ms/step - loss: 0.0121\n",
      "Epoch 75/100\n",
      "63/63 [==============================] - 0s 5ms/step - loss: 0.0121\n",
      "Epoch 76/100\n",
      "63/63 [==============================] - 0s 7ms/step - loss: 0.0124\n",
      "Epoch 77/100\n",
      "63/63 [==============================] - 0s 8ms/step - loss: 0.0122\n",
      "Epoch 78/100\n",
      "63/63 [==============================] - 1s 8ms/step - loss: 0.0121\n",
      "Epoch 79/100\n",
      "63/63 [==============================] - 0s 4ms/step - loss: 0.0117\n",
      "Epoch 80/100\n",
      "63/63 [==============================] - 0s 4ms/step - loss: 0.0116\n",
      "Epoch 81/100\n",
      "63/63 [==============================] - 0s 4ms/step - loss: 0.0117\n",
      "Epoch 82/100\n",
      "63/63 [==============================] - 0s 3ms/step - loss: 0.0118\n",
      "Epoch 83/100\n",
      "63/63 [==============================] - 0s 3ms/step - loss: 0.0115\n",
      "Epoch 84/100\n",
      "63/63 [==============================] - 0s 3ms/step - loss: 0.0112\n",
      "Epoch 85/100\n",
      "63/63 [==============================] - 0s 4ms/step - loss: 0.0110\n",
      "Epoch 86/100\n",
      "63/63 [==============================] - 0s 4ms/step - loss: 0.0115\n",
      "Epoch 87/100\n",
      "63/63 [==============================] - 0s 4ms/step - loss: 0.0111\n",
      "Epoch 88/100\n",
      "63/63 [==============================] - 0s 4ms/step - loss: 0.0110\n",
      "Epoch 89/100\n",
      "63/63 [==============================] - 0s 4ms/step - loss: 0.0106\n",
      "Epoch 90/100\n",
      "63/63 [==============================] - 0s 3ms/step - loss: 0.0108\n",
      "Epoch 91/100\n",
      "63/63 [==============================] - 0s 4ms/step - loss: 0.0108\n",
      "Epoch 92/100\n",
      "63/63 [==============================] - 0s 4ms/step - loss: 0.0107\n",
      "Epoch 93/100\n",
      "63/63 [==============================] - 0s 4ms/step - loss: 0.0107\n",
      "Epoch 94/100\n",
      "63/63 [==============================] - 0s 5ms/step - loss: 0.0103\n",
      "Epoch 95/100\n",
      "63/63 [==============================] - 0s 5ms/step - loss: 0.0103\n",
      "Epoch 96/100\n",
      "63/63 [==============================] - 0s 5ms/step - loss: 0.0105\n",
      "Epoch 97/100\n",
      "63/63 [==============================] - 0s 7ms/step - loss: 0.0101\n",
      "Epoch 98/100\n",
      "63/63 [==============================] - 0s 5ms/step - loss: 0.0105\n",
      "Epoch 99/100\n",
      "63/63 [==============================] - 0s 5ms/step - loss: 0.0100\n",
      "Epoch 100/100\n",
      "63/63 [==============================] - 0s 6ms/step - loss: 0.0100\n"
     ]
    },
    {
     "data": {
      "text/plain": [
       "<keras.callbacks.History at 0x21f56e371c0>"
      ]
     },
     "execution_count": 49,
     "metadata": {},
     "output_type": "execute_result"
    }
   ],
   "source": [
    "#creating Model\n",
    "model=Sequential()\n",
    "model.add(SimpleRNN(4,input_shape=(look_back,1)))\n",
    "model.add(Dense(1))\n",
    "model.compile(loss='mean_squared_error',optimizer='adam')\n",
    "model.fit(trainX,trainY,epochs=100,batch_size=1)"
   ]
  }
 ],
 "metadata": {
  "kernelspec": {
   "display_name": "base",
   "language": "python",
   "name": "python3"
  },
  "language_info": {
   "codemirror_mode": {
    "name": "ipython",
    "version": 3
   },
   "file_extension": ".py",
   "mimetype": "text/x-python",
   "name": "python",
   "nbconvert_exporter": "python",
   "pygments_lexer": "ipython3",
   "version": "3.10.9"
  }
 },
 "nbformat": 4,
 "nbformat_minor": 2
}
