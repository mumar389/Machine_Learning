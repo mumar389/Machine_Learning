{
 "cells": [
  {
   "cell_type": "code",
   "execution_count": 1,
   "metadata": {},
   "outputs": [],
   "source": [
    "import pandas as pd\n",
    "import numpy as np\n",
    "from sklearn.model_selection import train_test_split"
   ]
  },
  {
   "cell_type": "code",
   "execution_count": 9,
   "metadata": {},
   "outputs": [],
   "source": [
    "data=pd.read_csv('./international-airline-passengers.csv')\n",
    "df=data.copy()"
   ]
  },
  {
   "cell_type": "code",
   "execution_count": null,
   "metadata": {},
   "outputs": [],
   "source": []
  },
  {
   "cell_type": "code",
   "execution_count": 15,
   "metadata": {},
   "outputs": [],
   "source": [
    "c_name_1=df.columns[0]\n",
    "c_name_2=df.columns[1]"
   ]
  },
  {
   "cell_type": "code",
   "execution_count": 16,
   "metadata": {},
   "outputs": [],
   "source": [
    "x_train,x_test,y_train,y_test=train_test_split(df[c_name_1],df[c_name_2],test_size=0.3,random_state=1)"
   ]
  },
  {
   "cell_type": "code",
   "execution_count": 17,
   "metadata": {},
   "outputs": [
    {
     "data": {
      "text/plain": [
       "94     1956-11\n",
       "91     1956-08\n",
       "84     1956-01\n",
       "48     1953-01\n",
       "53     1953-06\n",
       "5      1949-06\n",
       "42     1952-07\n",
       "33     1951-10\n",
       "112    1958-05\n",
       "108    1958-01\n",
       "14     1950-03\n",
       "16     1950-05\n",
       "74     1955-03\n",
       "128    1959-09\n",
       "69     1954-10\n",
       "29     1951-06\n",
       "58     1953-11\n",
       "138    1960-07\n",
       "31     1951-08\n",
       "65     1954-06\n",
       "45     1952-10\n",
       "19     1950-08\n",
       "77     1955-06\n",
       "83     1955-12\n",
       "119    1958-12\n",
       "90     1956-07\n",
       "123    1959-04\n",
       "44     1952-09\n",
       "28     1951-05\n",
       "35     1951-12\n",
       "100    1957-05\n",
       "111    1958-04\n",
       "40     1952-05\n",
       "17     1950-06\n",
       "66     1954-07\n",
       "73     1955-02\n",
       "104    1957-09\n",
       "93     1956-10\n",
       "18     1950-07\n",
       "4      1949-05\n",
       "131    1959-12\n",
       "39     1952-04\n",
       "36     1952-01\n",
       "109    1958-02\n",
       "Name: Month, dtype: object"
      ]
     },
     "execution_count": 17,
     "metadata": {},
     "output_type": "execute_result"
    }
   ],
   "source": [
    "x_test"
   ]
  }
 ],
 "metadata": {
  "kernelspec": {
   "display_name": "base",
   "language": "python",
   "name": "python3"
  },
  "language_info": {
   "codemirror_mode": {
    "name": "ipython",
    "version": 3
   },
   "file_extension": ".py",
   "mimetype": "text/x-python",
   "name": "python",
   "nbconvert_exporter": "python",
   "pygments_lexer": "ipython3",
   "version": "3.10.9"
  }
 },
 "nbformat": 4,
 "nbformat_minor": 2
}
