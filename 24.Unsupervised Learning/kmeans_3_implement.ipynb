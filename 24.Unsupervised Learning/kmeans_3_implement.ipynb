{
 "cells": [
  {
   "cell_type": "code",
   "execution_count": 1,
   "metadata": {},
   "outputs": [],
   "source": [
    "import numpy as np\n",
    "# from sklearn.cluster import KMeans\n",
    "from matplotlib import pyplot as plt"
   ]
  },
  {
   "cell_type": "code",
   "execution_count": 2,
   "metadata": {},
   "outputs": [],
   "source": [
    "x=np.array([[1,2],[1.5,1.8],[5,8],[8,8],[1,0.6],[9,11]])"
   ]
  },
  {
   "cell_type": "code",
   "execution_count": 22,
   "metadata": {},
   "outputs": [],
   "source": [
    "def fit(data,k,max_iter=100):\n",
    "    means=[]\n",
    "    #randomly initialize the mean-:\n",
    "    for i in range(k):\n",
    "        means.append(data[i])\n",
    "        #assign data pts to the cluster they belong\n",
    "    for i in range(max_iter):\n",
    "        #creating empty clusters\n",
    "        clusters=[]\n",
    "        for j in range(k):\n",
    "            clusters.append([])\n",
    "        for pts in data:\n",
    "            #find distance to all mean values\n",
    "            distances=[((pts-m)**2).sum() for m in means]\n",
    "            #find minimum dist\n",
    "            minDist=min(distances)\n",
    "            #find mean for which we have the min distance--->l\n",
    "            l=distances.index(minDist)\n",
    "            #add this point to cluster l\n",
    "            clusters[l].append(pts)\n",
    "\n",
    "\n",
    "        #calc the new means\n",
    "        change=False\n",
    "        for j in range(k):\n",
    "            new_mean=np.average(clusters[j],axis=0)\n",
    "            if not np.array_equal(means[j],new_mean):\n",
    "                change=True\n",
    "            means[j]=new_mean\n",
    "        if not change:\n",
    "            break    \n",
    "    return means    \n"
   ]
  },
  {
   "cell_type": "code",
   "execution_count": 24,
   "metadata": {},
   "outputs": [],
   "source": [
    "def predict(test_data,means):\n",
    "    predictions=[]\n",
    "    for pts in test_data:\n",
    "        #find distance to all mean values\n",
    "        distances=[((pts-m)**2).sum() for m in means]\n",
    "            #find minimum dist\n",
    "        minDist=min(distances)\n",
    "            #find mean for which we have the min distance--->l\n",
    "        l=distances.index(minDist)\n",
    "        predictions.append(l)\n",
    "    return predictions    "
   ]
  },
  {
   "cell_type": "code",
   "execution_count": 26,
   "metadata": {},
   "outputs": [
    {
     "data": {
      "text/plain": [
       "[0, 0, 1, 1, 0, 1]"
      ]
     },
     "execution_count": 26,
     "metadata": {},
     "output_type": "execute_result"
    }
   ],
   "source": [
    "means=fit(x,2)\n",
    "predict(x,means)"
   ]
  },
  {
   "cell_type": "code",
   "execution_count": null,
   "metadata": {},
   "outputs": [],
   "source": []
  }
 ],
 "metadata": {
  "kernelspec": {
   "display_name": "base",
   "language": "python",
   "name": "python3"
  },
  "language_info": {
   "codemirror_mode": {
    "name": "ipython",
    "version": 3
   },
   "file_extension": ".py",
   "mimetype": "text/x-python",
   "name": "python",
   "nbconvert_exporter": "python",
   "pygments_lexer": "ipython3",
   "version": "3.10.9"
  }
 },
 "nbformat": 4,
 "nbformat_minor": 2
}
