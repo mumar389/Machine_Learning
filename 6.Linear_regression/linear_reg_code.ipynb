{
 "cells": [
  {
   "cell_type": "code",
   "execution_count": 1,
   "metadata": {},
   "outputs": [
    {
     "data": {
      "text/plain": [
       "(100,)"
      ]
     },
     "execution_count": 1,
     "metadata": {},
     "output_type": "execute_result"
    }
   ],
   "source": [
    "import numpy as np\n",
    "# x=np.array([4,2,3,5,1,3])\n",
    "# y=np.array([3,4,2,5,3,1])\n",
    "data=np.loadtxt(\"data.csv\",delimiter=\",\")\n",
    "x=data[:,0]\n",
    "y=data[:,1]\n",
    "x.shape\n"
   ]
  },
  {
   "cell_type": "code",
   "execution_count": 2,
   "metadata": {},
   "outputs": [],
   "source": [
    "from sklearn import model_selection\n",
    "x_train,x_test,y_train,y_test=model_selection.train_test_split(x,y,test_size=0.3)"
   ]
  },
  {
   "cell_type": "code",
   "execution_count": 3,
   "metadata": {},
   "outputs": [],
   "source": [
    "def fit(x,y):\n",
    "    a=(x*y).mean()\n",
    "    b=x.mean()*y.mean()\n",
    "    d=(x**2).mean()\n",
    "    e=x.mean()*x.mean()\n",
    "    m=(a-b)/(d-e)\n",
    "    c=y.mean()-m*(x.mean())\n",
    "    return (m,c)\n",
    "\n",
    "def predict(x,m,c):\n",
    "    return (m*x+c)\n",
    "\n",
    "def cd(y_true,y_pred):\n",
    "    u=((y_true-y_pred)**2).sum()\n",
    "    v=((y_true-(y_true.mean()))**2).sum()\n",
    "    ans=1-(u/v)\n",
    "    return ans\n",
    "def cost(x,y,m,c):\n",
    "    return ((y-m*x-c)**2).mean()\n",
    "\n",
    "\n"
   ]
  },
  {
   "cell_type": "code",
   "execution_count": 4,
   "metadata": {},
   "outputs": [
    {
     "name": "stdout",
     "output_type": "stream",
     "text": [
      "Test Score-: 0.6300816780820204\n",
      "Train Score-: 0.5759324356972844\n",
      "M C-: 1.2723168442064197 11.03936001352374\n",
      "Cost-: 103.1893441108147\n"
     ]
    }
   ],
   "source": [
    "m,c=fit(x_train,y_train)\n",
    "# x_test=int(input(\"Enter x to predict\\n\"))\n",
    "y_test_pred=predict(x_test,m,c)\n",
    "coeffDet_test=cd(y_test,y_test_pred)\n",
    "print(\"Test Score-:\",coeffDet_test)\n",
    "#Score on training data-:\n",
    "y_train_pred=predict(x_train,m,c)\n",
    "# print(y_train_pred.shape)\n",
    "# print(y_train.shape)\n",
    "coeff_train=cd(y_train,y_train_pred)\n",
    "print(\"Train Score-:\",coeff_train)\n",
    "print(\"M C-:\",m,c)\n",
    "cs=cost(x_train,y_train,m,c)\n",
    "print(\"Cost-:\",cs)"
   ]
  }
 ],
 "metadata": {
  "kernelspec": {
   "display_name": "base",
   "language": "python",
   "name": "python3"
  },
  "language_info": {
   "codemirror_mode": {
    "name": "ipython",
    "version": 3
   },
   "file_extension": ".py",
   "mimetype": "text/x-python",
   "name": "python",
   "nbconvert_exporter": "python",
   "pygments_lexer": "ipython3",
   "version": "3.10.9"
  },
  "orig_nbformat": 4
 },
 "nbformat": 4,
 "nbformat_minor": 2
}
