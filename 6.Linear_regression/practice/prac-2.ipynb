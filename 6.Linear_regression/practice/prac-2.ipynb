{
 "cells": [
  {
   "cell_type": "markdown",
   "metadata": {},
   "source": [
    "**Implementing Linear Regression by own**"
   ]
  },
  {
   "cell_type": "code",
   "execution_count": 123,
   "metadata": {},
   "outputs": [],
   "source": [
    "import numpy as np\n",
    "import pandas as pd\n",
    "from sklearn import model_selection"
   ]
  },
  {
   "cell_type": "code",
   "execution_count": 124,
   "metadata": {},
   "outputs": [
    {
     "data": {
      "text/plain": [
       "(100, 2)"
      ]
     },
     "execution_count": 124,
     "metadata": {},
     "output_type": "execute_result"
    }
   ],
   "source": [
    "data=np.loadtxt('data.csv',delimiter=\",\")\n",
    "data.shape"
   ]
  },
  {
   "cell_type": "code",
   "execution_count": 125,
   "metadata": {},
   "outputs": [
    {
     "name": "stdout",
     "output_type": "stream",
     "text": [
      "(100,)\n",
      "(100,)\n"
     ]
    }
   ],
   "source": [
    "x=data[:,0]\n",
    "# x=x_np.reshape(-1,1)\n",
    "y=data[:,1]\n",
    "print(x.shape)\n",
    "print(y.shape)"
   ]
  },
  {
   "cell_type": "code",
   "execution_count": 126,
   "metadata": {},
   "outputs": [
    {
     "data": {
      "text/plain": [
       "((60,), (60,))"
      ]
     },
     "execution_count": 126,
     "metadata": {},
     "output_type": "execute_result"
    }
   ],
   "source": [
    "# x_train,x_test,y_train,y_test=model_selection.train_test_split(x,y)\n",
    "x_train,x_test,y_train,y_test=model_selection.train_test_split(x,y,test_size=0.4)\n",
    "x_train.shape,y_train.shape"
   ]
  },
  {
   "cell_type": "code",
   "execution_count": 127,
   "metadata": {},
   "outputs": [],
   "source": [
    "# x_train**2"
   ]
  },
  {
   "cell_type": "code",
   "execution_count": 128,
   "metadata": {},
   "outputs": [],
   "source": [
    "def fit(x_t,y_t):\n",
    "    num=(((x_t*y_t).mean())-x_t.mean()*y_t.mean())\n",
    "    denm=((x_t**2).mean()-x_t.mean()**2)\n",
    "    m=num//denm\n",
    "    c=(y_t.mean()-(m*x_t.mean()))\n",
    "    return m,c\n",
    "\n",
    "def predict(x_tes,m,c):\n",
    "    y_pre=x_tes*m+c\n",
    "    return y_pre\n",
    "\n",
    "def score(y_pre,y_tes):\n",
    "    u=((y_tes-y_pre)**2).sum()\n",
    "    v=((y_tes-y_tes.mean())**2).sum()\n",
    "    ans=1-(u/v)\n",
    "    return ans\n",
    "def cost(x_d,y_d,m,c):\n",
    "    ans=((y_d-(m*x_d)+c)**2).mean()\n",
    "    return ans\n"
   ]
  },
  {
   "cell_type": "code",
   "execution_count": 129,
   "metadata": {},
   "outputs": [
    {
     "data": {
      "text/plain": [
       "(1.0, 23.782553821586234)"
      ]
     },
     "execution_count": 129,
     "metadata": {},
     "output_type": "execute_result"
    }
   ],
   "source": [
    "m,c=fit(x_train,y_train)\n",
    "m,c"
   ]
  },
  {
   "cell_type": "code",
   "execution_count": 130,
   "metadata": {},
   "outputs": [
    {
     "data": {
      "text/plain": [
       "array([70.01352032, 85.6787765 , 59.35038387, 75.99435051, 92.54828809,\n",
       "       60.21856333, 71.93241271, 74.06539017, 77.35763135, 73.82212976,\n",
       "       77.44348608, 94.12862944, 86.78003457, 74.8711885 , 86.27725125,\n",
       "       81.28700144, 73.85569945, 66.21903077, 73.96894332, 57.42725983,\n",
       "       78.92474224, 89.97237043, 61.45820868, 61.90237785, 63.94945283,\n",
       "       78.06488253, 65.50323018, 60.71263043, 48.91103847, 64.96456993,\n",
       "       83.15337583, 68.28509189, 63.34045504, 62.73732289, 59.46064771,\n",
       "       84.05176822, 85.31291185, 67.10083645, 74.33931397, 68.46975005])"
      ]
     },
     "execution_count": 130,
     "metadata": {},
     "output_type": "execute_result"
    }
   ],
   "source": [
    "y_pred=predict(x_test,m,c)\n",
    "y_pred"
   ]
  },
  {
   "cell_type": "code",
   "execution_count": 131,
   "metadata": {},
   "outputs": [
    {
     "name": "stdout",
     "output_type": "stream",
     "text": [
      "0.5007083828606578\n",
      "Cost Train 2370.660254471938\n"
     ]
    }
   ],
   "source": [
    "print(score(y_pred,y_test))\n",
    "print(\"Cost Train\",cost(x_train,y_train,m,c))"
   ]
  }
 ],
 "metadata": {
  "kernelspec": {
   "display_name": "base",
   "language": "python",
   "name": "python3"
  },
  "language_info": {
   "codemirror_mode": {
    "name": "ipython",
    "version": 3
   },
   "file_extension": ".py",
   "mimetype": "text/x-python",
   "name": "python",
   "nbconvert_exporter": "python",
   "pygments_lexer": "ipython3",
   "version": "3.10.9"
  },
  "orig_nbformat": 4
 },
 "nbformat": 4,
 "nbformat_minor": 2
}
