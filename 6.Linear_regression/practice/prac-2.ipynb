{
 "cells": [
  {
   "cell_type": "markdown",
   "metadata": {},
   "source": [
    "**Implementing Linear Regression by own**"
   ]
  },
  {
   "cell_type": "code",
   "execution_count": 2,
   "metadata": {},
   "outputs": [],
   "source": [
    "import numpy as np\n",
    "import pandas as pd\n",
    "from sklearn import model_selection"
   ]
  },
  {
   "cell_type": "code",
   "execution_count": 3,
   "metadata": {},
   "outputs": [
    {
     "data": {
      "text/plain": [
       "(100, 2)"
      ]
     },
     "execution_count": 3,
     "metadata": {},
     "output_type": "execute_result"
    }
   ],
   "source": [
    "data=np.loadtxt('data.csv',delimiter=\",\")\n",
    "data.shape"
   ]
  },
  {
   "cell_type": "code",
   "execution_count": 4,
   "metadata": {},
   "outputs": [
    {
     "name": "stdout",
     "output_type": "stream",
     "text": [
      "(100,)\n",
      "(100,)\n"
     ]
    }
   ],
   "source": [
    "x=data[:,0]\n",
    "# x=x_np.reshape(-1,1)\n",
    "y=data[:,1]\n",
    "print(x.shape)\n",
    "print(y.shape)"
   ]
  },
  {
   "cell_type": "code",
   "execution_count": 5,
   "metadata": {},
   "outputs": [
    {
     "data": {
      "text/plain": [
       "(60,)"
      ]
     },
     "execution_count": 5,
     "metadata": {},
     "output_type": "execute_result"
    }
   ],
   "source": [
    "# x_train,x_test,y_train,y_test=model_selection.train_test_split(x,y)\n",
    "x_train,x_test,y_train,y_test=model_selection.train_test_split(x,y,test_size=0.4)\n",
    "x_train.shape"
   ]
  },
  {
   "cell_type": "code",
   "execution_count": 6,
   "metadata": {},
   "outputs": [],
   "source": [
    "# x_train**2"
   ]
  },
  {
   "cell_type": "code",
   "execution_count": 7,
   "metadata": {},
   "outputs": [],
   "source": [
    "def fit(x_t,y_t):\n",
    "    num=(((x_t*y_t).mean())-x_t.mean()*y_t.mean())\n",
    "    denm=((x_t**2).mean()-x_t.mean()**2)\n",
    "    m=num//denm\n",
    "    c=(y_t.mean()-(m*x_t.mean()))\n",
    "    return m,c\n",
    "\n",
    "def predict(x_tes,m,c):\n",
    "    y_pre=x_tes*m+c\n",
    "    return y_pre\n",
    "\n",
    "def score(y_pre,y_tes):\n",
    "    u=((y_tes-y_pre)**2).sum()\n",
    "    v=((y_tes-y_tes.mean())**2).sum()\n",
    "    ans=1-(u/v)\n",
    "    return ans\n",
    "def cost(x_d,y_d,m,c):\n",
    "    ans=((y_d-(m*x_d)+c)**2).mean()\n",
    "    return ans\n"
   ]
  },
  {
   "cell_type": "code",
   "execution_count": 8,
   "metadata": {},
   "outputs": [
    {
     "data": {
      "text/plain": [
       "(1.0, 24.890520541762086)"
      ]
     },
     "execution_count": 8,
     "metadata": {},
     "output_type": "execute_result"
    }
   ],
   "source": [
    "m,c=fit(x_train,y_train)\n",
    "m,c"
   ]
  },
  {
   "cell_type": "code",
   "execution_count": 9,
   "metadata": {},
   "outputs": [
    {
     "data": {
      "text/plain": [
       "array([81.79173524, 80.6962539 , 82.39496816, 73.04037943, 57.83100048,\n",
       "       91.08033715, 83.94026176, 70.50916431, 61.82059715, 59.22364525,\n",
       "       84.70372841, 82.20052398, 78.31732458, 71.62813995, 87.38521797,\n",
       "       66.07253665, 62.89600855, 69.38337642, 79.96861645, 73.84640911,\n",
       "       72.99556223, 75.44728069, 50.01900519, 78.5514528 , 81.7594212 ,\n",
       "       57.98435228, 66.26824708, 72.36616018, 77.10231723, 65.05741955,\n",
       "       70.33105127, 84.26134255, 64.44842176, 77.26896676, 60.45835059,\n",
       "       79.24215542, 68.76113319, 83.05899126, 81.6177286 , 76.73570745])"
      ]
     },
     "execution_count": 9,
     "metadata": {},
     "output_type": "execute_result"
    }
   ],
   "source": [
    "y_pred=predict(x_test,m,c)\n",
    "y_pred"
   ]
  },
  {
   "cell_type": "code",
   "execution_count": 10,
   "metadata": {},
   "outputs": [
    {
     "name": "stdout",
     "output_type": "stream",
     "text": [
      "0.49623039525919244\n",
      "Cost Train 2623.18777413627\n"
     ]
    }
   ],
   "source": [
    "print(score(y_pred,y_test))\n",
    "print(\"Cost Train\",cost(x_train,y_train,m,c))"
   ]
  }
 ],
 "metadata": {
  "kernelspec": {
   "display_name": "base",
   "language": "python",
   "name": "python3"
  },
  "language_info": {
   "codemirror_mode": {
    "name": "ipython",
    "version": 3
   },
   "file_extension": ".py",
   "mimetype": "text/x-python",
   "name": "python",
   "nbconvert_exporter": "python",
   "pygments_lexer": "ipython3",
   "version": "3.10.9"
  },
  "orig_nbformat": 4
 },
 "nbformat": 4,
 "nbformat_minor": 2
}
