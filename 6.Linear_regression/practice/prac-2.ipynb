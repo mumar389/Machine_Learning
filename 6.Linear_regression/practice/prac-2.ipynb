{
 "cells": [
  {
   "cell_type": "markdown",
   "metadata": {},
   "source": [
    "**Implementing Linear Regression by own**"
   ]
  },
  {
   "cell_type": "code",
   "execution_count": 110,
   "metadata": {},
   "outputs": [],
   "source": [
    "import numpy as np\n",
    "import pandas as pd\n",
    "from sklearn import model_selection"
   ]
  },
  {
   "cell_type": "code",
   "execution_count": 111,
   "metadata": {},
   "outputs": [
    {
     "data": {
      "text/plain": [
       "(100, 2)"
      ]
     },
     "execution_count": 111,
     "metadata": {},
     "output_type": "execute_result"
    }
   ],
   "source": [
    "data=np.loadtxt('data.csv',delimiter=\",\")\n",
    "data.shape"
   ]
  },
  {
   "cell_type": "code",
   "execution_count": 112,
   "metadata": {},
   "outputs": [
    {
     "name": "stdout",
     "output_type": "stream",
     "text": [
      "(100,)\n",
      "(100,)\n"
     ]
    }
   ],
   "source": [
    "x=data[:,0]\n",
    "# x=x_np.reshape(-1,1)\n",
    "y=data[:,1]\n",
    "print(x.shape)\n",
    "print(y.shape)"
   ]
  },
  {
   "cell_type": "code",
   "execution_count": 113,
   "metadata": {},
   "outputs": [
    {
     "data": {
      "text/plain": [
       "((70,), (70,))"
      ]
     },
     "execution_count": 113,
     "metadata": {},
     "output_type": "execute_result"
    }
   ],
   "source": [
    "# x_train,x_test,y_train,y_test=model_selection.train_test_split(x,y)\n",
    "x_train,x_test,y_train,y_test=model_selection.train_test_split(x,y,test_size=0.3)\n",
    "x_train.shape,y_train.shape"
   ]
  },
  {
   "cell_type": "code",
   "execution_count": 114,
   "metadata": {},
   "outputs": [],
   "source": [
    "# x_train**2"
   ]
  },
  {
   "cell_type": "code",
   "execution_count": 120,
   "metadata": {},
   "outputs": [],
   "source": [
    "def fit(x_t,y_t):\n",
    "    num=(((x_t*y_t).mean())-x_t.mean()*y_t.mean())\n",
    "    denm=((x_t**2).mean()-x_t.mean()**2)\n",
    "    m=num//denm\n",
    "    c=(y_t.mean()-(m*x_t.mean()))\n",
    "    return m,c\n",
    "\n",
    "def predict(x_tes,m,c):\n",
    "    y_pre=x_tes*m+c\n",
    "    return y_pre\n",
    "\n",
    "def score(y_pre,y_tes):\n",
    "    u=((y_tes-y_pre)**2).sum()\n",
    "    v=((y_tes-y_tes.mean())**2).sum()\n",
    "    ans=1-(u/v)\n",
    "    return ans\n",
    "def cost(x_d,y_d,m,c):\n",
    "    ans=((y_d-(m*x_d)+c)**2).mean()\n",
    "    return ans\n"
   ]
  },
  {
   "cell_type": "code",
   "execution_count": 116,
   "metadata": {},
   "outputs": [
    {
     "data": {
      "text/plain": [
       "(1.0, 24.895254865040293)"
      ]
     },
     "execution_count": 116,
     "metadata": {},
     "output_type": "execute_result"
    }
   ],
   "source": [
    "m,c=fit(x_train,y_train)\n",
    "m,c"
   ]
  },
  {
   "cell_type": "code",
   "execution_count": 117,
   "metadata": {},
   "outputs": [
    {
     "data": {
      "text/plain": [
       "array([85.16446926, 83.94499608, 81.79646957, 80.70098822, 57.56429863,\n",
       "       64.19482156, 70.51389864, 91.08507147, 68.2135375 , 71.57748351,\n",
       "       59.22837957, 69.39779293, 69.5824511 , 82.257307  , 60.46308491,\n",
       "       84.26607688, 69.10699662, 82.2052583 , 65.99794005, 68.76586751,\n",
       "       85.19258172, 81.62246292, 73.85114343, 82.39970248, 93.21461568,\n",
       "       78.4703324 , 66.61593122, 73.04511376, 79.97335077, 78.55618713])"
      ]
     },
     "execution_count": 117,
     "metadata": {},
     "output_type": "execute_result"
    }
   ],
   "source": [
    "y_pred=predict(x_test,m,c)\n",
    "y_pred"
   ]
  },
  {
   "cell_type": "code",
   "execution_count": 121,
   "metadata": {},
   "outputs": [
    {
     "name": "stdout",
     "output_type": "stream",
     "text": [
      "0.5381839355694205\n",
      "Cost Train 2609.0233351817756\n"
     ]
    }
   ],
   "source": [
    "print(score(y_pred,y_test))\n",
    "print(\"Cost Train\",cost(x_train,y_train,m,c))"
   ]
  }
 ],
 "metadata": {
  "kernelspec": {
   "display_name": "base",
   "language": "python",
   "name": "python3"
  },
  "language_info": {
   "codemirror_mode": {
    "name": "ipython",
    "version": 3
   },
   "file_extension": ".py",
   "mimetype": "text/x-python",
   "name": "python",
   "nbconvert_exporter": "python",
   "pygments_lexer": "ipython3",
   "version": "3.10.9"
  },
  "orig_nbformat": 4
 },
 "nbformat": 4,
 "nbformat_minor": 2
}
