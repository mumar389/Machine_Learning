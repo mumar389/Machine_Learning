{
 "cells": [
  {
   "cell_type": "code",
   "execution_count": 36,
   "metadata": {},
   "outputs": [],
   "source": [
    "# def cost(x,y,m,c):\n",
    "#     row,col=x.shape\n",
    "#     cost_total=0\n",
    "#     for i in range(row):\n",
    "#         for j in range(col):\n",
    "#             cost_total+=(1/row)*(y[i]-(m[j]*x[i][j])+c)\n",
    "#     return cost_total     \n",
    "# def find_slope(x,y,m,j):\n",
    "#     m_slope=0\n",
    "#     row=x.shape[0]\n",
    "#     cols=x.shape[1]\n",
    "#     M=x.shape[0]\n",
    "\n",
    "#     for i in range(row):\n",
    "#         for k in range(cols):\n",
    "#             m_slope+=(-2/M)*(y[i]-m[k]*x[i][k])*x[i][j]\n",
    "#     return m_slope    \n",
    "# def step(x,y,lr,m):\n",
    "#     row=x.shape[0]\n",
    "#     cols=x.shape[1]\n",
    "#     m_new=np.zeros(cols)\n",
    "#     m_slope=0\n",
    "#     for j in range(cols):\n",
    "#         m_new[j]=m[j]-lr*find_slope(x,y,m,j)   \n",
    "#     return m_new   \n",
    "# def gd(x,y,lr,it,x_orig):\n",
    "#     l=x.shape[1]\n",
    "#     m=np.zeros(l)\n",
    "#     c=m[l-1]\n",
    "#     for i in range(it):\n",
    "#         m=step(x,y,lr,m)\n",
    "#         cost_n=cost(x_orig,y,m,c)\n",
    "#         # print(\"Cost at it-:\",cost_n,it)\n",
    "#     return m    \n",
    "# def predict(x,m):\n",
    "#     n=x.shape[1]\n",
    "#     c=m[n]\n",
    "#     m_f = m[:13]\n",
    "#     c_prod=np.dot(x,m_f)\n",
    "#     return c_prod+c    \n",
    "   \n",
    "\n",
    "# def run():\n",
    "#     x_test=data_test[:,:13]\n",
    "    \n",
    "    \n",
    "#     rows, cols = x.shape\n",
    "#     ones_column = np.ones((rows, 1), dtype=x.dtype)\n",
    "#     X = np.concatenate((x, ones_column), axis=1)\n",
    "#     iterations=15\n",
    "#     learning_rate=0.001\n",
    "#     m=gd(X,y,learning_rate,iterations,x)\n",
    "#     y_pred=predict(x_test,m)\n",
    "#     # print(\"M\",m)\n",
    "#     print(y_pred)\n",
    "#     # print(X)\n",
    "#     np.savetxt(\"predicted.csv\",y_pred,delimiter=\",\",fmt='%.5f')\n",
    "# run()    \n"
   ]
  },
  {
   "cell_type": "code",
   "execution_count": 37,
   "metadata": {},
   "outputs": [],
   "source": [
    "import numpy as np\n",
    "import pandas as pd"
   ]
  },
  {
   "cell_type": "code",
   "execution_count": 38,
   "metadata": {},
   "outputs": [],
   "source": [
    "data_train=np.loadtxt(\"train.csv\",delimiter=\",\")\n",
    "data_test=np.loadtxt(\"test.csv\",delimiter=\",\")\n"
   ]
  },
  {
   "cell_type": "code",
   "execution_count": 39,
   "metadata": {},
   "outputs": [
    {
     "name": "stdout",
     "output_type": "stream",
     "text": [
      "[[   8.58   38.38 1021.03   84.37]\n",
      " [  21.79   58.2  1017.21   66.74]\n",
      " [  16.64   48.92 1011.55   78.76]\n",
      " ...\n",
      " [  29.8    69.34 1009.36   64.74]\n",
      " [  16.37   54.3  1017.94   63.63]\n",
      " [  30.11   62.04 1010.69   47.96]]\n",
      "[[  11.95   42.03 1017.58   90.89]\n",
      " [  12.07   38.25 1012.67   81.66]\n",
      " [  26.91   74.99 1005.64   78.98]\n",
      " ...\n",
      " [  24.32   66.25 1009.09   91.89]\n",
      " [  23.49   42.8  1013.96   65.31]\n",
      " [  21.76   60.27 1018.96   85.06]]\n"
     ]
    }
   ],
   "source": [
    "x_train=data_train[:,:4]\n",
    "y_train=data_train[:,4]\n",
    "x_test=data_test[:,:4]\n",
    "print(x_train)\n",
    "# print(y_train)\n",
    "print(x_test)"
   ]
  },
  {
   "cell_type": "code",
   "execution_count": 40,
   "metadata": {},
   "outputs": [],
   "source": [
    "def step_gd(x, y, learning_rate, m):\n",
    "    M = len(x)\n",
    "\n",
    "    m_slope = (-2 / M) * (((y - (x * m).sum(axis=1)).reshape(-1, 1)) * x).sum(axis=0)\n",
    "\n",
    "    m = m - learning_rate * m_slope\n",
    "\n",
    "    return m"
   ]
  },
  {
   "cell_type": "code",
   "execution_count": 41,
   "metadata": {},
   "outputs": [],
   "source": [
    "def gd(x, y, learning_rate, num_iterations):\n",
    "    m = np.zeros(len(x[0]))\n",
    "\n",
    "    for i in range(num_iterations):\n",
    "        m = step_gd(x, y, learning_rate, m)\n",
    "        # c=m[-1]\n",
    "        # cost_f=cost(x_train,y,m,c)\n",
    "        # print(\"Cost At iteration\",cost_f,i)\n",
    "\n",
    "    return m"
   ]
  },
  {
   "cell_type": "code",
   "execution_count": 42,
   "metadata": {},
   "outputs": [],
   "source": [
    "def run():\n",
    "    learning_rate = 0.0000001\n",
    "    num_iterations = 11\n",
    "    df = pd.DataFrame(data_train)\n",
    "    df[data_train.shape[1] - 1] = 1\n",
    "    x = df.values\n",
    "    # print(x.shape)\n",
    "    m = gd(x, y_train, learning_rate, num_iterations)\n",
    "    return m[0:-1], m[-1]"
   ]
  },
  {
   "cell_type": "code",
   "execution_count": 43,
   "metadata": {},
   "outputs": [
    {
     "data": {
      "text/plain": [
       "(array([0.00768863, 0.02156496, 0.41011637, 0.02985613]),\n",
       " 0.0004046524330582488)"
      ]
     },
     "execution_count": 43,
     "metadata": {},
     "output_type": "execute_result"
    }
   ],
   "source": [
    "m, c = run()\n",
    "m,c"
   ]
  },
  {
   "cell_type": "code",
   "execution_count": 44,
   "metadata": {},
   "outputs": [],
   "source": [
    "def predict(x,m,c):\n",
    "    # n=x.shape[1]\n",
    "    # c=m[n-1]\n",
    "    c_prod=np.dot(x,m)\n",
    "    return c_prod+c   "
   ]
  },
  {
   "cell_type": "code",
   "execution_count": 45,
   "metadata": {},
   "outputs": [],
   "source": [
    "# y_pred = np.zeros(len(data_test))\n",
    "# for i in range(len(data_test)):\n",
    "#     y_pred[i] = (m * data_test[i, :]).sum() + c\n",
    "y_pred=predict(x_test,m,c)"
   ]
  },
  {
   "cell_type": "code",
   "execution_count": 46,
   "metadata": {},
   "outputs": [
    {
     "data": {
      "text/plain": [
       "array([421.03849695, 418.66866053, 416.61192404, ..., 418.20387688,\n",
       "       418.89548757, 421.89916666])"
      ]
     },
     "execution_count": 46,
     "metadata": {},
     "output_type": "execute_result"
    }
   ],
   "source": [
    "y_pred"
   ]
  },
  {
   "cell_type": "code",
   "execution_count": 47,
   "metadata": {},
   "outputs": [],
   "source": [
    "np.savetxt(\"predicted.csv\",y_pred,delimiter=\",\",fmt='%.5f')"
   ]
  }
 ],
 "metadata": {
  "kernelspec": {
   "display_name": "base",
   "language": "python",
   "name": "python3"
  },
  "language_info": {
   "codemirror_mode": {
    "name": "ipython",
    "version": 3
   },
   "file_extension": ".py",
   "mimetype": "text/x-python",
   "name": "python",
   "nbconvert_exporter": "python",
   "pygments_lexer": "ipython3",
   "version": "3.10.9"
  },
  "orig_nbformat": 4
 },
 "nbformat": 4,
 "nbformat_minor": 2
}
