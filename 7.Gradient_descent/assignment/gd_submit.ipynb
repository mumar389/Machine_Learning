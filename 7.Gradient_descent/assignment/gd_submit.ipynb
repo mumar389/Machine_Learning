{
 "cells": [
  {
   "cell_type": "code",
   "execution_count": 35,
   "metadata": {},
   "outputs": [],
   "source": [
    "import numpy as np\n",
    "import pandas as pd"
   ]
  },
  {
   "cell_type": "code",
   "execution_count": 36,
   "metadata": {},
   "outputs": [],
   "source": [
    "df_train = np.genfromtxt(\"train.csv\", delimiter=\",\")\n",
    "# df_train=np.loadtxt('../practice_2/data.csv',delimiter=',',encoding='utf-8-sig')\n",
    "df_test = np.genfromtxt(\"test.csv\", delimiter=\",\")"
   ]
  },
  {
   "cell_type": "code",
   "execution_count": 37,
   "metadata": {},
   "outputs": [],
   "source": [
    "x_train = df_train[:, :13]\n",
    "y_train = df_train[:, -1]"
   ]
  },
  {
   "cell_type": "code",
   "execution_count": 38,
   "metadata": {},
   "outputs": [],
   "source": [
    "def step_gd(x, y, learning_rate, m):\n",
    "    M = len(x)\n",
    "    m_slope = (-2 / M) * (((y - (x * m).sum(axis=1)).reshape(-1, 1)) * x).sum(axis=0)\n",
    "\n",
    "    m = m - learning_rate * m_slope\n",
    "\n",
    "    return m"
   ]
  },
  {
   "cell_type": "code",
   "execution_count": 39,
   "metadata": {},
   "outputs": [],
   "source": [
    "def gd(x, y, learning_rate, num_iterations):\n",
    "    m = np.zeros(len(x[0]))\n",
    "\n",
    "    for i in range(num_iterations):\n",
    "        m = step_gd(x, y, learning_rate, m)\n",
    "\n",
    "    return m"
   ]
  },
  {
   "cell_type": "code",
   "execution_count": 40,
   "metadata": {},
   "outputs": [],
   "source": [
    "def run():\n",
    "    learning_rate = 0.0001\n",
    "    num_iterations = 100\n",
    "    df = pd.DataFrame(df_train)\n",
    "    df[df_train.shape[1] - 1] = 1\n",
    "    x = df.values\n",
    "    m = gd(x, y_train, learning_rate, num_iterations)\n",
    "    return m[0:-1], m[-1]"
   ]
  },
  {
   "cell_type": "code",
   "execution_count": 41,
   "metadata": {},
   "outputs": [
    {
     "name": "stdout",
     "output_type": "stream",
     "text": [
      "[-0.06130162  0.05659748 -0.07107771  0.04670746 -0.0607286   0.13691272\n",
      " -0.04468008  0.04016888 -0.04352379 -0.0611265  -0.08068037  0.05265429\n",
      " -0.12827322] 0.4478506899663742\n"
     ]
    }
   ],
   "source": [
    "m, c = run()\n",
    "print(m,c)"
   ]
  },
  {
   "cell_type": "code",
   "execution_count": 42,
   "metadata": {},
   "outputs": [],
   "source": [
    "y_pred = np.zeros(len(df_test))"
   ]
  },
  {
   "cell_type": "code",
   "execution_count": 43,
   "metadata": {},
   "outputs": [],
   "source": [
    "for i in range(len(df_test)):\n",
    "    y_pred[i] = (m * df_test[i, :]).sum() + c"
   ]
  },
  {
   "cell_type": "code",
   "execution_count": 44,
   "metadata": {},
   "outputs": [
    {
     "data": {
      "text/plain": [
       "array([-0.62678485,  0.94338732,  0.42563088,  0.9268961 ,  0.41832536,\n",
       "       -0.52114661,  0.89293154,  0.66583555,  0.37169144,  0.61135105,\n",
       "        0.76588858,  0.34509535,  0.71692785,  0.55374087,  1.17967483,\n",
       "        0.93724733,  0.77060458,  0.76577301,  0.80127153,  0.91722085,\n",
       "        0.46594261,  0.32230639,  0.67011534,  1.27686642,  1.42208566,\n",
       "       -0.27987851,  0.45488851,  1.12207597,  0.54387979,  0.92842104,\n",
       "        0.34862147,  0.7276943 ,  0.52004862,  0.76164583, -0.34633335,\n",
       "        0.72858337,  0.9016355 ,  0.3452896 ,  0.86399515, -0.60753904,\n",
       "       -0.7755401 ,  1.00098726,  1.2641524 ,  0.17453058,  0.00885832,\n",
       "       -0.90850485,  1.18584557,  0.62146796,  1.46331033, -0.19803211,\n",
       "       -0.23867715,  1.62607344, -0.17796559,  0.34556731,  0.29406202,\n",
       "        0.61324693,  0.38316921,  0.62313765,  0.18816154, -0.19147717,\n",
       "       -0.50175936,  0.72196264,  0.6910181 ,  0.75518767, -0.24661163,\n",
       "       -0.32662329,  0.98434993, -0.20891062,  0.67329606,  0.1802266 ,\n",
       "        0.8646179 ,  0.39168076,  0.0167018 , -0.79094137,  1.52025617,\n",
       "        0.79643613,  0.97545058,  0.88481429, -0.30920864,  1.44056503,\n",
       "       -0.07245557,  0.41230836,  0.71908082,  0.16943842, -0.16162783,\n",
       "        1.08299501,  0.99583606, -0.72824519,  0.2351643 , -0.12060816,\n",
       "        0.65530948,  0.32729632,  0.32032659, -0.39889731,  0.48054772,\n",
       "        0.38858157,  1.64191979,  0.14496648,  1.3349    ,  1.06216633,\n",
       "        0.67439089,  0.67422052,  0.7952454 ,  0.9085181 , -0.2684986 ,\n",
       "        0.73053495,  0.74860698,  1.58460327,  0.8507466 , -0.33240685,\n",
       "        1.20523375, -1.01286698,  0.09667429, -0.36280957,  1.17539864,\n",
       "        0.26428331,  0.51582559,  0.69612443,  0.77818205,  0.04999842,\n",
       "        0.19127517,  1.17506797,  0.56495201,  0.71243954,  1.02580471,\n",
       "        0.32049711, -0.16770325])"
      ]
     },
     "execution_count": 44,
     "metadata": {},
     "output_type": "execute_result"
    }
   ],
   "source": [
    "y_pred"
   ]
  },
  {
   "cell_type": "code",
   "execution_count": 45,
   "metadata": {},
   "outputs": [],
   "source": [
    "y_pred = np.around(y_pred, decimals=5)\n",
    "\n",
    "file = np.savetxt(\"prediction.csv\", y_pred, delimiter=\", \")"
   ]
  },
  {
   "cell_type": "code",
   "execution_count": null,
   "metadata": {},
   "outputs": [],
   "source": []
  },
  {
   "cell_type": "code",
   "execution_count": null,
   "metadata": {},
   "outputs": [],
   "source": []
  }
 ],
 "metadata": {
  "kernelspec": {
   "display_name": "Python 3",
   "language": "python",
   "name": "python3"
  },
  "language_info": {
   "codemirror_mode": {
    "name": "ipython",
    "version": 3
   },
   "file_extension": ".py",
   "mimetype": "text/x-python",
   "name": "python",
   "nbconvert_exporter": "python",
   "pygments_lexer": "ipython3",
   "version": "3.10.9"
  },
  "orig_nbformat": 4
 },
 "nbformat": 4,
 "nbformat_minor": 2
}
