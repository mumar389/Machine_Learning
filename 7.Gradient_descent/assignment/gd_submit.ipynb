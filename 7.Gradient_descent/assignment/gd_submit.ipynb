{
 "cells": [
  {
   "cell_type": "code",
   "execution_count": 2,
   "metadata": {},
   "outputs": [],
   "source": [
    "import numpy as np\n",
    "import pandas as pd"
   ]
  },
  {
   "cell_type": "code",
   "execution_count": 7,
   "metadata": {},
   "outputs": [
    {
     "data": {
      "text/plain": [
       "array([[10., 12., 15., 45.],\n",
       "       [11., 13., 16., 46.],\n",
       "       [12., 14., 17., 47.]])"
      ]
     },
     "execution_count": 7,
     "metadata": {},
     "output_type": "execute_result"
    }
   ],
   "source": [
    "# df_train = np.genfromtxt(\"../practice_2/data.csv\", delimiter=\",\")\n",
    "df_train=np.loadtxt('../practice_2/data.csv',delimiter=',',encoding='utf-8-sig')\n",
    "df_test = np.genfromtxt(\"test.csv\", delimiter=\",\")\n",
    "df_train"
   ]
  },
  {
   "cell_type": "code",
   "execution_count": 9,
   "metadata": {},
   "outputs": [
    {
     "data": {
      "text/plain": [
       "array([45., 46., 47.])"
      ]
     },
     "execution_count": 9,
     "metadata": {},
     "output_type": "execute_result"
    }
   ],
   "source": [
    "x_train = df_train[:, :3]\n",
    "y_train = df_train[:, -1]\n",
    "y_train"
   ]
  },
  {
   "cell_type": "code",
   "execution_count": 10,
   "metadata": {},
   "outputs": [],
   "source": [
    "def step_gd(x, y, learning_rate, m):\n",
    "    M = len(x)\n",
    "    m_slope = (-2 / M) * (((y - (x * m).sum(axis=1)).reshape(-1, 1)) * x).sum(axis=0)\n",
    "\n",
    "    m = m - learning_rate * m_slope\n",
    "\n",
    "    return m"
   ]
  },
  {
   "cell_type": "code",
   "execution_count": 11,
   "metadata": {},
   "outputs": [],
   "source": [
    "def gd(x, y, learning_rate, num_iterations):\n",
    "    m = np.zeros(len(x[0]))\n",
    "\n",
    "    for i in range(num_iterations):\n",
    "        m = step_gd(x, y, learning_rate, m)\n",
    "\n",
    "    return m"
   ]
  },
  {
   "cell_type": "code",
   "execution_count": 19,
   "metadata": {},
   "outputs": [],
   "source": [
    "def run():\n",
    "    learning_rate = 0.0001\n",
    "    num_iterations = 100\n",
    "    df = pd.DataFrame(df_train)\n",
    "    df[df_train.shape[1] - 1] = 1\n",
    "    x = df.values\n",
    "    m = gd(x, y_train, learning_rate, num_iterations)\n",
    "    return m[0:-1], m[-1]"
   ]
  },
  {
   "cell_type": "code",
   "execution_count": 20,
   "metadata": {},
   "outputs": [
    {
     "name": "stdout",
     "output_type": "stream",
     "text": [
      "[0.91738625 1.08915079 1.3467976 ] 0.08588226948164755\n"
     ]
    }
   ],
   "source": [
    "m, c = run()\n",
    "print(m,c)"
   ]
  },
  {
   "cell_type": "code",
   "execution_count": 8,
   "metadata": {},
   "outputs": [],
   "source": [
    "y_pred = np.zeros(len(df_test))"
   ]
  },
  {
   "cell_type": "code",
   "execution_count": 9,
   "metadata": {},
   "outputs": [],
   "source": [
    "for i in range(len(df_test)):\n",
    "    y_pred[i] = (m * df_test[i, :]).sum() + c"
   ]
  },
  {
   "cell_type": "code",
   "execution_count": 10,
   "metadata": {},
   "outputs": [
    {
     "data": {
      "text/plain": [
       "array([12.42989444, 29.02039391, 22.37354643, 24.46703242, 20.62175438,\n",
       "        2.73145008, 30.38110212, 24.85603445, 18.66257161, 23.53976431,\n",
       "       24.11358439, 17.71638788, 17.46398303, 21.66356997, 42.31859907,\n",
       "       23.85979426, 24.47528322, 27.55265382, 20.24532477, 31.16515999,\n",
       "       23.80379308, 25.00538134, 33.95493979, 36.43002887, 32.04938087,\n",
       "       16.70445641, 23.47622056, 32.95854932, 25.16710232, 33.71101947,\n",
       "       16.89127364, 26.04023426, 23.2739599 , 25.4751929 , 15.0088932 ,\n",
       "       29.59188242, 26.24833369, 20.39050928, 24.42398968,  9.44836666,\n",
       "        8.37393997, 29.0090706 , 29.59695559, 19.76416454, 20.36709015,\n",
       "        3.14047255, 39.52275699, 25.71759175, 30.35514265, 16.79149378,\n",
       "       17.88628765, 41.00335586, 17.56938699, 20.91121754, 15.6030035 ,\n",
       "       21.40397519, 18.45407138, 23.15688831, 13.67742577, 17.23112868,\n",
       "       15.03166155, 29.15154152, 25.18664177, 25.49703011, 17.20547714,\n",
       "       17.42690008, 34.70150774, 17.00983971, 27.09514313, 22.54014863,\n",
       "       29.26989314, 27.10732154, 17.73547794,  5.74313601, 36.85962066,\n",
       "       25.09462079, 30.13860414, 27.22994671, 16.24953084, 32.64595283,\n",
       "       19.2690115 , 22.67245178, 22.27110423,  8.54144853, 17.32718419,\n",
       "       29.17866587, 27.20308537,  5.88063557, 21.86287207, 20.11062415,\n",
       "       22.1751728 , 20.54108348, 20.87232188, 13.1795726 , 19.69969611,\n",
       "       25.98809233, 40.26312448, 19.72513401, 33.69482809, 27.20622659,\n",
       "       28.74019703, 22.11100975, 25.90682034, 31.3156621 , 17.15224995,\n",
       "       26.37322973, 21.459334  , 36.75579126, 22.0678539 , 16.70747292,\n",
       "       27.60587464, -0.06551043, 13.87545615, 16.27968488, 35.77025277,\n",
       "       20.8729305 , 20.77949602, 25.34578976, 21.80117305, 18.84682071,\n",
       "       13.51950701, 35.60573923, 23.10133251, 25.0032029 , 17.48988443,\n",
       "       20.75564943, 14.73184017])"
      ]
     },
     "execution_count": 10,
     "metadata": {},
     "output_type": "execute_result"
    }
   ],
   "source": [
    "y_pred"
   ]
  },
  {
   "cell_type": "code",
   "execution_count": 11,
   "metadata": {},
   "outputs": [],
   "source": [
    "y_pred = np.around(y_pred, decimals=5)\n",
    "\n",
    "file = np.savetxt(\"prediction.csv\", y_pred, delimiter=\", \")"
   ]
  },
  {
   "cell_type": "code",
   "execution_count": null,
   "metadata": {},
   "outputs": [],
   "source": []
  },
  {
   "cell_type": "code",
   "execution_count": null,
   "metadata": {},
   "outputs": [],
   "source": []
  }
 ],
 "metadata": {
  "kernelspec": {
   "display_name": "Python 3",
   "language": "python",
   "name": "python3"
  },
  "language_info": {
   "codemirror_mode": {
    "name": "ipython",
    "version": 3
   },
   "file_extension": ".py",
   "mimetype": "text/x-python",
   "name": "python",
   "nbconvert_exporter": "python",
   "pygments_lexer": "ipython3",
   "version": "3.10.9"
  },
  "orig_nbformat": 4
 },
 "nbformat": 4,
 "nbformat_minor": 2
}
