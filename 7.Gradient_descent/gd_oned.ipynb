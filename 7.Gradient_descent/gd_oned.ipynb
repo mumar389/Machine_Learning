{
 "cells": [
  {
   "cell_type": "code",
   "execution_count": 1,
   "metadata": {},
   "outputs": [],
   "source": [
    "import numpy as np"
   ]
  },
  {
   "cell_type": "code",
   "execution_count": 2,
   "metadata": {},
   "outputs": [],
   "source": [
    "def step_gradient(points,learning_rate,m,c):\n",
    "    m_slope=0\n",
    "    c_slope=0\n",
    "    M=len(points)\n",
    "    for i in range(M):\n",
    "        x=points[i,0]\n",
    "        y=points[i,1]\n",
    "        m_slope+=(-2/M)*(y-m*x-c)*x\n",
    "        c_slope+=(-2/M)*(y-m*x-c)\n",
    "    new_m=m-learning_rate*m_slope\n",
    "    new_c=c-learning_rate*c_slope\n",
    "    return new_m,new_c    "
   ]
  },
  {
   "cell_type": "code",
   "execution_count": 6,
   "metadata": {},
   "outputs": [],
   "source": [
    "def gd(points,learning_rate,iterations):\n",
    "    m=0\n",
    "    c=0\n",
    "    # M=len(points)\n",
    "    for i in range(iterations):\n",
    "        m,c=step_gradient(points,learning_rate,m,c)\n",
    "    return m,c    "
   ]
  },
  {
   "cell_type": "code",
   "execution_count": 7,
   "metadata": {},
   "outputs": [],
   "source": [
    "def run():\n",
    "    data=np.loadtxt(\"data.csv\",delimiter=\",\")\n",
    "    learning_rate=0.0001\n",
    "    iterations=10\n",
    "    m,c=gd(data,learning_rate,iterations)\n",
    "    print(\"M,C\",m,c)\n"
   ]
  },
  {
   "cell_type": "code",
   "execution_count": 8,
   "metadata": {},
   "outputs": [
    {
     "name": "stdout",
     "output_type": "stream",
     "text": [
      "M,C 1.47741737554838 0.029639347874732384\n"
     ]
    }
   ],
   "source": [
    "run()"
   ]
  }
 ],
 "metadata": {
  "kernelspec": {
   "display_name": "base",
   "language": "python",
   "name": "python3"
  },
  "language_info": {
   "codemirror_mode": {
    "name": "ipython",
    "version": 3
   },
   "file_extension": ".py",
   "mimetype": "text/x-python",
   "name": "python",
   "nbconvert_exporter": "python",
   "pygments_lexer": "ipython3",
   "version": "3.10.9"
  },
  "orig_nbformat": 4
 },
 "nbformat": 4,
 "nbformat_minor": 2
}
