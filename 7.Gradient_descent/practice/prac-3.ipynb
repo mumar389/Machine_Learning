{
 "cells": [
  {
   "cell_type": "code",
   "execution_count": 72,
   "metadata": {},
   "outputs": [],
   "source": [
    "import numpy as np\n",
    "import pandas as pd\n",
    "from matplotlib import pyplot as plt\n",
    "from sklearn.model_selection import train_test_split\n",
    "from sklearn.linear_model import LinearRegression"
   ]
  },
  {
   "cell_type": "code",
   "execution_count": 73,
   "metadata": {},
   "outputs": [
    {
     "data": {
      "text/plain": [
       "9"
      ]
     },
     "execution_count": 73,
     "metadata": {},
     "output_type": "execute_result"
    }
   ],
   "source": [
    "# data=pd.read_csv('prac.csv')\n",
    "# data.info()\n",
    "data=np.loadtxt('first.csv',delimiter=\",\")\n",
    "x=data[:,0].reshape(-1,1)\n",
    "y=data[:,1]\n",
    "len(data)"
   ]
  },
  {
   "cell_type": "code",
   "execution_count": 74,
   "metadata": {},
   "outputs": [
    {
     "data": {
      "text/html": [
       "<style>#sk-container-id-6 {color: black;background-color: white;}#sk-container-id-6 pre{padding: 0;}#sk-container-id-6 div.sk-toggleable {background-color: white;}#sk-container-id-6 label.sk-toggleable__label {cursor: pointer;display: block;width: 100%;margin-bottom: 0;padding: 0.3em;box-sizing: border-box;text-align: center;}#sk-container-id-6 label.sk-toggleable__label-arrow:before {content: \"▸\";float: left;margin-right: 0.25em;color: #696969;}#sk-container-id-6 label.sk-toggleable__label-arrow:hover:before {color: black;}#sk-container-id-6 div.sk-estimator:hover label.sk-toggleable__label-arrow:before {color: black;}#sk-container-id-6 div.sk-toggleable__content {max-height: 0;max-width: 0;overflow: hidden;text-align: left;background-color: #f0f8ff;}#sk-container-id-6 div.sk-toggleable__content pre {margin: 0.2em;color: black;border-radius: 0.25em;background-color: #f0f8ff;}#sk-container-id-6 input.sk-toggleable__control:checked~div.sk-toggleable__content {max-height: 200px;max-width: 100%;overflow: auto;}#sk-container-id-6 input.sk-toggleable__control:checked~label.sk-toggleable__label-arrow:before {content: \"▾\";}#sk-container-id-6 div.sk-estimator input.sk-toggleable__control:checked~label.sk-toggleable__label {background-color: #d4ebff;}#sk-container-id-6 div.sk-label input.sk-toggleable__control:checked~label.sk-toggleable__label {background-color: #d4ebff;}#sk-container-id-6 input.sk-hidden--visually {border: 0;clip: rect(1px 1px 1px 1px);clip: rect(1px, 1px, 1px, 1px);height: 1px;margin: -1px;overflow: hidden;padding: 0;position: absolute;width: 1px;}#sk-container-id-6 div.sk-estimator {font-family: monospace;background-color: #f0f8ff;border: 1px dotted black;border-radius: 0.25em;box-sizing: border-box;margin-bottom: 0.5em;}#sk-container-id-6 div.sk-estimator:hover {background-color: #d4ebff;}#sk-container-id-6 div.sk-parallel-item::after {content: \"\";width: 100%;border-bottom: 1px solid gray;flex-grow: 1;}#sk-container-id-6 div.sk-label:hover label.sk-toggleable__label {background-color: #d4ebff;}#sk-container-id-6 div.sk-serial::before {content: \"\";position: absolute;border-left: 1px solid gray;box-sizing: border-box;top: 0;bottom: 0;left: 50%;z-index: 0;}#sk-container-id-6 div.sk-serial {display: flex;flex-direction: column;align-items: center;background-color: white;padding-right: 0.2em;padding-left: 0.2em;position: relative;}#sk-container-id-6 div.sk-item {position: relative;z-index: 1;}#sk-container-id-6 div.sk-parallel {display: flex;align-items: stretch;justify-content: center;background-color: white;position: relative;}#sk-container-id-6 div.sk-item::before, #sk-container-id-6 div.sk-parallel-item::before {content: \"\";position: absolute;border-left: 1px solid gray;box-sizing: border-box;top: 0;bottom: 0;left: 50%;z-index: -1;}#sk-container-id-6 div.sk-parallel-item {display: flex;flex-direction: column;z-index: 1;position: relative;background-color: white;}#sk-container-id-6 div.sk-parallel-item:first-child::after {align-self: flex-end;width: 50%;}#sk-container-id-6 div.sk-parallel-item:last-child::after {align-self: flex-start;width: 50%;}#sk-container-id-6 div.sk-parallel-item:only-child::after {width: 0;}#sk-container-id-6 div.sk-dashed-wrapped {border: 1px dashed gray;margin: 0 0.4em 0.5em 0.4em;box-sizing: border-box;padding-bottom: 0.4em;background-color: white;}#sk-container-id-6 div.sk-label label {font-family: monospace;font-weight: bold;display: inline-block;line-height: 1.2em;}#sk-container-id-6 div.sk-label-container {text-align: center;}#sk-container-id-6 div.sk-container {/* jupyter's `normalize.less` sets `[hidden] { display: none; }` but bootstrap.min.css set `[hidden] { display: none !important; }` so we also need the `!important` here to be able to override the default hidden behavior on the sphinx rendered scikit-learn.org. See: https://github.com/scikit-learn/scikit-learn/issues/21755 */display: inline-block !important;position: relative;}#sk-container-id-6 div.sk-text-repr-fallback {display: none;}</style><div id=\"sk-container-id-6\" class=\"sk-top-container\"><div class=\"sk-text-repr-fallback\"><pre>LinearRegression()</pre><b>In a Jupyter environment, please rerun this cell to show the HTML representation or trust the notebook. <br />On GitHub, the HTML representation is unable to render, please try loading this page with nbviewer.org.</b></div><div class=\"sk-container\" hidden><div class=\"sk-item\"><div class=\"sk-estimator sk-toggleable\"><input class=\"sk-toggleable__control sk-hidden--visually\" id=\"sk-estimator-id-6\" type=\"checkbox\" checked><label for=\"sk-estimator-id-6\" class=\"sk-toggleable__label sk-toggleable__label-arrow\">LinearRegression</label><div class=\"sk-toggleable__content\"><pre>LinearRegression()</pre></div></div></div></div></div>"
      ],
      "text/plain": [
       "LinearRegression()"
      ]
     },
     "execution_count": 74,
     "metadata": {},
     "output_type": "execute_result"
    }
   ],
   "source": [
    "reg1=LinearRegression()\n",
    "reg1.fit(x,y)"
   ]
  },
  {
   "cell_type": "code",
   "execution_count": 75,
   "metadata": {},
   "outputs": [
    {
     "data": {
      "text/plain": [
       "(1.0000000000000002, 35.0)"
      ]
     },
     "execution_count": 75,
     "metadata": {},
     "output_type": "execute_result"
    }
   ],
   "source": [
    "reg1.coef_[0],reg1.intercept_"
   ]
  },
  {
   "cell_type": "code",
   "execution_count": 76,
   "metadata": {},
   "outputs": [],
   "source": [
    "def step_gradient(data,lr,m,c):\n",
    "    m_slope=0\n",
    "    c_slope=0\n",
    "    N=len(data)\n",
    "    for i in range(N):\n",
    "        x=data[i,0]\n",
    "        y=data[i,1]\n",
    "        m_slope+=(-2/N)*(y-m*x-c)*x\n",
    "        c_slope+=(-2/N)*(y-m*x-c)\n",
    "    # print(\"M_slope=\",m_slope)    \n",
    "    # print(\"C_slope=\",c_slope)    \n",
    "    new_m=m-lr*m_slope\n",
    "    new_c=c-lr*c_slope\n",
    "    return new_m,new_c    "
   ]
  },
  {
   "cell_type": "code",
   "execution_count": 77,
   "metadata": {},
   "outputs": [],
   "source": [
    "def cost(data,m,c):\n",
    "    M=len(data)\n",
    "    total_cost=0\n",
    "    for i in range(M):\n",
    "        x=data[i,0]\n",
    "        y=data[i,1]\n",
    "        total_cost+=(-1/M)*((y-m*x-c)**2)\n",
    "    return total_cost    "
   ]
  },
  {
   "cell_type": "code",
   "execution_count": 78,
   "metadata": {},
   "outputs": [],
   "source": [
    "def gd(data,lr,it):\n",
    "    #starting with random value of m,c\n",
    "    m=0\n",
    "    c=0\n",
    "    for i in range(it):\n",
    "        m,c=step_gradient(data,lr,m,c)\n",
    "        print(i,\"-Cost\",cost(data,m,c))\n",
    "              \n",
    "\n",
    "    return m,c    "
   ]
  },
  {
   "cell_type": "code",
   "execution_count": 85,
   "metadata": {},
   "outputs": [],
   "source": [
    "def run():\n",
    "    data=np.loadtxt('first.csv',delimiter=\",\")\n",
    "    learning_rate=0.0001\n",
    "    num_iterations=90\n",
    "    m,c=gd(data,learning_rate,num_iterations)\n",
    "    print(\"M,C=\",m,c)"
   ]
  },
  {
   "cell_type": "code",
   "execution_count": 86,
   "metadata": {},
   "outputs": [
    {
     "name": "stdout",
     "output_type": "stream",
     "text": [
      "0 -Cost -2218.7190059896293\n",
      "1 -Cost -2044.84836350341\n",
      "2 -Cost -1884.8516700466457\n",
      "3 -Cost -1737.6218552416435\n",
      "4 -Cost -1602.1401872810181\n",
      "5 -Cost -1477.4692239602873\n",
      "6 -Cost -1362.7463261821222\n",
      "7 -Cost -1257.1776890498784\n",
      "8 -Cost -1160.03284924942\n",
      "9 -Cost -1070.6396307138632\n",
      "10 -Cost -988.3794935985036\n",
      "11 -Cost -912.683254383815\n",
      "12 -Cost -843.0271474924098\n",
      "13 -Cost -778.9292011688781\n",
      "14 -Cost -719.9459025459341\n",
      "15 -Cost -665.6691288212767\n",
      "16 -Cost -615.7233233108836\n",
      "17 -Cost -569.7628968388568\n",
      "18 -Cost -527.4698364830992\n",
      "19 -Cost -488.55150513089706\n",
      "20 -Cost -452.7386166187404\n",
      "21 -Cost -419.78337244566336\n",
      "22 -Cost -389.45774716735514\n",
      "23 -Cost -361.5519106070775\n",
      "24 -Cost -335.87277596610534\n",
      "25 -Cost -312.24266378754754\n",
      "26 -Cost -290.49807252904475\n",
      "27 -Cost -270.4885472374926\n",
      "28 -Cost -252.07563849775548\n",
      "29 -Cost -235.13194445196112\n",
      "30 -Cost -219.5402292607725\n",
      "31 -Cost -205.19261190695244\n",
      "32 -Cost -191.98981972826815\n",
      "33 -Cost -179.8405015146628\n",
      "34 -Cost -168.66059541676947\n",
      "35 -Cost -158.37274729210216\n",
      "36 -Cost -148.90577546425516\n",
      "37 -Cost -140.19417819158784\n",
      "38 -Cost -132.17768043739682\n",
      "39 -Cost -124.80081680551733\n",
      "40 -Cost -118.01254775553623\n",
      "41 -Cost -111.76590644207431\n",
      "42 -Cost -106.01767373449204\n",
      "43 -Cost -100.72807916836612\n",
      "44 -Cost -95.86052575951312\n",
      "45 -Cost -91.38133677645024\n",
      "46 -Cost -87.25952271912253\n",
      "47 -Cost -83.46656689153929\n",
      "48 -Cost -79.97622808462036\n",
      "49 -Cost -76.7643590039456\n",
      "50 -Cost -73.80873918604317\n",
      "51 -Cost -71.08892124710654\n",
      "52 -Cost -68.5860894002792\n",
      "53 -Cost -66.28292926253938\n",
      "54 -Cost -64.16350805033052\n",
      "55 -Cost -62.21316433496986\n",
      "56 -Cost -60.41840659501325\n",
      "57 -Cost -58.766819863623766\n",
      "58 -Cost -57.24697982500429\n",
      "59 -Cost -55.8483737654966\n",
      "60 -Cost -54.56132783237969\n",
      "61 -Cost -53.37694009704502\n",
      "62 -Cost -52.28701895938894\n",
      "63 -Cost -51.28402646722062\n",
      "64 -Cost -50.36102615849204\n",
      "65 -Cost -49.511635065451976\n",
      "66 -Cost -48.72997954862407\n",
      "67 -Cost -48.01065465500767\n",
      "68 -Cost -47.34868671928736\n",
      "69 -Cost -46.73949894927539\n",
      "70 -Cost -46.17887975745972\n",
      "71 -Cost -45.66295361953363\n",
      "72 -Cost -45.18815425826564\n",
      "73 -Cost -44.751199967160005\n",
      "74 -Cost -44.3490709031634\n",
      "75 -Cost -43.97898819129744\n",
      "76 -Cost -43.6383946966354\n",
      "77 -Cost -43.324937330576844\n",
      "78 -Cost -43.036450768991294\n",
      "79 -Cost -42.770942469571246\n",
      "80 -Cost -42.5265788847237\n",
      "81 -Cost -42.3016727746029\n",
      "82 -Cost -42.094671532498175\n",
      "83 -Cost -41.904146441796385\n",
      "84 -Cost -41.72878279018392\n",
      "85 -Cost -41.567370772685074\n",
      "86 -Cost -41.4187971205914\n",
      "87 -Cost -41.282037398359925\n",
      "88 -Cost -41.156148915179664\n",
      "89 -Cost -41.04026420215869\n",
      "M,C= 3.31986334433247 0.24994825305163018\n"
     ]
    }
   ],
   "source": [
    "run()"
   ]
  }
 ],
 "metadata": {
  "kernelspec": {
   "display_name": "base",
   "language": "python",
   "name": "python3"
  },
  "language_info": {
   "codemirror_mode": {
    "name": "ipython",
    "version": 3
   },
   "file_extension": ".py",
   "mimetype": "text/x-python",
   "name": "python",
   "nbconvert_exporter": "python",
   "pygments_lexer": "ipython3",
   "version": "3.10.9"
  },
  "orig_nbformat": 4
 },
 "nbformat": 4,
 "nbformat_minor": 2
}
