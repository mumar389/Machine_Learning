{
 "cells": [
  {
   "cell_type": "markdown",
   "metadata": {},
   "source": [
    "**Implementing Gradient Descent for n featrue data set. df will be of (m*n)**"
   ]
  },
  {
   "cell_type": "code",
   "execution_count": 57,
   "metadata": {},
   "outputs": [],
   "source": [
    "import pandas as pd\n",
    "import numpy as np\n",
    "from sklearn.linear_model import LinearRegression"
   ]
  },
  {
   "cell_type": "code",
   "execution_count": 76,
   "metadata": {},
   "outputs": [],
   "source": [
    "def slope(data,y,row,col,m,j):\n",
    "    m_slope=0\n",
    "    M=len(data)\n",
    "    for i in range(row):\n",
    "        y1=y[i]\n",
    "        for k in range(col):\n",
    "            m_slope+=(-2/M)*(y1-(m[k]*data[i][k]))*data[i][j]\n",
    "    return m_slope        "
   ]
  },
  {
   "cell_type": "code",
   "execution_count": 77,
   "metadata": {},
   "outputs": [],
   "source": [
    "def step_gd(data,y,row,col,m,lr):\n",
    "    # x=data[:,:3]\n",
    "    m_new=np.zeros(col)\n",
    "    for j in range(col):\n",
    "        m_new[j]=m[j]-lr*slope(data,y,row,col,m,j)\n",
    "    return m_new    \n"
   ]
  },
  {
   "cell_type": "code",
   "execution_count": 95,
   "metadata": {},
   "outputs": [],
   "source": [
    "def cost(data,y,m,row,col):\n",
    "    M=len(data)\n",
    "    total_cost=0\n",
    "    for i in range(row):\n",
    "        for j in range(col):\n",
    "            total_cost+=(1/M)*(((y[i])-m[j]*data[i][j])**2)\n",
    "    return total_cost"
   ]
  },
  {
   "cell_type": "code",
   "execution_count": 96,
   "metadata": {},
   "outputs": [],
   "source": [
    "def gd(data,it,lr):\n",
    "    row,col=data.shape\n",
    "    m=np.zeros(col)\n",
    "    y=data[:,3].copy()\n",
    "    data[:,3]=np.ones(row)\n",
    "    for i in range(it):\n",
    "      m=step_gd(data,y,row,col,m,lr)\n",
    "      print(\"Cost-:\",cost(data,y,m,row,col))\n",
    "    return m[:col-1],m[col-1]    \n",
    "    "
   ]
  },
  {
   "cell_type": "code",
   "execution_count": 102,
   "metadata": {},
   "outputs": [
    {
     "name": "stdout",
     "output_type": "stream",
     "text": [
      "Cost-: 8282.562121167644\n",
      "Cost-: 8103.391323398729\n",
      "Cost-: 7929.036514784782\n",
      "Cost-: 7759.382618252061\n",
      "Cost-: 7594.317178464237\n",
      "Cost-: 7433.730303376764\n",
      "Cost-: 7277.514607080641\n",
      "Cost-: 7125.565153907283\n",
      "Cost-: 6977.779403766809\n",
      "Cost-: 6834.057158692681\n",
      "Cost-: 6694.300510566205\n",
      "Cost-: 6558.413789994997\n",
      "Cost-: 6426.303516320063\n",
      "Cost-: 6297.878348726731\n",
      "Cost-: 6173.049038435196\n",
      "Cost-: 6051.72838194695\n",
      "Cost-: 5933.831175323923\n",
      "Cost-: 5819.274169477674\n",
      "Cost-: 5707.9760264463985\n",
      "Cost-: 5599.857276638102\n",
      "Cost-: 5494.840277018705\n",
      "Cost-: 5392.849170224288\n",
      "Cost-: 5293.809844577232\n",
      "Cost-: 5197.649894986341\n",
      "Cost-: 5104.298584711558\n",
      "Cost-: 5013.686807974262\n",
      "Cost-: 4925.747053394563\n",
      "Cost-: 4840.413368237432\n",
      "Cost-: 4757.621323449867\n",
      "Cost-: 4677.307979471738\n",
      "Cost-: 4599.41185280327\n",
      "Cost-: 4523.872883312571\n",
      "Cost-: 4450.6324022668905\n",
      "Cost-: 4379.633101071731\n",
      "Cost-: 4310.819000702234\n",
      "Cost-: 4244.135421811612\n",
      "Cost-: 4179.528955501761\n",
      "Cost-: 4116.947434741447\n",
      "Cost-: 4056.3399064178757\n",
      "Cost-: 3997.6566040076664\n",
      "Cost-: 3940.848920853634\n",
      "Cost-: 3885.8693840340366\n",
      "Cost-: 3832.671628811262\n",
      "Cost-: 3781.21037364719\n",
      "Cost-: 3731.441395772776\n",
      "Cost-: 3683.321507299648\n",
      "Cost-: 3636.8085318617896\n",
      "Cost-: 3591.8612817756402\n",
      "Cost-: 3548.43953570721\n",
      "Cost-: 3506.5040168350215\n",
      "Cost-: 3466.016371497996\n",
      "Cost-: 3426.9391483175796\n",
      "Cost-: 3389.2357777836705\n",
      "Cost-: 3352.8705522941436\n",
      "Cost-: 3317.8086066379697\n",
      "Cost-: 3284.0158989121605\n",
      "Cost-: 3251.4591918629876\n",
      "Cost-: 3220.106034642122\n",
      "Cost-: 3189.9247449685463\n",
      "Cost-: 3160.884391687316\n",
      "Cost-: 3132.954777716401\n",
      "Cost-: 3106.1064233730735\n",
      "Cost-: 3080.3105500714482\n",
      "Cost-: 3055.5390643830438\n",
      "Cost-: 3031.764542452285\n",
      "Cost-: 3008.9602147591986\n",
      "Cost-: 2987.0999512215867\n",
      "Cost-: 2966.1582466292266\n",
      "Cost-: 2946.110206402746\n",
      "Cost-: 2926.931532670035\n",
      "Cost-: 2908.5985106531743\n",
      "Cost-: 2891.0879953590293\n",
      "Cost-: 2874.377398566816\n",
      "Cost-: 2858.4446761060713\n",
      "Cost-: 2843.2683154186357\n",
      "Cost-: 2828.8273233983577\n",
      "Cost-: 2815.101214502405\n",
      "Cost-: 2802.0699991281767\n",
      "Cost-: 2789.714172249948\n",
      "Cost-: 2778.0147023095205\n",
      "Cost-: 2766.9530203552567\n",
      "Cost-: 2756.511009424021\n",
      "Cost-: 2746.6709941606478\n",
      "Cost-: 2737.4157306696998\n",
      "Cost-: 2728.728396594374\n",
      "Cost-: 2720.5925814175353\n",
      "Cost-: 2712.992276979979\n",
      "Cost-: 2705.911868211091\n",
      "Cost-: 2699.3361240672452\n",
      "Cost-: 2693.250188673311\n",
      "Cost-: 2687.639572662799\n",
      "Cost-: 2682.4901447122384\n",
      "Cost-: 2677.7881232655\n",
      "Cost-: 2673.5200684438414\n",
      "Cost-: 2669.6728741375928\n",
      "Cost-: 2666.2337602754287\n",
      "Cost-: 2663.1902652673252\n",
      "Cost-: 2660.5302386173344\n",
      "Cost-: 2658.2418337024237\n",
      "Cost-: 2656.3135007137034\n",
      "Cost-: 2654.733979756441\n",
      "Cost-: 2653.492294105341\n",
      "Cost-: 2652.5777436116623\n",
      "Cost-: 2651.9798982587868\n",
      "Cost-: 2651.6885918629687\n",
      "Cost-: 2651.6939159160383\n",
      "Cost-: 2651.9862135668936\n",
      "Cost-: 2652.5560737387414\n",
      "Cost-: 2653.3943253790358\n",
      "[2.58250195 3.05246342 3.75740561] 0.2349807304855439\n"
     ]
    }
   ],
   "source": [
    "data=np.loadtxt('data.csv',delimiter=',',encoding='utf-8-sig')\n",
    "#data\n",
    "learning_rate=0.00001\n",
    "num_iterations=109\n",
    "m,c=gd(data,num_iterations,learning_rate)\n",
    "print(m,c)"
   ]
  },
  {
   "cell_type": "code",
   "execution_count": 50,
   "metadata": {},
   "outputs": [
    {
     "data": {
      "text/plain": [
       "array([[10., 12., 15., 45.],\n",
       "       [11., 13., 16., 46.],\n",
       "       [12., 14., 17., 47.]])"
      ]
     },
     "execution_count": 50,
     "metadata": {},
     "output_type": "execute_result"
    }
   ],
   "source": [
    "npdata=np.loadtxt('data.csv',delimiter=',',encoding='utf-8-sig')\n",
    "npdata"
   ]
  },
  {
   "cell_type": "code",
   "execution_count": 59,
   "metadata": {},
   "outputs": [
    {
     "data": {
      "text/plain": [
       "array([[10., 12., 15.],\n",
       "       [11., 13., 16.],\n",
       "       [12., 14., 17.]])"
      ]
     },
     "execution_count": 59,
     "metadata": {},
     "output_type": "execute_result"
    }
   ],
   "source": [
    "x=npdata[:,:3]\n",
    "y=npdata[:,3]\n",
    "x"
   ]
  },
  {
   "cell_type": "code",
   "execution_count": 60,
   "metadata": {},
   "outputs": [
    {
     "data": {
      "text/html": [
       "<style>#sk-container-id-2 {color: black;background-color: white;}#sk-container-id-2 pre{padding: 0;}#sk-container-id-2 div.sk-toggleable {background-color: white;}#sk-container-id-2 label.sk-toggleable__label {cursor: pointer;display: block;width: 100%;margin-bottom: 0;padding: 0.3em;box-sizing: border-box;text-align: center;}#sk-container-id-2 label.sk-toggleable__label-arrow:before {content: \"▸\";float: left;margin-right: 0.25em;color: #696969;}#sk-container-id-2 label.sk-toggleable__label-arrow:hover:before {color: black;}#sk-container-id-2 div.sk-estimator:hover label.sk-toggleable__label-arrow:before {color: black;}#sk-container-id-2 div.sk-toggleable__content {max-height: 0;max-width: 0;overflow: hidden;text-align: left;background-color: #f0f8ff;}#sk-container-id-2 div.sk-toggleable__content pre {margin: 0.2em;color: black;border-radius: 0.25em;background-color: #f0f8ff;}#sk-container-id-2 input.sk-toggleable__control:checked~div.sk-toggleable__content {max-height: 200px;max-width: 100%;overflow: auto;}#sk-container-id-2 input.sk-toggleable__control:checked~label.sk-toggleable__label-arrow:before {content: \"▾\";}#sk-container-id-2 div.sk-estimator input.sk-toggleable__control:checked~label.sk-toggleable__label {background-color: #d4ebff;}#sk-container-id-2 div.sk-label input.sk-toggleable__control:checked~label.sk-toggleable__label {background-color: #d4ebff;}#sk-container-id-2 input.sk-hidden--visually {border: 0;clip: rect(1px 1px 1px 1px);clip: rect(1px, 1px, 1px, 1px);height: 1px;margin: -1px;overflow: hidden;padding: 0;position: absolute;width: 1px;}#sk-container-id-2 div.sk-estimator {font-family: monospace;background-color: #f0f8ff;border: 1px dotted black;border-radius: 0.25em;box-sizing: border-box;margin-bottom: 0.5em;}#sk-container-id-2 div.sk-estimator:hover {background-color: #d4ebff;}#sk-container-id-2 div.sk-parallel-item::after {content: \"\";width: 100%;border-bottom: 1px solid gray;flex-grow: 1;}#sk-container-id-2 div.sk-label:hover label.sk-toggleable__label {background-color: #d4ebff;}#sk-container-id-2 div.sk-serial::before {content: \"\";position: absolute;border-left: 1px solid gray;box-sizing: border-box;top: 0;bottom: 0;left: 50%;z-index: 0;}#sk-container-id-2 div.sk-serial {display: flex;flex-direction: column;align-items: center;background-color: white;padding-right: 0.2em;padding-left: 0.2em;position: relative;}#sk-container-id-2 div.sk-item {position: relative;z-index: 1;}#sk-container-id-2 div.sk-parallel {display: flex;align-items: stretch;justify-content: center;background-color: white;position: relative;}#sk-container-id-2 div.sk-item::before, #sk-container-id-2 div.sk-parallel-item::before {content: \"\";position: absolute;border-left: 1px solid gray;box-sizing: border-box;top: 0;bottom: 0;left: 50%;z-index: -1;}#sk-container-id-2 div.sk-parallel-item {display: flex;flex-direction: column;z-index: 1;position: relative;background-color: white;}#sk-container-id-2 div.sk-parallel-item:first-child::after {align-self: flex-end;width: 50%;}#sk-container-id-2 div.sk-parallel-item:last-child::after {align-self: flex-start;width: 50%;}#sk-container-id-2 div.sk-parallel-item:only-child::after {width: 0;}#sk-container-id-2 div.sk-dashed-wrapped {border: 1px dashed gray;margin: 0 0.4em 0.5em 0.4em;box-sizing: border-box;padding-bottom: 0.4em;background-color: white;}#sk-container-id-2 div.sk-label label {font-family: monospace;font-weight: bold;display: inline-block;line-height: 1.2em;}#sk-container-id-2 div.sk-label-container {text-align: center;}#sk-container-id-2 div.sk-container {/* jupyter's `normalize.less` sets `[hidden] { display: none; }` but bootstrap.min.css set `[hidden] { display: none !important; }` so we also need the `!important` here to be able to override the default hidden behavior on the sphinx rendered scikit-learn.org. See: https://github.com/scikit-learn/scikit-learn/issues/21755 */display: inline-block !important;position: relative;}#sk-container-id-2 div.sk-text-repr-fallback {display: none;}</style><div id=\"sk-container-id-2\" class=\"sk-top-container\"><div class=\"sk-text-repr-fallback\"><pre>LinearRegression()</pre><b>In a Jupyter environment, please rerun this cell to show the HTML representation or trust the notebook. <br />On GitHub, the HTML representation is unable to render, please try loading this page with nbviewer.org.</b></div><div class=\"sk-container\" hidden><div class=\"sk-item\"><div class=\"sk-estimator sk-toggleable\"><input class=\"sk-toggleable__control sk-hidden--visually\" id=\"sk-estimator-id-2\" type=\"checkbox\" checked><label for=\"sk-estimator-id-2\" class=\"sk-toggleable__label sk-toggleable__label-arrow\">LinearRegression</label><div class=\"sk-toggleable__content\"><pre>LinearRegression()</pre></div></div></div></div></div>"
      ],
      "text/plain": [
       "LinearRegression()"
      ]
     },
     "execution_count": 60,
     "metadata": {},
     "output_type": "execute_result"
    }
   ],
   "source": [
    "reg1=LinearRegression()\n",
    "reg1.fit(x,y)"
   ]
  },
  {
   "cell_type": "code",
   "execution_count": 67,
   "metadata": {},
   "outputs": [
    {
     "data": {
      "text/plain": [
       "(array([0.33333333, 0.33333333, 0.33333333]), 32.66666666666667)"
      ]
     },
     "execution_count": 67,
     "metadata": {},
     "output_type": "execute_result"
    }
   ],
   "source": [
    "reg1.coef_,reg1.intercept_"
   ]
  },
  {
   "cell_type": "code",
   "execution_count": null,
   "metadata": {},
   "outputs": [],
   "source": []
  }
 ],
 "metadata": {
  "kernelspec": {
   "display_name": "base",
   "language": "python",
   "name": "python3"
  },
  "language_info": {
   "codemirror_mode": {
    "name": "ipython",
    "version": 3
   },
   "file_extension": ".py",
   "mimetype": "text/x-python",
   "name": "python",
   "nbconvert_exporter": "python",
   "pygments_lexer": "ipython3",
   "version": "3.10.9"
  },
  "orig_nbformat": 4
 },
 "nbformat": 4,
 "nbformat_minor": 2
}
