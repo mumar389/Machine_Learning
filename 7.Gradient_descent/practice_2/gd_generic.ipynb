{
 "cells": [
  {
   "cell_type": "markdown",
   "metadata": {},
   "source": [
    "**Implementing Gradient Descent for n featrue data set. df will be of (m*n)**"
   ]
  },
  {
   "cell_type": "code",
   "execution_count": 114,
   "metadata": {},
   "outputs": [],
   "source": [
    "import pandas as pd\n",
    "import numpy as np\n",
    "from sklearn.linear_model import LinearRegression"
   ]
  },
  {
   "cell_type": "code",
   "execution_count": 115,
   "metadata": {},
   "outputs": [],
   "source": [
    "def slope(data,y,row,col,m,j):\n",
    "    m_slope=0\n",
    "    M=len(data)\n",
    "    for i in range(row):\n",
    "        y1=y[i]\n",
    "        for k in range(col):\n",
    "            m_slope+=(-2/M)*(y1-(m[k]*data[i][k]))*data[i][j]\n",
    "    return m_slope        "
   ]
  },
  {
   "cell_type": "code",
   "execution_count": 116,
   "metadata": {},
   "outputs": [],
   "source": [
    "def step_gd(data,y,row,col,m,lr):\n",
    "    # x=data[:,:3]\n",
    "    m_new=np.zeros(col)\n",
    "    for j in range(col):\n",
    "        m_new[j]=m[j]-lr*slope(data,y,row,col,m,j)\n",
    "    return m_new    \n"
   ]
  },
  {
   "cell_type": "code",
   "execution_count": 117,
   "metadata": {},
   "outputs": [],
   "source": [
    "def cost(data,y,m,row,col):\n",
    "    M=len(data)\n",
    "    total_cost=0\n",
    "    for i in range(row):\n",
    "        for j in range(col):\n",
    "            total_cost+=(1/M)*(((y[i])-m[j]*data[i][j])**2)\n",
    "    return total_cost"
   ]
  },
  {
   "cell_type": "code",
   "execution_count": 118,
   "metadata": {},
   "outputs": [],
   "source": [
    "def gd(data,it,lr):\n",
    "    row,col=data.shape\n",
    "    m=np.zeros(col)\n",
    "    y=data[:,col-1].copy()\n",
    "    data[:,col-1]=np.ones(row)\n",
    "    for i in range(it):\n",
    "      m=step_gd(data,y,row,col,m,lr)\n",
    "      print(\"Cost-:\",cost(data,y,m,row,col))\n",
    "    return m[:col-1],m[col-1]    \n",
    "    "
   ]
  },
  {
   "cell_type": "code",
   "execution_count": 125,
   "metadata": {},
   "outputs": [
    {
     "name": "stdout",
     "output_type": "stream",
     "text": [
      "Cost-: 8387.315340487983\n",
      "Cost-: 8386.919041229705\n",
      "Cost-: 8386.522870019899\n",
      "Cost-: 8386.126826843329\n",
      "Cost-: 8385.73091168463\n",
      "Cost-: 8385.335124528627\n",
      "Cost-: 8384.939465359987\n",
      "Cost-: 8384.543934163406\n",
      "Cost-: 8384.14853092365\n",
      "Cost-: 8383.753255625525\n",
      "Cost-: 8383.35810825364\n",
      "Cost-: 8382.963088792818\n",
      "Cost-: 8382.56819722783\n",
      "Cost-: 8382.173433543308\n",
      "Cost-: 8381.778797724066\n",
      "Cost-: 8381.384289754875\n",
      "Cost-: 8380.989909620472\n",
      "Cost-: 8380.595657305628\n",
      "Cost-: 8380.20153279508\n",
      "Cost-: 8379.807536073584\n",
      "Cost-: 8379.413667125937\n",
      "Cost-: 8379.019925936856\n",
      "Cost-: 8378.62631249116\n",
      "Cost-: 8378.232826773583\n",
      "Cost-: 8377.839468769012\n",
      "Cost-: 8377.4462384621\n",
      "Cost-: 8377.053135837656\n",
      "Cost-: 8376.660160880472\n",
      "Cost-: 8376.267313575407\n",
      "Cost-: 8375.874593907138\n",
      "Cost-: 8375.482001860522\n",
      "Cost-: 8375.089537420345\n",
      "Cost-: 8374.697200571425\n",
      "Cost-: 8374.30499129855\n",
      "Cost-: 8373.91290958655\n",
      "Cost-: 8373.52095542016\n",
      "Cost-: 8373.129128784232\n",
      "Cost-: 8372.73742966361\n",
      "Cost-: 8372.345858043072\n",
      "Cost-: 8371.95441390749\n",
      "Cost-: 8371.563097241595\n",
      "Cost-: 8371.171908030306\n",
      "Cost-: 8370.780846258376\n",
      "Cost-: 8370.389911910657\n",
      "Cost-: 8369.999104972054\n",
      "Cost-: 8369.608425427321\n",
      "Cost-: 8369.217873261314\n",
      "Cost-: 8368.827448458887\n",
      "[-0.04349558  0.04033088 -0.05083916  0.03185236 -0.04361672  0.09448897\n",
      " -0.03250843  0.0296872  -0.03190064 -0.04399665 -0.05633493  0.03727243\n",
      " -0.08936763] 0.3037325540513157\n"
     ]
    }
   ],
   "source": [
    "data_train=np.loadtxt('train.csv',delimiter=',',encoding='utf-8-sig')\n",
    "learning_rate=0.00001\n",
    "num_iterations=48\n",
    "m,c=gd(data_train,num_iterations,learning_rate)\n",
    "print(m,c)"
   ]
  },
  {
   "cell_type": "code",
   "execution_count": 149,
   "metadata": {},
   "outputs": [],
   "source": [
    "def predict(data,m,c):\n",
    "    y_pred=np.zeros(len(data))\n",
    "    for i in range(len(data)):\n",
    "        y_pred[i]=((m*x[i,:]).sum()+c)\n",
    "    return y_pred    "
   ]
  },
  {
   "cell_type": "code",
   "execution_count": 147,
   "metadata": {},
   "outputs": [],
   "source": [
    "x_test=np.loadtxt('test.csv',delimiter=',',encoding='utf-8-sig')"
   ]
  },
  {
   "cell_type": "code",
   "execution_count": 150,
   "metadata": {},
   "outputs": [],
   "source": [
    "y_pred=predict(x_test,m,c)"
   ]
  },
  {
   "cell_type": "code",
   "execution_count": 152,
   "metadata": {},
   "outputs": [
    {
     "data": {
      "text/plain": [
       "array([ 0.66778385,  0.43266257, -0.30928953, -0.09785898,  0.46067581,\n",
       "        0.91077189,  0.04254694,  0.12189817,  0.50868144,  1.10909237,\n",
       "        0.49053078,  0.34936128,  0.92418278,  0.22677112,  0.02386365,\n",
       "       -0.08214239,  0.42017409,  0.34643872,  0.31742481,  0.88778188,\n",
       "        0.39396666,  0.71327749,  0.90335174,  0.63413931,  0.13283672,\n",
       "        0.30452559, -0.32348526,  0.66408344,  0.72682315,  0.83153736,\n",
       "        0.28467021, -0.04480647,  0.75733062,  0.39419373,  0.74044907,\n",
       "       -0.69050275, -0.41351703, -0.01458797,  0.7271493 ,  0.44085232,\n",
       "        0.23307144,  0.30336988,  0.41596248, -0.51618294,  0.11706346,\n",
       "       -0.13333293,  0.40244849,  0.372526  , -0.22863938, -0.29137071,\n",
       "       -0.27490195,  0.21032562,  0.41244852,  0.76834175,  0.79036702,\n",
       "       -0.32298618,  0.57712371, -0.16955976,  0.70254572,  0.83945034,\n",
       "       -0.053394  ,  0.06634019,  0.89320571, -0.29079394,  0.11522159,\n",
       "        0.69165903,  0.40123704, -0.02613338, -0.17200043,  1.35457149,\n",
       "        0.07915804,  0.52503616, -0.36790056,  0.3977845 ,  0.43822346,\n",
       "        0.3898228 , -0.26791905,  0.68366021, -0.58851776,  0.57558166,\n",
       "        0.48019286,  0.89032855,  0.76101979,  0.4025378 , -0.27984071,\n",
       "       -0.04097079, -0.29862802, -0.15457187,  0.20685604, -0.09856494,\n",
       "       -0.0627659 ,  0.5496703 , -0.05333545,  0.57654468,  0.625123  ,\n",
       "        0.63973085,  0.18110153,  0.53493774,  1.06705364,  0.73532653,\n",
       "        0.11430236,  0.29059061,  0.71325516, -0.14355902,  0.68004119,\n",
       "       -0.32719184,  0.44484968,  0.12697981,  0.6499588 , -0.02721189,\n",
       "        0.4600337 ,  0.24317715,  0.02471963, -0.0119083 ,  0.01502899,\n",
       "        0.43672122,  0.41216123, -0.31418869, -0.29898562, -0.04502049,\n",
       "        0.56067386,  0.81917029,  0.53221847,  0.23147685,  0.85201954,\n",
       "        0.69905781,  0.02654506])"
      ]
     },
     "execution_count": 152,
     "metadata": {},
     "output_type": "execute_result"
    }
   ],
   "source": [
    "y_pred"
   ]
  },
  {
   "cell_type": "code",
   "execution_count": 129,
   "metadata": {},
   "outputs": [
    {
     "data": {
      "text/plain": [
       "(379, 14)"
      ]
     },
     "execution_count": 129,
     "metadata": {},
     "output_type": "execute_result"
    }
   ],
   "source": [
    "npdata=np.loadtxt('train.csv',delimiter=',',encoding='utf-8-sig')\n",
    "test_data=np.loadtxt('test.csv',delimiter=',',encoding='utf-8-sig')\n",
    "npdata.shape"
   ]
  },
  {
   "cell_type": "code",
   "execution_count": 140,
   "metadata": {},
   "outputs": [],
   "source": [
    "row,col=npdata.shape\n",
    "x_in=npdata[:,:col-1]\n",
    "y_in=npdata[:,col-1]"
   ]
  },
  {
   "cell_type": "code",
   "execution_count": 135,
   "metadata": {},
   "outputs": [
    {
     "data": {
      "text/plain": [
       "(127, 13)"
      ]
     },
     "execution_count": 135,
     "metadata": {},
     "output_type": "execute_result"
    }
   ],
   "source": [
    "test_data.shape"
   ]
  },
  {
   "cell_type": "code",
   "execution_count": 141,
   "metadata": {},
   "outputs": [
    {
     "data": {
      "text/html": [
       "<style>#sk-container-id-5 {color: black;background-color: white;}#sk-container-id-5 pre{padding: 0;}#sk-container-id-5 div.sk-toggleable {background-color: white;}#sk-container-id-5 label.sk-toggleable__label {cursor: pointer;display: block;width: 100%;margin-bottom: 0;padding: 0.3em;box-sizing: border-box;text-align: center;}#sk-container-id-5 label.sk-toggleable__label-arrow:before {content: \"▸\";float: left;margin-right: 0.25em;color: #696969;}#sk-container-id-5 label.sk-toggleable__label-arrow:hover:before {color: black;}#sk-container-id-5 div.sk-estimator:hover label.sk-toggleable__label-arrow:before {color: black;}#sk-container-id-5 div.sk-toggleable__content {max-height: 0;max-width: 0;overflow: hidden;text-align: left;background-color: #f0f8ff;}#sk-container-id-5 div.sk-toggleable__content pre {margin: 0.2em;color: black;border-radius: 0.25em;background-color: #f0f8ff;}#sk-container-id-5 input.sk-toggleable__control:checked~div.sk-toggleable__content {max-height: 200px;max-width: 100%;overflow: auto;}#sk-container-id-5 input.sk-toggleable__control:checked~label.sk-toggleable__label-arrow:before {content: \"▾\";}#sk-container-id-5 div.sk-estimator input.sk-toggleable__control:checked~label.sk-toggleable__label {background-color: #d4ebff;}#sk-container-id-5 div.sk-label input.sk-toggleable__control:checked~label.sk-toggleable__label {background-color: #d4ebff;}#sk-container-id-5 input.sk-hidden--visually {border: 0;clip: rect(1px 1px 1px 1px);clip: rect(1px, 1px, 1px, 1px);height: 1px;margin: -1px;overflow: hidden;padding: 0;position: absolute;width: 1px;}#sk-container-id-5 div.sk-estimator {font-family: monospace;background-color: #f0f8ff;border: 1px dotted black;border-radius: 0.25em;box-sizing: border-box;margin-bottom: 0.5em;}#sk-container-id-5 div.sk-estimator:hover {background-color: #d4ebff;}#sk-container-id-5 div.sk-parallel-item::after {content: \"\";width: 100%;border-bottom: 1px solid gray;flex-grow: 1;}#sk-container-id-5 div.sk-label:hover label.sk-toggleable__label {background-color: #d4ebff;}#sk-container-id-5 div.sk-serial::before {content: \"\";position: absolute;border-left: 1px solid gray;box-sizing: border-box;top: 0;bottom: 0;left: 50%;z-index: 0;}#sk-container-id-5 div.sk-serial {display: flex;flex-direction: column;align-items: center;background-color: white;padding-right: 0.2em;padding-left: 0.2em;position: relative;}#sk-container-id-5 div.sk-item {position: relative;z-index: 1;}#sk-container-id-5 div.sk-parallel {display: flex;align-items: stretch;justify-content: center;background-color: white;position: relative;}#sk-container-id-5 div.sk-item::before, #sk-container-id-5 div.sk-parallel-item::before {content: \"\";position: absolute;border-left: 1px solid gray;box-sizing: border-box;top: 0;bottom: 0;left: 50%;z-index: -1;}#sk-container-id-5 div.sk-parallel-item {display: flex;flex-direction: column;z-index: 1;position: relative;background-color: white;}#sk-container-id-5 div.sk-parallel-item:first-child::after {align-self: flex-end;width: 50%;}#sk-container-id-5 div.sk-parallel-item:last-child::after {align-self: flex-start;width: 50%;}#sk-container-id-5 div.sk-parallel-item:only-child::after {width: 0;}#sk-container-id-5 div.sk-dashed-wrapped {border: 1px dashed gray;margin: 0 0.4em 0.5em 0.4em;box-sizing: border-box;padding-bottom: 0.4em;background-color: white;}#sk-container-id-5 div.sk-label label {font-family: monospace;font-weight: bold;display: inline-block;line-height: 1.2em;}#sk-container-id-5 div.sk-label-container {text-align: center;}#sk-container-id-5 div.sk-container {/* jupyter's `normalize.less` sets `[hidden] { display: none; }` but bootstrap.min.css set `[hidden] { display: none !important; }` so we also need the `!important` here to be able to override the default hidden behavior on the sphinx rendered scikit-learn.org. See: https://github.com/scikit-learn/scikit-learn/issues/21755 */display: inline-block !important;position: relative;}#sk-container-id-5 div.sk-text-repr-fallback {display: none;}</style><div id=\"sk-container-id-5\" class=\"sk-top-container\"><div class=\"sk-text-repr-fallback\"><pre>LinearRegression()</pre><b>In a Jupyter environment, please rerun this cell to show the HTML representation or trust the notebook. <br />On GitHub, the HTML representation is unable to render, please try loading this page with nbviewer.org.</b></div><div class=\"sk-container\" hidden><div class=\"sk-item\"><div class=\"sk-estimator sk-toggleable\"><input class=\"sk-toggleable__control sk-hidden--visually\" id=\"sk-estimator-id-5\" type=\"checkbox\" checked><label for=\"sk-estimator-id-5\" class=\"sk-toggleable__label sk-toggleable__label-arrow\">LinearRegression</label><div class=\"sk-toggleable__content\"><pre>LinearRegression()</pre></div></div></div></div></div>"
      ],
      "text/plain": [
       "LinearRegression()"
      ]
     },
     "execution_count": 141,
     "metadata": {},
     "output_type": "execute_result"
    }
   ],
   "source": [
    "reg1=LinearRegression()\n",
    "reg1.fit(x_in,y_in)"
   ]
  },
  {
   "cell_type": "code",
   "execution_count": 142,
   "metadata": {},
   "outputs": [
    {
     "data": {
      "text/plain": [
       "(array([-0.93808077,  0.74103443,  0.01169157,  0.78087372, -2.1745575 ,\n",
       "         2.35429653,  0.1233381 , -2.95232355,  2.53296817, -1.7029037 ,\n",
       "        -2.25151962,  0.58835429, -4.26368155]),\n",
       " 22.677233263858266)"
      ]
     },
     "execution_count": 142,
     "metadata": {},
     "output_type": "execute_result"
    }
   ],
   "source": [
    "reg1.coef_,reg1.intercept_"
   ]
  },
  {
   "cell_type": "code",
   "execution_count": 143,
   "metadata": {},
   "outputs": [],
   "source": [
    "y_in_pred=reg1.predict(test_data)"
   ]
  },
  {
   "cell_type": "code",
   "execution_count": 144,
   "metadata": {},
   "outputs": [
    {
     "data": {
      "text/plain": [
       "array([12.43328344, 29.03367318, 22.37164455, 24.47778655, 20.60166977,\n",
       "        2.72533175, 30.40000409, 24.86120042, 18.65724977, 23.53985838,\n",
       "       24.11396872, 17.71143854, 17.44000298, 21.65356278, 42.31137694,\n",
       "       23.84974493, 24.47573232, 27.53872655, 20.23606694, 31.15155453,\n",
       "       23.78237904, 25.00979443, 33.95768541, 36.43515649, 32.04098329,\n",
       "       16.71322632, 23.47176611, 32.93828009, 25.1807008 , 33.71008685,\n",
       "       16.88580202, 26.02760837, 23.27040025, 25.47758968, 15.00946631,\n",
       "       29.5857494 , 26.24821245, 20.37245654, 24.43681498,  9.44706894,\n",
       "        8.38096654, 29.01392345, 29.59085403, 19.7575697 , 20.3719679 ,\n",
       "        3.14442625, 39.52420118, 25.71741222, 30.37729628, 16.79453264,\n",
       "       17.89088652, 41.02574533, 17.57238787, 20.89662584, 15.59837696,\n",
       "       21.41394912, 18.4543645 , 23.1557639 , 13.67245022, 17.23573882,\n",
       "       15.02710365, 29.15131353, 25.17166386, 25.49749375, 17.21186687,\n",
       "       17.42936995, 34.70372763, 17.01340803, 27.10724289, 22.54695733,\n",
       "       29.25336918, 27.11018136, 17.73402192,  5.74704758, 36.87653877,\n",
       "       25.09193905, 30.15053651, 27.24080949, 16.2521844 , 32.63542161,\n",
       "       19.2735139 , 22.65416762, 22.22935077,  8.55084956, 17.33054362,\n",
       "       29.17591713, 27.20836198,  5.88576932, 21.91465626, 20.1154985 ,\n",
       "       22.17673963, 20.52700516, 20.85181227, 13.18132049, 19.69404919,\n",
       "       25.98666769, 40.27067742, 19.77706447, 33.70256574, 27.22074149,\n",
       "       28.74517137, 22.11543887, 25.9135196 , 31.30678414, 17.15297459,\n",
       "       26.37137846, 21.44656977, 36.73924503, 22.08272916, 16.70906176,\n",
       "       27.59458133, -0.05974722, 13.86188045, 16.28772152, 35.77134424,\n",
       "       20.85214459, 20.77286833, 25.35136054, 21.78782121, 18.84720303,\n",
       "       13.5148908 , 35.61958302, 23.09139597, 25.01812898, 17.46493171,\n",
       "       20.73709865, 14.72993727])"
      ]
     },
     "execution_count": 144,
     "metadata": {},
     "output_type": "execute_result"
    }
   ],
   "source": [
    "y_in_pred"
   ]
  },
  {
   "cell_type": "code",
   "execution_count": 146,
   "metadata": {},
   "outputs": [
    {
     "data": {
      "text/plain": [
       "1.0"
      ]
     },
     "execution_count": 146,
     "metadata": {},
     "output_type": "execute_result"
    }
   ],
   "source": [
    "reg1.score(test_data,y_in_pred)"
   ]
  }
 ],
 "metadata": {
  "kernelspec": {
   "display_name": "base",
   "language": "python",
   "name": "python3"
  },
  "language_info": {
   "codemirror_mode": {
    "name": "ipython",
    "version": 3
   },
   "file_extension": ".py",
   "mimetype": "text/x-python",
   "name": "python",
   "nbconvert_exporter": "python",
   "pygments_lexer": "ipython3",
   "version": "3.10.9"
  },
  "orig_nbformat": 4
 },
 "nbformat": 4,
 "nbformat_minor": 2
}
