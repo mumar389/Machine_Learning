{
 "cells": [
  {
   "cell_type": "markdown",
   "metadata": {},
   "source": [
    "**Implementing Gradient Descent for n featrue data set. df will be of (m*n)**"
   ]
  },
  {
   "cell_type": "code",
   "execution_count": 28,
   "metadata": {},
   "outputs": [],
   "source": [
    "import pandas as pd\n",
    "import numpy as np\n",
    "from sklearn.linear_model import LinearRegression"
   ]
  },
  {
   "cell_type": "code",
   "execution_count": 29,
   "metadata": {},
   "outputs": [],
   "source": [
    "def slope(data,y,row,col,m,j):\n",
    "    m_slope=0\n",
    "    M=len(data)\n",
    "    for i in range(row):\n",
    "        y1=y[i]\n",
    "        for k in range(col):\n",
    "            m_slope+=(-2/M)*(y1-(m[k]*data[i][k]))*data[i][j]\n",
    "    return m_slope        "
   ]
  },
  {
   "cell_type": "code",
   "execution_count": 30,
   "metadata": {},
   "outputs": [],
   "source": [
    "def step_gd(data,y,row,col,m,lr):\n",
    "    # x=data[:,:3]\n",
    "    m_new=np.zeros(col)\n",
    "    for j in range(col):\n",
    "        m_new[j]=m[j]-lr*slope(data,y,row,col,m,j)\n",
    "    return m_new    \n"
   ]
  },
  {
   "cell_type": "code",
   "execution_count": 31,
   "metadata": {},
   "outputs": [],
   "source": [
    "def cost(data,y,m,row,col):\n",
    "    M=len(data)\n",
    "    total_cost=0\n",
    "    for i in range(row):\n",
    "        for j in range(col):\n",
    "            total_cost+=(1/M)*(((y[i])-m[j]*data[i][j])**2)\n",
    "    return total_cost"
   ]
  },
  {
   "cell_type": "code",
   "execution_count": 32,
   "metadata": {},
   "outputs": [],
   "source": [
    "def gd(data,it,lr):\n",
    "    row,col=data.shape\n",
    "    m=np.zeros(col)\n",
    "    y=data[:,col-1].copy()\n",
    "    data[:,col-1]=np.ones(row)\n",
    "    for i in range(it):\n",
    "      m=step_gd(data,y,row,col,m,lr)\n",
    "      print(\"Cost-:\",cost(data,y,m,row,col))\n",
    "    return m[:col-1],m[col-1]    \n",
    "    "
   ]
  },
  {
   "cell_type": "code",
   "execution_count": 63,
   "metadata": {},
   "outputs": [
    {
     "name": "stdout",
     "output_type": "stream",
     "text": [
      "Cost-: 8348.622165251922\n",
      "Cost-: 8310.804014956142\n",
      "Cost-: 8274.242258750546\n",
      "Cost-: 8238.922116049456\n",
      "Cost-: 8204.829077317176\n",
      "Cost-: 8171.948897693787\n",
      "Cost-: 8140.267590778717\n",
      "Cost-: 8109.77142256835\n",
      "Cost-: 8080.446905543888\n",
      "Cost-: 8052.280792905574\n",
      "Cost-: 8025.2600729497235\n",
      "Cost-: 7999.371963585006\n",
      "Cost-: 7974.603906984475\n",
      "Cost-: 7950.943564370133\n",
      "Cost-: 7928.378810926447\n",
      "Cost-: 7906.897730839746\n",
      "Cost-: 7886.488612460464\n",
      "Cost-: 7867.139943585096\n",
      "Cost-: 7848.840406854739\n",
      "Cost-: 7831.578875267569\n",
      "Cost-: 7815.344407802293\n",
      "Cost-: 7800.126245149598\n",
      "Cost-: 7785.9138055496105\n",
      "Cost-: 7772.696680731697\n",
      "Cost-: 7760.464631954822\n",
      "Cost-: 7749.207586145922\n",
      "Cost-: 7738.91563213338\n",
      "Cost-: 7729.57901697353\n",
      "Cost-: 7721.188142368287\n",
      "Cost-: 7713.733561170558\n",
      "Cost-: 7707.205973976424\n",
      "Cost-: 7701.5962258011095\n",
      "Cost-: 7696.895302837154\n",
      "Cost-: 7693.094329292397\n",
      "Cost-: 7690.184564305776\n",
      "Cost-: 7688.157398939639\n",
      "Cost-: 7687.004353245584\n",
      "Cost-: 7686.7170734028805\n",
      "Cost-: 7687.2873289275085\n",
      "Cost-: 7688.70700994946\n",
      "[-2.92328988  2.66044708 -3.30172016  2.49752879 -2.78524539  7.0933029\n",
      " -1.95866613  1.65965674 -1.85635115 -2.7811666  -4.04075241  2.52970955\n",
      " -6.47030193] 24.379584157261334\n"
     ]
    }
   ],
   "source": [
    "data_train=np.loadtxt('train.csv',delimiter=',',encoding='utf-8-sig')\n",
    "learning_rate=0.001\n",
    "num_iterations=40\n",
    "m,c=gd(data_train,num_iterations,learning_rate)\n",
    "print(m,c)"
   ]
  },
  {
   "cell_type": "code",
   "execution_count": 34,
   "metadata": {},
   "outputs": [],
   "source": [
    "def predict(data,m,c):\n",
    "    y_pred=np.zeros(len(data))\n",
    "    for i in range(len(data)):\n",
    "        y_pred[i]=((m*data[i,:]).sum()+c)\n",
    "    return y_pred    "
   ]
  },
  {
   "cell_type": "code",
   "execution_count": 35,
   "metadata": {},
   "outputs": [],
   "source": [
    "x_test=np.loadtxt('test.csv',delimiter=',',encoding='utf-8-sig')"
   ]
  },
  {
   "cell_type": "code",
   "execution_count": 64,
   "metadata": {},
   "outputs": [],
   "source": [
    "y_pred=predict(x_test,m,c)"
   ]
  },
  {
   "cell_type": "code",
   "execution_count": 65,
   "metadata": {},
   "outputs": [
    {
     "data": {
      "text/plain": [
       "array([-27.2244541 ,  48.01151125,  23.02841602,  46.16125564,\n",
       "        22.45352301, -23.65033208,  45.53971476,  34.20732119,\n",
       "        19.82305334,  31.38677978,  38.98317507,  18.71438487,\n",
       "        35.97914519,  28.87885447,  63.16419209,  46.68189413,\n",
       "        38.95036825,  39.45667779,  39.74622007,  47.40152237,\n",
       "        25.25783716,  18.76158591,  36.63666346,  65.09542941,\n",
       "        70.73204006, -10.48038446,  24.09105081,  56.64836214,\n",
       "        29.70733885,  49.09667794,  18.78409551,  37.28528736,\n",
       "        27.81124618,  39.10344519, -12.9339052 ,  38.06784469,\n",
       "        45.32829607,  19.11195264,  43.46006678, -25.71188402,\n",
       "       -35.15515156,  50.40700674,  62.69078616,  11.67188758,\n",
       "         3.98966214, -41.73577013,  61.94308169,  32.90035339,\n",
       "        72.40854595,  -5.64716052,  -7.8692373 ,  81.491369  ,\n",
       "        -4.56571859,  18.9463964 ,  16.10868898,  31.32709055,\n",
       "        20.42820661,  31.9154953 ,  10.71012217,  -5.48171192,\n",
       "       -20.26988525,  37.98761422,  35.47279038,  38.71019243,\n",
       "        -8.42245794, -12.49183357,  51.31379418,  -6.1971963 ,\n",
       "        35.78744504,  12.09705367,  44.27583885,  22.48612377,\n",
       "         4.20162072, -35.71146325,  75.90000922,  40.46125398,\n",
       "        49.24129506,  44.5396625 , -11.17257695,  71.77301122,\n",
       "         0.32252615,  22.73053524,  36.45263962,   8.94532899,\n",
       "        -4.05177504,  54.71820233,  50.36282295, -32.67407093,\n",
       "        13.95843422,  -1.94836481,  33.17712322,  18.36049624,\n",
       "        18.15914197, -15.48001741,  25.07533735,  23.00839422,\n",
       "        82.28823076,   9.50867339,  66.61315536,  52.86415764,\n",
       "        35.0681979 ,  34.6748688 ,  41.06378032,  46.56468879,\n",
       "        -8.79353151,  37.34056169,  37.5441425 ,  79.1658744 ,\n",
       "        42.52499384, -12.11598569,  59.77027911, -47.17806003,\n",
       "         6.43525651, -14.42454877,  60.20483022,  15.52475863,\n",
       "        27.47593283,  35.83791887,  38.91194604,   5.69795581,\n",
       "        11.01369098,  59.37317066,  29.24574034,  36.38004917,\n",
       "        50.18297986,  17.94663272,  -5.03777504])"
      ]
     },
     "execution_count": 65,
     "metadata": {},
     "output_type": "execute_result"
    }
   ],
   "source": [
    "y_pred"
   ]
  },
  {
   "cell_type": "code",
   "execution_count": 38,
   "metadata": {},
   "outputs": [
    {
     "data": {
      "text/plain": [
       "(379, 14)"
      ]
     },
     "execution_count": 38,
     "metadata": {},
     "output_type": "execute_result"
    }
   ],
   "source": [
    "npdata=np.loadtxt('train.csv',delimiter=',',encoding='utf-8-sig')\n",
    "test_data=np.loadtxt('test.csv',delimiter=',',encoding='utf-8-sig')\n",
    "npdata.shape"
   ]
  },
  {
   "cell_type": "code",
   "execution_count": 39,
   "metadata": {},
   "outputs": [],
   "source": [
    "row,col=npdata.shape\n",
    "x_in=npdata[:,:col-1]\n",
    "y_in=npdata[:,col-1]"
   ]
  },
  {
   "cell_type": "code",
   "execution_count": 40,
   "metadata": {},
   "outputs": [
    {
     "data": {
      "text/plain": [
       "(127, 13)"
      ]
     },
     "execution_count": 40,
     "metadata": {},
     "output_type": "execute_result"
    }
   ],
   "source": [
    "test_data.shape"
   ]
  },
  {
   "cell_type": "code",
   "execution_count": 41,
   "metadata": {},
   "outputs": [
    {
     "data": {
      "text/html": [
       "<style>#sk-container-id-2 {color: black;background-color: white;}#sk-container-id-2 pre{padding: 0;}#sk-container-id-2 div.sk-toggleable {background-color: white;}#sk-container-id-2 label.sk-toggleable__label {cursor: pointer;display: block;width: 100%;margin-bottom: 0;padding: 0.3em;box-sizing: border-box;text-align: center;}#sk-container-id-2 label.sk-toggleable__label-arrow:before {content: \"▸\";float: left;margin-right: 0.25em;color: #696969;}#sk-container-id-2 label.sk-toggleable__label-arrow:hover:before {color: black;}#sk-container-id-2 div.sk-estimator:hover label.sk-toggleable__label-arrow:before {color: black;}#sk-container-id-2 div.sk-toggleable__content {max-height: 0;max-width: 0;overflow: hidden;text-align: left;background-color: #f0f8ff;}#sk-container-id-2 div.sk-toggleable__content pre {margin: 0.2em;color: black;border-radius: 0.25em;background-color: #f0f8ff;}#sk-container-id-2 input.sk-toggleable__control:checked~div.sk-toggleable__content {max-height: 200px;max-width: 100%;overflow: auto;}#sk-container-id-2 input.sk-toggleable__control:checked~label.sk-toggleable__label-arrow:before {content: \"▾\";}#sk-container-id-2 div.sk-estimator input.sk-toggleable__control:checked~label.sk-toggleable__label {background-color: #d4ebff;}#sk-container-id-2 div.sk-label input.sk-toggleable__control:checked~label.sk-toggleable__label {background-color: #d4ebff;}#sk-container-id-2 input.sk-hidden--visually {border: 0;clip: rect(1px 1px 1px 1px);clip: rect(1px, 1px, 1px, 1px);height: 1px;margin: -1px;overflow: hidden;padding: 0;position: absolute;width: 1px;}#sk-container-id-2 div.sk-estimator {font-family: monospace;background-color: #f0f8ff;border: 1px dotted black;border-radius: 0.25em;box-sizing: border-box;margin-bottom: 0.5em;}#sk-container-id-2 div.sk-estimator:hover {background-color: #d4ebff;}#sk-container-id-2 div.sk-parallel-item::after {content: \"\";width: 100%;border-bottom: 1px solid gray;flex-grow: 1;}#sk-container-id-2 div.sk-label:hover label.sk-toggleable__label {background-color: #d4ebff;}#sk-container-id-2 div.sk-serial::before {content: \"\";position: absolute;border-left: 1px solid gray;box-sizing: border-box;top: 0;bottom: 0;left: 50%;z-index: 0;}#sk-container-id-2 div.sk-serial {display: flex;flex-direction: column;align-items: center;background-color: white;padding-right: 0.2em;padding-left: 0.2em;position: relative;}#sk-container-id-2 div.sk-item {position: relative;z-index: 1;}#sk-container-id-2 div.sk-parallel {display: flex;align-items: stretch;justify-content: center;background-color: white;position: relative;}#sk-container-id-2 div.sk-item::before, #sk-container-id-2 div.sk-parallel-item::before {content: \"\";position: absolute;border-left: 1px solid gray;box-sizing: border-box;top: 0;bottom: 0;left: 50%;z-index: -1;}#sk-container-id-2 div.sk-parallel-item {display: flex;flex-direction: column;z-index: 1;position: relative;background-color: white;}#sk-container-id-2 div.sk-parallel-item:first-child::after {align-self: flex-end;width: 50%;}#sk-container-id-2 div.sk-parallel-item:last-child::after {align-self: flex-start;width: 50%;}#sk-container-id-2 div.sk-parallel-item:only-child::after {width: 0;}#sk-container-id-2 div.sk-dashed-wrapped {border: 1px dashed gray;margin: 0 0.4em 0.5em 0.4em;box-sizing: border-box;padding-bottom: 0.4em;background-color: white;}#sk-container-id-2 div.sk-label label {font-family: monospace;font-weight: bold;display: inline-block;line-height: 1.2em;}#sk-container-id-2 div.sk-label-container {text-align: center;}#sk-container-id-2 div.sk-container {/* jupyter's `normalize.less` sets `[hidden] { display: none; }` but bootstrap.min.css set `[hidden] { display: none !important; }` so we also need the `!important` here to be able to override the default hidden behavior on the sphinx rendered scikit-learn.org. See: https://github.com/scikit-learn/scikit-learn/issues/21755 */display: inline-block !important;position: relative;}#sk-container-id-2 div.sk-text-repr-fallback {display: none;}</style><div id=\"sk-container-id-2\" class=\"sk-top-container\"><div class=\"sk-text-repr-fallback\"><pre>LinearRegression()</pre><b>In a Jupyter environment, please rerun this cell to show the HTML representation or trust the notebook. <br />On GitHub, the HTML representation is unable to render, please try loading this page with nbviewer.org.</b></div><div class=\"sk-container\" hidden><div class=\"sk-item\"><div class=\"sk-estimator sk-toggleable\"><input class=\"sk-toggleable__control sk-hidden--visually\" id=\"sk-estimator-id-2\" type=\"checkbox\" checked><label for=\"sk-estimator-id-2\" class=\"sk-toggleable__label sk-toggleable__label-arrow\">LinearRegression</label><div class=\"sk-toggleable__content\"><pre>LinearRegression()</pre></div></div></div></div></div>"
      ],
      "text/plain": [
       "LinearRegression()"
      ]
     },
     "execution_count": 41,
     "metadata": {},
     "output_type": "execute_result"
    }
   ],
   "source": [
    "reg1=LinearRegression()\n",
    "reg1.fit(x_in,y_in)"
   ]
  },
  {
   "cell_type": "code",
   "execution_count": 42,
   "metadata": {},
   "outputs": [
    {
     "data": {
      "text/plain": [
       "(array([-0.93808077,  0.74103443,  0.01169157,  0.78087372, -2.1745575 ,\n",
       "         2.35429653,  0.1233381 , -2.95232355,  2.53296817, -1.7029037 ,\n",
       "        -2.25151962,  0.58835429, -4.26368155]),\n",
       " 22.677233263858266)"
      ]
     },
     "execution_count": 42,
     "metadata": {},
     "output_type": "execute_result"
    }
   ],
   "source": [
    "reg1.coef_,reg1.intercept_"
   ]
  },
  {
   "cell_type": "code",
   "execution_count": 43,
   "metadata": {},
   "outputs": [],
   "source": [
    "y_in_pred=reg1.predict(test_data)"
   ]
  },
  {
   "cell_type": "code",
   "execution_count": 44,
   "metadata": {},
   "outputs": [
    {
     "data": {
      "text/plain": [
       "array([12.43328344, 29.03367318, 22.37164455, 24.47778655, 20.60166977,\n",
       "        2.72533175, 30.40000409, 24.86120042, 18.65724977, 23.53985838,\n",
       "       24.11396872, 17.71143854, 17.44000298, 21.65356278, 42.31137694,\n",
       "       23.84974493, 24.47573232, 27.53872655, 20.23606694, 31.15155453,\n",
       "       23.78237904, 25.00979443, 33.95768541, 36.43515649, 32.04098329,\n",
       "       16.71322632, 23.47176611, 32.93828009, 25.1807008 , 33.71008685,\n",
       "       16.88580202, 26.02760837, 23.27040025, 25.47758968, 15.00946631,\n",
       "       29.5857494 , 26.24821245, 20.37245654, 24.43681498,  9.44706894,\n",
       "        8.38096654, 29.01392345, 29.59085403, 19.7575697 , 20.3719679 ,\n",
       "        3.14442625, 39.52420118, 25.71741222, 30.37729628, 16.79453264,\n",
       "       17.89088652, 41.02574533, 17.57238787, 20.89662584, 15.59837696,\n",
       "       21.41394912, 18.4543645 , 23.1557639 , 13.67245022, 17.23573882,\n",
       "       15.02710365, 29.15131353, 25.17166386, 25.49749375, 17.21186687,\n",
       "       17.42936995, 34.70372763, 17.01340803, 27.10724289, 22.54695733,\n",
       "       29.25336918, 27.11018136, 17.73402192,  5.74704758, 36.87653877,\n",
       "       25.09193905, 30.15053651, 27.24080949, 16.2521844 , 32.63542161,\n",
       "       19.2735139 , 22.65416762, 22.22935077,  8.55084956, 17.33054362,\n",
       "       29.17591713, 27.20836198,  5.88576932, 21.91465626, 20.1154985 ,\n",
       "       22.17673963, 20.52700516, 20.85181227, 13.18132049, 19.69404919,\n",
       "       25.98666769, 40.27067742, 19.77706447, 33.70256574, 27.22074149,\n",
       "       28.74517137, 22.11543887, 25.9135196 , 31.30678414, 17.15297459,\n",
       "       26.37137846, 21.44656977, 36.73924503, 22.08272916, 16.70906176,\n",
       "       27.59458133, -0.05974722, 13.86188045, 16.28772152, 35.77134424,\n",
       "       20.85214459, 20.77286833, 25.35136054, 21.78782121, 18.84720303,\n",
       "       13.5148908 , 35.61958302, 23.09139597, 25.01812898, 17.46493171,\n",
       "       20.73709865, 14.72993727])"
      ]
     },
     "execution_count": 44,
     "metadata": {},
     "output_type": "execute_result"
    }
   ],
   "source": [
    "y_in_pred"
   ]
  },
  {
   "cell_type": "code",
   "execution_count": 66,
   "metadata": {},
   "outputs": [
    {
     "data": {
      "text/plain": [
       "0.4158637166616541"
      ]
     },
     "execution_count": 66,
     "metadata": {},
     "output_type": "execute_result"
    }
   ],
   "source": [
    "reg1.score(x_test,y_pred)"
   ]
  }
 ],
 "metadata": {
  "kernelspec": {
   "display_name": "base",
   "language": "python",
   "name": "python3"
  },
  "language_info": {
   "codemirror_mode": {
    "name": "ipython",
    "version": 3
   },
   "file_extension": ".py",
   "mimetype": "text/x-python",
   "name": "python",
   "nbconvert_exporter": "python",
   "pygments_lexer": "ipython3",
   "version": "3.10.9"
  },
  "orig_nbformat": 4
 },
 "nbformat": 4,
 "nbformat_minor": 2
}
