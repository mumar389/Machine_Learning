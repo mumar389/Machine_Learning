{
 "cells": [
  {
   "cell_type": "code",
   "execution_count": 1,
   "metadata": {},
   "outputs": [],
   "source": [
    "import numpy as np\n",
    "import pandas as pd\n",
    "from sklearn.linear_model import LogisticRegression"
   ]
  },
  {
   "cell_type": "code",
   "execution_count": 5,
   "metadata": {},
   "outputs": [
    {
     "name": "stdout",
     "output_type": "stream",
     "text": [
      "(223, 7)\n"
     ]
    }
   ],
   "source": [
    "# data=np.loadtxt(\"train.csv\",delimiter=\"\")\n",
    "# data\n",
    "df=pd.read_csv(\"train.csv\")\n",
    "df = df.drop(['Ticket', 'Cabin','Name'], axis=1)\n",
    "def f(s):\n",
    "    if(s==\"male\"):\n",
    "        return 0\n",
    "    else:\n",
    "        return 1\n",
    "df['Sex']=df.Sex.apply(f)\n",
    "def final(s):\n",
    "    if(s=='S'):\n",
    "        return 0\n",
    "    elif(s=='C'):\n",
    "        return 1\n",
    "    else:\n",
    "        return 2\n",
    "df['Embarked']=df.Embarked.apply(final)\n",
    "df['Fare'].fillna(df['Fare'].dropna().median(), inplace=True)\n",
    "df['Age'].fillna(df['Age'].dropna().median(), inplace=True)\n",
    "# df\n",
    "x_train = df.drop(\"Survived\", axis=1)\n",
    "y_train = df[\"Survived\"]\n",
    "# data=np.array(df)\n",
    "# x_train=data[:,:10]\n",
    "# remove_cols=[1,2,3,6,7,8,9]\n",
    "# x_train=np.delete(x_train,remove_cols,axis=1)\n",
    "# y_train=data[:,10]\n",
    "print(x_train.shape)\n",
    "print(y_train.shape)\n",
    "# print(y_train.type)\n",
    "# print(type(y_train))\n",
    "# y_train=np.array(data[:,10])\n",
    "# print(type(data.shape))\n",
    "# print(df)\n"
   ]
  },
  {
   "cell_type": "code",
   "execution_count": null,
   "metadata": {},
   "outputs": [],
   "source": [
    "clf=LogisticRegression()\n",
    "clf.fit()"
   ]
  }
 ],
 "metadata": {
  "kernelspec": {
   "display_name": "base",
   "language": "python",
   "name": "python3"
  },
  "language_info": {
   "codemirror_mode": {
    "name": "ipython",
    "version": 3
   },
   "file_extension": ".py",
   "mimetype": "text/x-python",
   "name": "python",
   "nbconvert_exporter": "python",
   "pygments_lexer": "ipython3",
   "version": "3.10.9"
  },
  "orig_nbformat": 4
 },
 "nbformat": 4,
 "nbformat_minor": 2
}
